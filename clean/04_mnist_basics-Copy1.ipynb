{
 "cells": [
  {
   "cell_type": "code",
   "execution_count": 1,
   "metadata": {},
   "outputs": [],
   "source": [
    "#hide\n",
    "#!pip install -Uqq fastbook\n",
    "#import fastbook\n",
    "#fastbook.setup_book()"
   ]
  },
  {
   "cell_type": "code",
   "execution_count": 2,
   "metadata": {},
   "outputs": [],
   "source": [
    "#hide\n",
    "from fastai.vision.all import *\n",
    "from fastbook import *\n",
    "\n",
    "matplotlib.rc('image', cmap='Greys')"
   ]
  },
  {
   "cell_type": "markdown",
   "metadata": {},
   "source": [
    "# Under the Hood: Training a Digit Classifier"
   ]
  },
  {
   "cell_type": "markdown",
   "metadata": {},
   "source": [
    "## Pixels: The Foundations of Computer Vision"
   ]
  },
  {
   "cell_type": "markdown",
   "metadata": {},
   "source": [
    "## Sidebar: Tenacity and Deep Learning"
   ]
  },
  {
   "cell_type": "markdown",
   "metadata": {},
   "source": [
    "## End sidebar"
   ]
  },
  {
   "cell_type": "code",
   "execution_count": 3,
   "metadata": {},
   "outputs": [],
   "source": [
    "path = untar_data(URLs.MNIST_SAMPLE)"
   ]
  },
  {
   "cell_type": "markdown",
   "metadata": {},
   "source": [
    "`untar_data`check if the data is downloaded and unzipped"
   ]
  },
  {
   "cell_type": "code",
   "execution_count": 4,
   "metadata": {},
   "outputs": [],
   "source": [
    "#hide\n",
    "Path.BASE_PATH = path"
   ]
  },
  {
   "cell_type": "code",
   "execution_count": 5,
   "metadata": {
    "tags": []
   },
   "outputs": [],
   "source": [
    "# check the doc\n",
    "# doc(path.ls)"
   ]
  },
  {
   "cell_type": "code",
   "execution_count": 6,
   "metadata": {},
   "outputs": [
    {
     "data": {
      "text/plain": [
       "(#3) [Path('labels.csv'),Path('train'),Path('valid')]"
      ]
     },
     "execution_count": 6,
     "metadata": {},
     "output_type": "execute_result"
    }
   ],
   "source": [
    "path.ls()"
   ]
  },
  {
   "cell_type": "code",
   "execution_count": 7,
   "metadata": {},
   "outputs": [
    {
     "data": {
      "text/plain": [
       "(#2) [Path('train/7'),Path('train/3')]"
      ]
     },
     "execution_count": 7,
     "metadata": {},
     "output_type": "execute_result"
    }
   ],
   "source": [
    "(path/'train').ls()"
   ]
  },
  {
   "cell_type": "code",
   "execution_count": 8,
   "metadata": {},
   "outputs": [
    {
     "data": {
      "text/plain": [
       "(#6131) [Path('train/3/10.png'),Path('train/3/10000.png'),Path('train/3/10011.png'),Path('train/3/10031.png'),Path('train/3/10034.png'),Path('train/3/10042.png'),Path('train/3/10052.png'),Path('train/3/1007.png'),Path('train/3/10074.png'),Path('train/3/10091.png')...]"
      ]
     },
     "execution_count": 8,
     "metadata": {},
     "output_type": "execute_result"
    }
   ],
   "source": [
    "threes = (path/'train'/'3').ls().sorted()\n",
    "sevens = (path/'train'/'7').ls().sorted()\n",
    "threes"
   ]
  },
  {
   "cell_type": "code",
   "execution_count": 9,
   "metadata": {},
   "outputs": [
    {
     "data": {
      "image/png": "[encoded data removed]",
      "text/plain": [
       "<PIL.PngImagePlugin.PngImageFile image mode=L size=28x28 at 0x7F95D1887CD0>"
      ]
     },
     "execution_count": 9,
     "metadata": {},
     "output_type": "execute_result"
    }
   ],
   "source": [
    "im3_path = threes[1]\n",
    "im3 = Image.open(im3_path)\n",
    "im3"
   ]
  },
  {
   "cell_type": "code",
   "execution_count": 10,
   "metadata": {},
   "outputs": [
    {
     "data": {
      "text/plain": [
       "array([[  0,   0,   0,   0,   0,   0],\n",
       "       [  0,   0,   0,   0,   0,  29],\n",
       "       [  0,   0,   0,  48, 166, 224],\n",
       "       [  0,  93, 244, 249, 253, 187],\n",
       "       [  0, 107, 253, 253, 230,  48],\n",
       "       [  0,   3,  20,  20,  15,   0]], dtype=uint8)"
      ]
     },
     "execution_count": 10,
     "metadata": {},
     "output_type": "execute_result"
    }
   ],
   "source": [
    "array(im3)[4:10,4:10]"
   ]
  },
  {
   "cell_type": "code",
   "execution_count": 11,
   "metadata": {},
   "outputs": [
    {
     "data": {
      "text/plain": [
       "tensor([[  0,   0,   0,   0,   0,   0],\n",
       "        [  0,   0,   0,   0,   0,  29],\n",
       "        [  0,   0,   0,  48, 166, 224],\n",
       "        [  0,  93, 244, 249, 253, 187],\n",
       "        [  0, 107, 253, 253, 230,  48],\n",
       "        [  0,   3,  20,  20,  15,   0]], dtype=torch.uint8)"
      ]
     },
     "execution_count": 11,
     "metadata": {},
     "output_type": "execute_result"
    }
   ],
   "source": [
    "tensor(im3)[4:10,4:10] #pytorch version of numpy array"
   ]
  },
  {
   "cell_type": "code",
   "execution_count": 12,
   "metadata": {},
   "outputs": [
    {
     "data": {
      "text/html": [
       "<style type=\"text/css\">\n",
       "#T_3cc78_row0_col0, #T_3cc78_row0_col1, #T_3cc78_row0_col2, #T_3cc78_row0_col3, #T_3cc78_row0_col4, #T_3cc78_row0_col5, #T_3cc78_row0_col6, #T_3cc78_row0_col7, #T_3cc78_row0_col8, #T_3cc78_row0_col9, #T_3cc78_row0_col10, #T_3cc78_row0_col11, #T_3cc78_row0_col12, #T_3cc78_row0_col13, #T_3cc78_row0_col14, #T_3cc78_row0_col15, #T_3cc78_row0_col16, #T_3cc78_row0_col17, #T_3cc78_row1_col0, #T_3cc78_row1_col1, #T_3cc78_row1_col2, #T_3cc78_row1_col3, #T_3cc78_row1_col4, #T_3cc78_row1_col15, #T_3cc78_row1_col16, #T_3cc78_row1_col17, #T_3cc78_row2_col0, #T_3cc78_row2_col1, #T_3cc78_row2_col2, #T_3cc78_row2_col15, #T_3cc78_row2_col16, #T_3cc78_row2_col17, #T_3cc78_row3_col0, #T_3cc78_row3_col15, #T_3cc78_row3_col16, #T_3cc78_row3_col17, #T_3cc78_row4_col0, #T_3cc78_row4_col6, #T_3cc78_row4_col7, #T_3cc78_row4_col8, #T_3cc78_row4_col9, #T_3cc78_row4_col10, #T_3cc78_row4_col15, #T_3cc78_row4_col16, #T_3cc78_row4_col17, #T_3cc78_row5_col0, #T_3cc78_row5_col5, #T_3cc78_row5_col6, #T_3cc78_row5_col7, #T_3cc78_row5_col8, #T_3cc78_row5_col9, #T_3cc78_row5_col15, #T_3cc78_row5_col16, #T_3cc78_row5_col17, #T_3cc78_row6_col0, #T_3cc78_row6_col1, #T_3cc78_row6_col2, #T_3cc78_row6_col3, #T_3cc78_row6_col4, #T_3cc78_row6_col5, #T_3cc78_row6_col6, #T_3cc78_row6_col7, #T_3cc78_row6_col8, #T_3cc78_row6_col9, #T_3cc78_row6_col14, #T_3cc78_row6_col15, #T_3cc78_row6_col16, #T_3cc78_row6_col17, #T_3cc78_row7_col0, #T_3cc78_row7_col1, #T_3cc78_row7_col2, #T_3cc78_row7_col3, #T_3cc78_row7_col4, #T_3cc78_row7_col5, #T_3cc78_row7_col6, #T_3cc78_row7_col13, #T_3cc78_row7_col14, #T_3cc78_row7_col15, #T_3cc78_row7_col16, #T_3cc78_row7_col17, #T_3cc78_row8_col0, #T_3cc78_row8_col1, #T_3cc78_row8_col2, #T_3cc78_row8_col3, #T_3cc78_row8_col4, #T_3cc78_row8_col13, #T_3cc78_row8_col14, #T_3cc78_row8_col15, #T_3cc78_row8_col16, #T_3cc78_row8_col17, #T_3cc78_row9_col0, #T_3cc78_row9_col1, #T_3cc78_row9_col2, #T_3cc78_row9_col3, #T_3cc78_row9_col4, #T_3cc78_row9_col16, #T_3cc78_row9_col17, #T_3cc78_row10_col0, #T_3cc78_row10_col1, #T_3cc78_row10_col2, #T_3cc78_row10_col3, #T_3cc78_row10_col4, #T_3cc78_row10_col5, #T_3cc78_row10_col6, #T_3cc78_row10_col17 {\n",
       "  font-size: 6pt;\n",
       "  background-color: #ffffff;\n",
       "  color: #000000;\n",
       "}\n",
       "#T_3cc78_row1_col5 {\n",
       "  font-size: 6pt;\n",
       "  background-color: #efefef;\n",
       "  color: #000000;\n",
       "}\n",
       "#T_3cc78_row1_col6, #T_3cc78_row1_col13 {\n",
       "  font-size: 6pt;\n",
       "  background-color: #7c7c7c;\n",
       "  color: #f1f1f1;\n",
       "}\n",
       "#T_3cc78_row1_col7 {\n",
       "  font-size: 6pt;\n",
       "  background-color: #4a4a4a;\n",
       "  color: #f1f1f1;\n",
       "}\n",
       "#T_3cc78_row1_col8, #T_3cc78_row1_col9, #T_3cc78_row1_col10, #T_3cc78_row2_col5, #T_3cc78_row2_col6, #T_3cc78_row2_col7, #T_3cc78_row2_col11, #T_3cc78_row2_col12, #T_3cc78_row2_col13, #T_3cc78_row3_col4, #T_3cc78_row3_col12, #T_3cc78_row3_col13, #T_3cc78_row4_col1, #T_3cc78_row4_col2, #T_3cc78_row4_col3, #T_3cc78_row4_col12, #T_3cc78_row4_col13, #T_3cc78_row5_col12, #T_3cc78_row6_col11, #T_3cc78_row9_col11, #T_3cc78_row10_col11, #T_3cc78_row10_col12, #T_3cc78_row10_col13, #T_3cc78_row10_col14, #T_3cc78_row10_col15, #T_3cc78_row10_col16 {\n",
       "  font-size: 6pt;\n",
       "  background-color: #000000;\n",
       "  color: #f1f1f1;\n",
       "}\n",
       "#T_3cc78_row1_col11 {\n",
       "  font-size: 6pt;\n",
       "  background-color: #606060;\n",
       "  color: #f1f1f1;\n",
       "}\n",
       "#T_3cc78_row1_col12 {\n",
       "  font-size: 6pt;\n",
       "  background-color: #4d4d4d;\n",
       "  color: #f1f1f1;\n",
       "}\n",
       "#T_3cc78_row1_col14 {\n",
       "  font-size: 6pt;\n",
       "  background-color: #bbbbbb;\n",
       "  color: #000000;\n",
       "}\n",
       "#T_3cc78_row2_col3 {\n",
       "  font-size: 6pt;\n",
       "  background-color: #e4e4e4;\n",
       "  color: #000000;\n",
       "}\n",
       "#T_3cc78_row2_col4, #T_3cc78_row8_col6 {\n",
       "  font-size: 6pt;\n",
       "  background-color: #6b6b6b;\n",
       "  color: #f1f1f1;\n",
       "}\n",
       "#T_3cc78_row2_col8, #T_3cc78_row2_col14, #T_3cc78_row3_col14 {\n",
       "  font-size: 6pt;\n",
       "  background-color: #171717;\n",
       "  color: #f1f1f1;\n",
       "}\n",
       "#T_3cc78_row2_col9, #T_3cc78_row3_col11 {\n",
       "  font-size: 6pt;\n",
       "  background-color: #4b4b4b;\n",
       "  color: #f1f1f1;\n",
       "}\n",
       "#T_3cc78_row2_col10, #T_3cc78_row7_col10, #T_3cc78_row8_col8, #T_3cc78_row8_col10, #T_3cc78_row9_col8, #T_3cc78_row9_col10 {\n",
       "  font-size: 6pt;\n",
       "  background-color: #010101;\n",
       "  color: #f1f1f1;\n",
       "}\n",
       "#T_3cc78_row3_col1 {\n",
       "  font-size: 6pt;\n",
       "  background-color: #272727;\n",
       "  color: #f1f1f1;\n",
       "}\n",
       "#T_3cc78_row3_col2 {\n",
       "  font-size: 6pt;\n",
       "  background-color: #0a0a0a;\n",
       "  color: #f1f1f1;\n",
       "}\n",
       "#T_3cc78_row3_col3 {\n",
       "  font-size: 6pt;\n",
       "  background-color: #050505;\n",
       "  color: #f1f1f1;\n",
       "}\n",
       "#T_3cc78_row3_col5 {\n",
       "  font-size: 6pt;\n",
       "  background-color: #333333;\n",
       "  color: #f1f1f1;\n",
       "}\n",
       "#T_3cc78_row3_col6 {\n",
       "  font-size: 6pt;\n",
       "  background-color: #e6e6e6;\n",
       "  color: #000000;\n",
       "}\n",
       "#T_3cc78_row3_col7, #T_3cc78_row3_col10 {\n",
       "  font-size: 6pt;\n",
       "  background-color: #fafafa;\n",
       "  color: #000000;\n",
       "}\n",
       "#T_3cc78_row3_col8 {\n",
       "  font-size: 6pt;\n",
       "  background-color: #fbfbfb;\n",
       "  color: #000000;\n",
       "}\n",
       "#T_3cc78_row3_col9 {\n",
       "  font-size: 6pt;\n",
       "  background-color: #fdfdfd;\n",
       "  color: #000000;\n",
       "}\n",
       "#T_3cc78_row4_col4 {\n",
       "  font-size: 6pt;\n",
       "  background-color: #1b1b1b;\n",
       "  color: #f1f1f1;\n",
       "}\n",
       "#T_3cc78_row4_col5 {\n",
       "  font-size: 6pt;\n",
       "  background-color: #e0e0e0;\n",
       "  color: #000000;\n",
       "}\n",
       "#T_3cc78_row4_col11 {\n",
       "  font-size: 6pt;\n",
       "  background-color: #4e4e4e;\n",
       "  color: #f1f1f1;\n",
       "}\n",
       "#T_3cc78_row4_col14 {\n",
       "  font-size: 6pt;\n",
       "  background-color: #767676;\n",
       "  color: #f1f1f1;\n",
       "}\n",
       "#T_3cc78_row5_col1 {\n",
       "  font-size: 6pt;\n",
       "  background-color: #fcfcfc;\n",
       "  color: #000000;\n",
       "}\n",
       "#T_3cc78_row5_col2, #T_3cc78_row5_col3 {\n",
       "  font-size: 6pt;\n",
       "  background-color: #f6f6f6;\n",
       "  color: #000000;\n",
       "}\n",
       "#T_3cc78_row5_col4, #T_3cc78_row7_col7 {\n",
       "  font-size: 6pt;\n",
       "  background-color: #f8f8f8;\n",
       "  color: #000000;\n",
       "}\n",
       "#T_3cc78_row5_col10, #T_3cc78_row10_col7 {\n",
       "  font-size: 6pt;\n",
       "  background-color: #e8e8e8;\n",
       "  color: #000000;\n",
       "}\n",
       "#T_3cc78_row5_col11 {\n",
       "  font-size: 6pt;\n",
       "  background-color: #222222;\n",
       "  color: #f1f1f1;\n",
       "}\n",
       "#T_3cc78_row5_col13, #T_3cc78_row6_col12 {\n",
       "  font-size: 6pt;\n",
       "  background-color: #090909;\n",
       "  color: #f1f1f1;\n",
       "}\n",
       "#T_3cc78_row5_col14 {\n",
       "  font-size: 6pt;\n",
       "  background-color: #d0d0d0;\n",
       "  color: #000000;\n",
       "}\n",
       "#T_3cc78_row6_col10, #T_3cc78_row7_col11, #T_3cc78_row9_col6 {\n",
       "  font-size: 6pt;\n",
       "  background-color: #060606;\n",
       "  color: #f1f1f1;\n",
       "}\n",
       "#T_3cc78_row6_col13 {\n",
       "  font-size: 6pt;\n",
       "  background-color: #979797;\n",
       "  color: #f1f1f1;\n",
       "}\n",
       "#T_3cc78_row7_col8 {\n",
       "  font-size: 6pt;\n",
       "  background-color: #b6b6b6;\n",
       "  color: #000000;\n",
       "}\n",
       "#T_3cc78_row7_col9 {\n",
       "  font-size: 6pt;\n",
       "  background-color: #252525;\n",
       "  color: #f1f1f1;\n",
       "}\n",
       "#T_3cc78_row7_col12 {\n",
       "  font-size: 6pt;\n",
       "  background-color: #999999;\n",
       "  color: #f1f1f1;\n",
       "}\n",
       "#T_3cc78_row8_col5 {\n",
       "  font-size: 6pt;\n",
       "  background-color: #f9f9f9;\n",
       "  color: #000000;\n",
       "}\n",
       "#T_3cc78_row8_col7 {\n",
       "  font-size: 6pt;\n",
       "  background-color: #101010;\n",
       "  color: #f1f1f1;\n",
       "}\n",
       "#T_3cc78_row8_col9, #T_3cc78_row9_col9 {\n",
       "  font-size: 6pt;\n",
       "  background-color: #020202;\n",
       "  color: #f1f1f1;\n",
       "}\n",
       "#T_3cc78_row8_col11 {\n",
       "  font-size: 6pt;\n",
       "  background-color: #545454;\n",
       "  color: #f1f1f1;\n",
       "}\n",
       "#T_3cc78_row8_col12 {\n",
       "  font-size: 6pt;\n",
       "  background-color: #f1f1f1;\n",
       "  color: #000000;\n",
       "}\n",
       "#T_3cc78_row9_col5 {\n",
       "  font-size: 6pt;\n",
       "  background-color: #f7f7f7;\n",
       "  color: #000000;\n",
       "}\n",
       "#T_3cc78_row9_col7 {\n",
       "  font-size: 6pt;\n",
       "  background-color: #030303;\n",
       "  color: #f1f1f1;\n",
       "}\n",
       "#T_3cc78_row9_col12 {\n",
       "  font-size: 6pt;\n",
       "  background-color: #181818;\n",
       "  color: #f1f1f1;\n",
       "}\n",
       "#T_3cc78_row9_col13 {\n",
       "  font-size: 6pt;\n",
       "  background-color: #303030;\n",
       "  color: #f1f1f1;\n",
       "}\n",
       "#T_3cc78_row9_col14 {\n",
       "  font-size: 6pt;\n",
       "  background-color: #a9a9a9;\n",
       "  color: #f1f1f1;\n",
       "}\n",
       "#T_3cc78_row9_col15 {\n",
       "  font-size: 6pt;\n",
       "  background-color: #fefefe;\n",
       "  color: #000000;\n",
       "}\n",
       "#T_3cc78_row10_col8, #T_3cc78_row10_col9 {\n",
       "  font-size: 6pt;\n",
       "  background-color: #bababa;\n",
       "  color: #000000;\n",
       "}\n",
       "#T_3cc78_row10_col10 {\n",
       "  font-size: 6pt;\n",
       "  background-color: #393939;\n",
       "  color: #f1f1f1;\n",
       "}\n",
       "</style>\n",
       "<table id=\"T_3cc78_\">\n",
       "  <thead>\n",
       "    <tr>\n",
       "      <th class=\"blank level0\" >&nbsp;</th>\n",
       "      <th class=\"col_heading level0 col0\" >0</th>\n",
       "      <th class=\"col_heading level0 col1\" >1</th>\n",
       "      <th class=\"col_heading level0 col2\" >2</th>\n",
       "      <th class=\"col_heading level0 col3\" >3</th>\n",
       "      <th class=\"col_heading level0 col4\" >4</th>\n",
       "      <th class=\"col_heading level0 col5\" >5</th>\n",
       "      <th class=\"col_heading level0 col6\" >6</th>\n",
       "      <th class=\"col_heading level0 col7\" >7</th>\n",
       "      <th class=\"col_heading level0 col8\" >8</th>\n",
       "      <th class=\"col_heading level0 col9\" >9</th>\n",
       "      <th class=\"col_heading level0 col10\" >10</th>\n",
       "      <th class=\"col_heading level0 col11\" >11</th>\n",
       "      <th class=\"col_heading level0 col12\" >12</th>\n",
       "      <th class=\"col_heading level0 col13\" >13</th>\n",
       "      <th class=\"col_heading level0 col14\" >14</th>\n",
       "      <th class=\"col_heading level0 col15\" >15</th>\n",
       "      <th class=\"col_heading level0 col16\" >16</th>\n",
       "      <th class=\"col_heading level0 col17\" >17</th>\n",
       "    </tr>\n",
       "  </thead>\n",
       "  <tbody>\n",
       "    <tr>\n",
       "      <th id=\"T_3cc78_level0_row0\" class=\"row_heading level0 row0\" >0</th>\n",
       "      <td id=\"T_3cc78_row0_col0\" class=\"data row0 col0\" >0</td>\n",
       "      <td id=\"T_3cc78_row0_col1\" class=\"data row0 col1\" >0</td>\n",
       "      <td id=\"T_3cc78_row0_col2\" class=\"data row0 col2\" >0</td>\n",
       "      <td id=\"T_3cc78_row0_col3\" class=\"data row0 col3\" >0</td>\n",
       "      <td id=\"T_3cc78_row0_col4\" class=\"data row0 col4\" >0</td>\n",
       "      <td id=\"T_3cc78_row0_col5\" class=\"data row0 col5\" >0</td>\n",
       "      <td id=\"T_3cc78_row0_col6\" class=\"data row0 col6\" >0</td>\n",
       "      <td id=\"T_3cc78_row0_col7\" class=\"data row0 col7\" >0</td>\n",
       "      <td id=\"T_3cc78_row0_col8\" class=\"data row0 col8\" >0</td>\n",
       "      <td id=\"T_3cc78_row0_col9\" class=\"data row0 col9\" >0</td>\n",
       "      <td id=\"T_3cc78_row0_col10\" class=\"data row0 col10\" >0</td>\n",
       "      <td id=\"T_3cc78_row0_col11\" class=\"data row0 col11\" >0</td>\n",
       "      <td id=\"T_3cc78_row0_col12\" class=\"data row0 col12\" >0</td>\n",
       "      <td id=\"T_3cc78_row0_col13\" class=\"data row0 col13\" >0</td>\n",
       "      <td id=\"T_3cc78_row0_col14\" class=\"data row0 col14\" >0</td>\n",
       "      <td id=\"T_3cc78_row0_col15\" class=\"data row0 col15\" >0</td>\n",
       "      <td id=\"T_3cc78_row0_col16\" class=\"data row0 col16\" >0</td>\n",
       "      <td id=\"T_3cc78_row0_col17\" class=\"data row0 col17\" >0</td>\n",
       "    </tr>\n",
       "    <tr>\n",
       "      <th id=\"T_3cc78_level0_row1\" class=\"row_heading level0 row1\" >1</th>\n",
       "      <td id=\"T_3cc78_row1_col0\" class=\"data row1 col0\" >0</td>\n",
       "      <td id=\"T_3cc78_row1_col1\" class=\"data row1 col1\" >0</td>\n",
       "      <td id=\"T_3cc78_row1_col2\" class=\"data row1 col2\" >0</td>\n",
       "      <td id=\"T_3cc78_row1_col3\" class=\"data row1 col3\" >0</td>\n",
       "      <td id=\"T_3cc78_row1_col4\" class=\"data row1 col4\" >0</td>\n",
       "      <td id=\"T_3cc78_row1_col5\" class=\"data row1 col5\" >29</td>\n",
       "      <td id=\"T_3cc78_row1_col6\" class=\"data row1 col6\" >150</td>\n",
       "      <td id=\"T_3cc78_row1_col7\" class=\"data row1 col7\" >195</td>\n",
       "      <td id=\"T_3cc78_row1_col8\" class=\"data row1 col8\" >254</td>\n",
       "      <td id=\"T_3cc78_row1_col9\" class=\"data row1 col9\" >255</td>\n",
       "      <td id=\"T_3cc78_row1_col10\" class=\"data row1 col10\" >254</td>\n",
       "      <td id=\"T_3cc78_row1_col11\" class=\"data row1 col11\" >176</td>\n",
       "      <td id=\"T_3cc78_row1_col12\" class=\"data row1 col12\" >193</td>\n",
       "      <td id=\"T_3cc78_row1_col13\" class=\"data row1 col13\" >150</td>\n",
       "      <td id=\"T_3cc78_row1_col14\" class=\"data row1 col14\" >96</td>\n",
       "      <td id=\"T_3cc78_row1_col15\" class=\"data row1 col15\" >0</td>\n",
       "      <td id=\"T_3cc78_row1_col16\" class=\"data row1 col16\" >0</td>\n",
       "      <td id=\"T_3cc78_row1_col17\" class=\"data row1 col17\" >0</td>\n",
       "    </tr>\n",
       "    <tr>\n",
       "      <th id=\"T_3cc78_level0_row2\" class=\"row_heading level0 row2\" >2</th>\n",
       "      <td id=\"T_3cc78_row2_col0\" class=\"data row2 col0\" >0</td>\n",
       "      <td id=\"T_3cc78_row2_col1\" class=\"data row2 col1\" >0</td>\n",
       "      <td id=\"T_3cc78_row2_col2\" class=\"data row2 col2\" >0</td>\n",
       "      <td id=\"T_3cc78_row2_col3\" class=\"data row2 col3\" >48</td>\n",
       "      <td id=\"T_3cc78_row2_col4\" class=\"data row2 col4\" >166</td>\n",
       "      <td id=\"T_3cc78_row2_col5\" class=\"data row2 col5\" >224</td>\n",
       "      <td id=\"T_3cc78_row2_col6\" class=\"data row2 col6\" >253</td>\n",
       "      <td id=\"T_3cc78_row2_col7\" class=\"data row2 col7\" >253</td>\n",
       "      <td id=\"T_3cc78_row2_col8\" class=\"data row2 col8\" >234</td>\n",
       "      <td id=\"T_3cc78_row2_col9\" class=\"data row2 col9\" >196</td>\n",
       "      <td id=\"T_3cc78_row2_col10\" class=\"data row2 col10\" >253</td>\n",
       "      <td id=\"T_3cc78_row2_col11\" class=\"data row2 col11\" >253</td>\n",
       "      <td id=\"T_3cc78_row2_col12\" class=\"data row2 col12\" >253</td>\n",
       "      <td id=\"T_3cc78_row2_col13\" class=\"data row2 col13\" >253</td>\n",
       "      <td id=\"T_3cc78_row2_col14\" class=\"data row2 col14\" >233</td>\n",
       "      <td id=\"T_3cc78_row2_col15\" class=\"data row2 col15\" >0</td>\n",
       "      <td id=\"T_3cc78_row2_col16\" class=\"data row2 col16\" >0</td>\n",
       "      <td id=\"T_3cc78_row2_col17\" class=\"data row2 col17\" >0</td>\n",
       "    </tr>\n",
       "    <tr>\n",
       "      <th id=\"T_3cc78_level0_row3\" class=\"row_heading level0 row3\" >3</th>\n",
       "      <td id=\"T_3cc78_row3_col0\" class=\"data row3 col0\" >0</td>\n",
       "      <td id=\"T_3cc78_row3_col1\" class=\"data row3 col1\" >93</td>\n",
       "      <td id=\"T_3cc78_row3_col2\" class=\"data row3 col2\" >244</td>\n",
       "      <td id=\"T_3cc78_row3_col3\" class=\"data row3 col3\" >249</td>\n",
       "      <td id=\"T_3cc78_row3_col4\" class=\"data row3 col4\" >253</td>\n",
       "      <td id=\"T_3cc78_row3_col5\" class=\"data row3 col5\" >187</td>\n",
       "      <td id=\"T_3cc78_row3_col6\" class=\"data row3 col6\" >46</td>\n",
       "      <td id=\"T_3cc78_row3_col7\" class=\"data row3 col7\" >10</td>\n",
       "      <td id=\"T_3cc78_row3_col8\" class=\"data row3 col8\" >8</td>\n",
       "      <td id=\"T_3cc78_row3_col9\" class=\"data row3 col9\" >4</td>\n",
       "      <td id=\"T_3cc78_row3_col10\" class=\"data row3 col10\" >10</td>\n",
       "      <td id=\"T_3cc78_row3_col11\" class=\"data row3 col11\" >194</td>\n",
       "      <td id=\"T_3cc78_row3_col12\" class=\"data row3 col12\" >253</td>\n",
       "      <td id=\"T_3cc78_row3_col13\" class=\"data row3 col13\" >253</td>\n",
       "      <td id=\"T_3cc78_row3_col14\" class=\"data row3 col14\" >233</td>\n",
       "      <td id=\"T_3cc78_row3_col15\" class=\"data row3 col15\" >0</td>\n",
       "      <td id=\"T_3cc78_row3_col16\" class=\"data row3 col16\" >0</td>\n",
       "      <td id=\"T_3cc78_row3_col17\" class=\"data row3 col17\" >0</td>\n",
       "    </tr>\n",
       "    <tr>\n",
       "      <th id=\"T_3cc78_level0_row4\" class=\"row_heading level0 row4\" >4</th>\n",
       "      <td id=\"T_3cc78_row4_col0\" class=\"data row4 col0\" >0</td>\n",
       "      <td id=\"T_3cc78_row4_col1\" class=\"data row4 col1\" >107</td>\n",
       "      <td id=\"T_3cc78_row4_col2\" class=\"data row4 col2\" >253</td>\n",
       "      <td id=\"T_3cc78_row4_col3\" class=\"data row4 col3\" >253</td>\n",
       "      <td id=\"T_3cc78_row4_col4\" class=\"data row4 col4\" >230</td>\n",
       "      <td id=\"T_3cc78_row4_col5\" class=\"data row4 col5\" >48</td>\n",
       "      <td id=\"T_3cc78_row4_col6\" class=\"data row4 col6\" >0</td>\n",
       "      <td id=\"T_3cc78_row4_col7\" class=\"data row4 col7\" >0</td>\n",
       "      <td id=\"T_3cc78_row4_col8\" class=\"data row4 col8\" >0</td>\n",
       "      <td id=\"T_3cc78_row4_col9\" class=\"data row4 col9\" >0</td>\n",
       "      <td id=\"T_3cc78_row4_col10\" class=\"data row4 col10\" >0</td>\n",
       "      <td id=\"T_3cc78_row4_col11\" class=\"data row4 col11\" >192</td>\n",
       "      <td id=\"T_3cc78_row4_col12\" class=\"data row4 col12\" >253</td>\n",
       "      <td id=\"T_3cc78_row4_col13\" class=\"data row4 col13\" >253</td>\n",
       "      <td id=\"T_3cc78_row4_col14\" class=\"data row4 col14\" >156</td>\n",
       "      <td id=\"T_3cc78_row4_col15\" class=\"data row4 col15\" >0</td>\n",
       "      <td id=\"T_3cc78_row4_col16\" class=\"data row4 col16\" >0</td>\n",
       "      <td id=\"T_3cc78_row4_col17\" class=\"data row4 col17\" >0</td>\n",
       "    </tr>\n",
       "    <tr>\n",
       "      <th id=\"T_3cc78_level0_row5\" class=\"row_heading level0 row5\" >5</th>\n",
       "      <td id=\"T_3cc78_row5_col0\" class=\"data row5 col0\" >0</td>\n",
       "      <td id=\"T_3cc78_row5_col1\" class=\"data row5 col1\" >3</td>\n",
       "      <td id=\"T_3cc78_row5_col2\" class=\"data row5 col2\" >20</td>\n",
       "      <td id=\"T_3cc78_row5_col3\" class=\"data row5 col3\" >20</td>\n",
       "      <td id=\"T_3cc78_row5_col4\" class=\"data row5 col4\" >15</td>\n",
       "      <td id=\"T_3cc78_row5_col5\" class=\"data row5 col5\" >0</td>\n",
       "      <td id=\"T_3cc78_row5_col6\" class=\"data row5 col6\" >0</td>\n",
       "      <td id=\"T_3cc78_row5_col7\" class=\"data row5 col7\" >0</td>\n",
       "      <td id=\"T_3cc78_row5_col8\" class=\"data row5 col8\" >0</td>\n",
       "      <td id=\"T_3cc78_row5_col9\" class=\"data row5 col9\" >0</td>\n",
       "      <td id=\"T_3cc78_row5_col10\" class=\"data row5 col10\" >43</td>\n",
       "      <td id=\"T_3cc78_row5_col11\" class=\"data row5 col11\" >224</td>\n",
       "      <td id=\"T_3cc78_row5_col12\" class=\"data row5 col12\" >253</td>\n",
       "      <td id=\"T_3cc78_row5_col13\" class=\"data row5 col13\" >245</td>\n",
       "      <td id=\"T_3cc78_row5_col14\" class=\"data row5 col14\" >74</td>\n",
       "      <td id=\"T_3cc78_row5_col15\" class=\"data row5 col15\" >0</td>\n",
       "      <td id=\"T_3cc78_row5_col16\" class=\"data row5 col16\" >0</td>\n",
       "      <td id=\"T_3cc78_row5_col17\" class=\"data row5 col17\" >0</td>\n",
       "    </tr>\n",
       "    <tr>\n",
       "      <th id=\"T_3cc78_level0_row6\" class=\"row_heading level0 row6\" >6</th>\n",
       "      <td id=\"T_3cc78_row6_col0\" class=\"data row6 col0\" >0</td>\n",
       "      <td id=\"T_3cc78_row6_col1\" class=\"data row6 col1\" >0</td>\n",
       "      <td id=\"T_3cc78_row6_col2\" class=\"data row6 col2\" >0</td>\n",
       "      <td id=\"T_3cc78_row6_col3\" class=\"data row6 col3\" >0</td>\n",
       "      <td id=\"T_3cc78_row6_col4\" class=\"data row6 col4\" >0</td>\n",
       "      <td id=\"T_3cc78_row6_col5\" class=\"data row6 col5\" >0</td>\n",
       "      <td id=\"T_3cc78_row6_col6\" class=\"data row6 col6\" >0</td>\n",
       "      <td id=\"T_3cc78_row6_col7\" class=\"data row6 col7\" >0</td>\n",
       "      <td id=\"T_3cc78_row6_col8\" class=\"data row6 col8\" >0</td>\n",
       "      <td id=\"T_3cc78_row6_col9\" class=\"data row6 col9\" >0</td>\n",
       "      <td id=\"T_3cc78_row6_col10\" class=\"data row6 col10\" >249</td>\n",
       "      <td id=\"T_3cc78_row6_col11\" class=\"data row6 col11\" >253</td>\n",
       "      <td id=\"T_3cc78_row6_col12\" class=\"data row6 col12\" >245</td>\n",
       "      <td id=\"T_3cc78_row6_col13\" class=\"data row6 col13\" >126</td>\n",
       "      <td id=\"T_3cc78_row6_col14\" class=\"data row6 col14\" >0</td>\n",
       "      <td id=\"T_3cc78_row6_col15\" class=\"data row6 col15\" >0</td>\n",
       "      <td id=\"T_3cc78_row6_col16\" class=\"data row6 col16\" >0</td>\n",
       "      <td id=\"T_3cc78_row6_col17\" class=\"data row6 col17\" >0</td>\n",
       "    </tr>\n",
       "    <tr>\n",
       "      <th id=\"T_3cc78_level0_row7\" class=\"row_heading level0 row7\" >7</th>\n",
       "      <td id=\"T_3cc78_row7_col0\" class=\"data row7 col0\" >0</td>\n",
       "      <td id=\"T_3cc78_row7_col1\" class=\"data row7 col1\" >0</td>\n",
       "      <td id=\"T_3cc78_row7_col2\" class=\"data row7 col2\" >0</td>\n",
       "      <td id=\"T_3cc78_row7_col3\" class=\"data row7 col3\" >0</td>\n",
       "      <td id=\"T_3cc78_row7_col4\" class=\"data row7 col4\" >0</td>\n",
       "      <td id=\"T_3cc78_row7_col5\" class=\"data row7 col5\" >0</td>\n",
       "      <td id=\"T_3cc78_row7_col6\" class=\"data row7 col6\" >0</td>\n",
       "      <td id=\"T_3cc78_row7_col7\" class=\"data row7 col7\" >14</td>\n",
       "      <td id=\"T_3cc78_row7_col8\" class=\"data row7 col8\" >101</td>\n",
       "      <td id=\"T_3cc78_row7_col9\" class=\"data row7 col9\" >223</td>\n",
       "      <td id=\"T_3cc78_row7_col10\" class=\"data row7 col10\" >253</td>\n",
       "      <td id=\"T_3cc78_row7_col11\" class=\"data row7 col11\" >248</td>\n",
       "      <td id=\"T_3cc78_row7_col12\" class=\"data row7 col12\" >124</td>\n",
       "      <td id=\"T_3cc78_row7_col13\" class=\"data row7 col13\" >0</td>\n",
       "      <td id=\"T_3cc78_row7_col14\" class=\"data row7 col14\" >0</td>\n",
       "      <td id=\"T_3cc78_row7_col15\" class=\"data row7 col15\" >0</td>\n",
       "      <td id=\"T_3cc78_row7_col16\" class=\"data row7 col16\" >0</td>\n",
       "      <td id=\"T_3cc78_row7_col17\" class=\"data row7 col17\" >0</td>\n",
       "    </tr>\n",
       "    <tr>\n",
       "      <th id=\"T_3cc78_level0_row8\" class=\"row_heading level0 row8\" >8</th>\n",
       "      <td id=\"T_3cc78_row8_col0\" class=\"data row8 col0\" >0</td>\n",
       "      <td id=\"T_3cc78_row8_col1\" class=\"data row8 col1\" >0</td>\n",
       "      <td id=\"T_3cc78_row8_col2\" class=\"data row8 col2\" >0</td>\n",
       "      <td id=\"T_3cc78_row8_col3\" class=\"data row8 col3\" >0</td>\n",
       "      <td id=\"T_3cc78_row8_col4\" class=\"data row8 col4\" >0</td>\n",
       "      <td id=\"T_3cc78_row8_col5\" class=\"data row8 col5\" >11</td>\n",
       "      <td id=\"T_3cc78_row8_col6\" class=\"data row8 col6\" >166</td>\n",
       "      <td id=\"T_3cc78_row8_col7\" class=\"data row8 col7\" >239</td>\n",
       "      <td id=\"T_3cc78_row8_col8\" class=\"data row8 col8\" >253</td>\n",
       "      <td id=\"T_3cc78_row8_col9\" class=\"data row8 col9\" >253</td>\n",
       "      <td id=\"T_3cc78_row8_col10\" class=\"data row8 col10\" >253</td>\n",
       "      <td id=\"T_3cc78_row8_col11\" class=\"data row8 col11\" >187</td>\n",
       "      <td id=\"T_3cc78_row8_col12\" class=\"data row8 col12\" >30</td>\n",
       "      <td id=\"T_3cc78_row8_col13\" class=\"data row8 col13\" >0</td>\n",
       "      <td id=\"T_3cc78_row8_col14\" class=\"data row8 col14\" >0</td>\n",
       "      <td id=\"T_3cc78_row8_col15\" class=\"data row8 col15\" >0</td>\n",
       "      <td id=\"T_3cc78_row8_col16\" class=\"data row8 col16\" >0</td>\n",
       "      <td id=\"T_3cc78_row8_col17\" class=\"data row8 col17\" >0</td>\n",
       "    </tr>\n",
       "    <tr>\n",
       "      <th id=\"T_3cc78_level0_row9\" class=\"row_heading level0 row9\" >9</th>\n",
       "      <td id=\"T_3cc78_row9_col0\" class=\"data row9 col0\" >0</td>\n",
       "      <td id=\"T_3cc78_row9_col1\" class=\"data row9 col1\" >0</td>\n",
       "      <td id=\"T_3cc78_row9_col2\" class=\"data row9 col2\" >0</td>\n",
       "      <td id=\"T_3cc78_row9_col3\" class=\"data row9 col3\" >0</td>\n",
       "      <td id=\"T_3cc78_row9_col4\" class=\"data row9 col4\" >0</td>\n",
       "      <td id=\"T_3cc78_row9_col5\" class=\"data row9 col5\" >16</td>\n",
       "      <td id=\"T_3cc78_row9_col6\" class=\"data row9 col6\" >248</td>\n",
       "      <td id=\"T_3cc78_row9_col7\" class=\"data row9 col7\" >250</td>\n",
       "      <td id=\"T_3cc78_row9_col8\" class=\"data row9 col8\" >253</td>\n",
       "      <td id=\"T_3cc78_row9_col9\" class=\"data row9 col9\" >253</td>\n",
       "      <td id=\"T_3cc78_row9_col10\" class=\"data row9 col10\" >253</td>\n",
       "      <td id=\"T_3cc78_row9_col11\" class=\"data row9 col11\" >253</td>\n",
       "      <td id=\"T_3cc78_row9_col12\" class=\"data row9 col12\" >232</td>\n",
       "      <td id=\"T_3cc78_row9_col13\" class=\"data row9 col13\" >213</td>\n",
       "      <td id=\"T_3cc78_row9_col14\" class=\"data row9 col14\" >111</td>\n",
       "      <td id=\"T_3cc78_row9_col15\" class=\"data row9 col15\" >2</td>\n",
       "      <td id=\"T_3cc78_row9_col16\" class=\"data row9 col16\" >0</td>\n",
       "      <td id=\"T_3cc78_row9_col17\" class=\"data row9 col17\" >0</td>\n",
       "    </tr>\n",
       "    <tr>\n",
       "      <th id=\"T_3cc78_level0_row10\" class=\"row_heading level0 row10\" >10</th>\n",
       "      <td id=\"T_3cc78_row10_col0\" class=\"data row10 col0\" >0</td>\n",
       "      <td id=\"T_3cc78_row10_col1\" class=\"data row10 col1\" >0</td>\n",
       "      <td id=\"T_3cc78_row10_col2\" class=\"data row10 col2\" >0</td>\n",
       "      <td id=\"T_3cc78_row10_col3\" class=\"data row10 col3\" >0</td>\n",
       "      <td id=\"T_3cc78_row10_col4\" class=\"data row10 col4\" >0</td>\n",
       "      <td id=\"T_3cc78_row10_col5\" class=\"data row10 col5\" >0</td>\n",
       "      <td id=\"T_3cc78_row10_col6\" class=\"data row10 col6\" >0</td>\n",
       "      <td id=\"T_3cc78_row10_col7\" class=\"data row10 col7\" >43</td>\n",
       "      <td id=\"T_3cc78_row10_col8\" class=\"data row10 col8\" >98</td>\n",
       "      <td id=\"T_3cc78_row10_col9\" class=\"data row10 col9\" >98</td>\n",
       "      <td id=\"T_3cc78_row10_col10\" class=\"data row10 col10\" >208</td>\n",
       "      <td id=\"T_3cc78_row10_col11\" class=\"data row10 col11\" >253</td>\n",
       "      <td id=\"T_3cc78_row10_col12\" class=\"data row10 col12\" >253</td>\n",
       "      <td id=\"T_3cc78_row10_col13\" class=\"data row10 col13\" >253</td>\n",
       "      <td id=\"T_3cc78_row10_col14\" class=\"data row10 col14\" >253</td>\n",
       "      <td id=\"T_3cc78_row10_col15\" class=\"data row10 col15\" >187</td>\n",
       "      <td id=\"T_3cc78_row10_col16\" class=\"data row10 col16\" >22</td>\n",
       "      <td id=\"T_3cc78_row10_col17\" class=\"data row10 col17\" >0</td>\n",
       "    </tr>\n",
       "  </tbody>\n",
       "</table>\n"
      ],
      "text/plain": [
       "<pandas.io.formats.style.Styler at 0x7f95d0d57220>"
      ]
     },
     "execution_count": 12,
     "metadata": {},
     "output_type": "execute_result"
    }
   ],
   "source": [
    "im3_t = tensor(im3)\n",
    "df = pd.DataFrame(im3_t[4:15,4:22])\n",
    "df.style.set_properties(**{'font-size':'6pt'}).background_gradient('Greys') #background gradient "
   ]
  },
  {
   "cell_type": "code",
   "execution_count": 13,
   "metadata": {},
   "outputs": [
    {
     "data": {
      "text/html": [
       "<style type=\"text/css\">\n",
       "#T_eea19_row0_col0, #T_eea19_row0_col1, #T_eea19_row0_col2, #T_eea19_row0_col3, #T_eea19_row0_col4, #T_eea19_row0_col5, #T_eea19_row0_col6, #T_eea19_row0_col7, #T_eea19_row0_col8, #T_eea19_row0_col9, #T_eea19_row0_col10, #T_eea19_row0_col11, #T_eea19_row0_col12, #T_eea19_row0_col13, #T_eea19_row0_col14, #T_eea19_row0_col15, #T_eea19_row0_col16, #T_eea19_row0_col17, #T_eea19_row0_col18, #T_eea19_row0_col19, #T_eea19_row0_col20, #T_eea19_row0_col21, #T_eea19_row0_col22, #T_eea19_row0_col23, #T_eea19_row0_col24, #T_eea19_row0_col25, #T_eea19_row0_col26, #T_eea19_row0_col27, #T_eea19_row1_col0, #T_eea19_row1_col1, #T_eea19_row1_col2, #T_eea19_row1_col3, #T_eea19_row1_col4, #T_eea19_row1_col5, #T_eea19_row1_col6, #T_eea19_row1_col7, #T_eea19_row1_col8, #T_eea19_row1_col9, #T_eea19_row1_col10, #T_eea19_row1_col11, #T_eea19_row1_col12, #T_eea19_row1_col13, #T_eea19_row1_col14, #T_eea19_row1_col15, #T_eea19_row1_col16, #T_eea19_row1_col17, #T_eea19_row1_col18, #T_eea19_row1_col19, #T_eea19_row1_col20, #T_eea19_row1_col21, #T_eea19_row1_col22, #T_eea19_row1_col23, #T_eea19_row1_col24, #T_eea19_row1_col25, #T_eea19_row1_col26, #T_eea19_row1_col27, #T_eea19_row2_col0, #T_eea19_row2_col1, #T_eea19_row2_col2, #T_eea19_row2_col3, #T_eea19_row2_col4, #T_eea19_row2_col5, #T_eea19_row2_col6, #T_eea19_row2_col7, #T_eea19_row2_col8, #T_eea19_row2_col9, #T_eea19_row2_col10, #T_eea19_row2_col11, #T_eea19_row2_col12, #T_eea19_row2_col13, #T_eea19_row2_col14, #T_eea19_row2_col15, #T_eea19_row2_col16, #T_eea19_row2_col17, #T_eea19_row2_col18, #T_eea19_row2_col19, #T_eea19_row2_col20, #T_eea19_row2_col21, #T_eea19_row2_col22, #T_eea19_row2_col23, #T_eea19_row2_col24, #T_eea19_row2_col25, #T_eea19_row2_col26, #T_eea19_row2_col27, #T_eea19_row3_col0, #T_eea19_row3_col1, #T_eea19_row3_col2, #T_eea19_row3_col3, #T_eea19_row3_col4, #T_eea19_row3_col5, #T_eea19_row3_col6, #T_eea19_row3_col7, #T_eea19_row3_col8, #T_eea19_row3_col9, #T_eea19_row3_col10, #T_eea19_row3_col11, #T_eea19_row3_col12, #T_eea19_row3_col13, #T_eea19_row3_col14, #T_eea19_row3_col15, #T_eea19_row3_col16, #T_eea19_row3_col17, #T_eea19_row3_col18, #T_eea19_row3_col19, #T_eea19_row3_col20, #T_eea19_row3_col21, #T_eea19_row3_col22, #T_eea19_row3_col23, #T_eea19_row3_col24, #T_eea19_row3_col25, #T_eea19_row3_col26, #T_eea19_row3_col27, #T_eea19_row4_col0, #T_eea19_row4_col1, #T_eea19_row4_col2, #T_eea19_row4_col3, #T_eea19_row4_col4, #T_eea19_row4_col5, #T_eea19_row4_col6, #T_eea19_row4_col7, #T_eea19_row4_col8, #T_eea19_row4_col9, #T_eea19_row4_col10, #T_eea19_row4_col11, #T_eea19_row4_col12, #T_eea19_row4_col13, #T_eea19_row4_col14, #T_eea19_row4_col15, #T_eea19_row4_col16, #T_eea19_row4_col17, #T_eea19_row4_col18, #T_eea19_row4_col19, #T_eea19_row4_col20, #T_eea19_row4_col21, #T_eea19_row4_col22, #T_eea19_row4_col23, #T_eea19_row4_col24, #T_eea19_row4_col25, #T_eea19_row4_col26, #T_eea19_row4_col27, #T_eea19_row5_col0, #T_eea19_row5_col1, #T_eea19_row5_col2, #T_eea19_row5_col3, #T_eea19_row5_col4, #T_eea19_row5_col5, #T_eea19_row5_col6, #T_eea19_row5_col7, #T_eea19_row5_col8, #T_eea19_row5_col19, #T_eea19_row5_col20, #T_eea19_row5_col21, #T_eea19_row5_col22, #T_eea19_row5_col23, #T_eea19_row5_col24, #T_eea19_row5_col25, #T_eea19_row5_col26, #T_eea19_row5_col27, #T_eea19_row6_col0, #T_eea19_row6_col1, #T_eea19_row6_col2, #T_eea19_row6_col3, #T_eea19_row6_col4, #T_eea19_row6_col5, #T_eea19_row6_col6, #T_eea19_row6_col19, #T_eea19_row6_col20, #T_eea19_row6_col21, #T_eea19_row6_col22, #T_eea19_row6_col23, #T_eea19_row6_col24, #T_eea19_row6_col25, #T_eea19_row6_col26, #T_eea19_row6_col27, #T_eea19_row7_col0, #T_eea19_row7_col1, #T_eea19_row7_col2, #T_eea19_row7_col3, #T_eea19_row7_col4, #T_eea19_row7_col19, #T_eea19_row7_col20, #T_eea19_row7_col21, #T_eea19_row7_col22, #T_eea19_row7_col23, #T_eea19_row7_col24, #T_eea19_row7_col25, #T_eea19_row7_col26, #T_eea19_row7_col27, #T_eea19_row8_col0, #T_eea19_row8_col1, #T_eea19_row8_col2, #T_eea19_row8_col3, #T_eea19_row8_col4, #T_eea19_row8_col10, #T_eea19_row8_col11, #T_eea19_row8_col12, #T_eea19_row8_col13, #T_eea19_row8_col14, #T_eea19_row8_col19, #T_eea19_row8_col20, #T_eea19_row8_col21, #T_eea19_row8_col22, #T_eea19_row8_col23, #T_eea19_row8_col24, #T_eea19_row8_col25, #T_eea19_row8_col26, #T_eea19_row8_col27, #T_eea19_row9_col0, #T_eea19_row9_col1, #T_eea19_row9_col2, #T_eea19_row9_col3, #T_eea19_row9_col4, #T_eea19_row9_col9, #T_eea19_row9_col10, #T_eea19_row9_col11, #T_eea19_row9_col12, #T_eea19_row9_col13, #T_eea19_row9_col19, #T_eea19_row9_col20, #T_eea19_row9_col21, #T_eea19_row9_col22, #T_eea19_row9_col23, #T_eea19_row9_col24, #T_eea19_row9_col25, #T_eea19_row9_col26, #T_eea19_row9_col27, #T_eea19_row10_col0, #T_eea19_row10_col1, #T_eea19_row10_col2, #T_eea19_row10_col3, #T_eea19_row10_col4, #T_eea19_row10_col5, #T_eea19_row10_col6, #T_eea19_row10_col7, #T_eea19_row10_col8, #T_eea19_row10_col9, #T_eea19_row10_col10, #T_eea19_row10_col11, #T_eea19_row10_col12, #T_eea19_row10_col13, #T_eea19_row10_col18, #T_eea19_row10_col19, #T_eea19_row10_col20, #T_eea19_row10_col21, #T_eea19_row10_col22, #T_eea19_row10_col23, #T_eea19_row10_col24, #T_eea19_row10_col25, #T_eea19_row10_col26, #T_eea19_row10_col27, #T_eea19_row11_col0, #T_eea19_row11_col1, #T_eea19_row11_col2, #T_eea19_row11_col3, #T_eea19_row11_col4, #T_eea19_row11_col5, #T_eea19_row11_col6, #T_eea19_row11_col7, #T_eea19_row11_col8, #T_eea19_row11_col9, #T_eea19_row11_col10, #T_eea19_row11_col17, #T_eea19_row11_col18, #T_eea19_row11_col19, #T_eea19_row11_col20, #T_eea19_row11_col21, #T_eea19_row11_col22, #T_eea19_row11_col23, #T_eea19_row11_col24, #T_eea19_row11_col25, #T_eea19_row11_col26, #T_eea19_row11_col27, #T_eea19_row12_col0, #T_eea19_row12_col1, #T_eea19_row12_col2, #T_eea19_row12_col3, #T_eea19_row12_col4, #T_eea19_row12_col5, #T_eea19_row12_col6, #T_eea19_row12_col7, #T_eea19_row12_col8, #T_eea19_row12_col17, #T_eea19_row12_col18, #T_eea19_row12_col19, #T_eea19_row12_col20, #T_eea19_row12_col21, #T_eea19_row12_col22, #T_eea19_row12_col23, #T_eea19_row12_col24, #T_eea19_row12_col25, #T_eea19_row12_col26, #T_eea19_row12_col27, #T_eea19_row13_col0, #T_eea19_row13_col1, #T_eea19_row13_col2, #T_eea19_row13_col3, #T_eea19_row13_col4, #T_eea19_row13_col5, #T_eea19_row13_col6, #T_eea19_row13_col7, #T_eea19_row13_col8, #T_eea19_row13_col20, #T_eea19_row13_col21, #T_eea19_row13_col22, #T_eea19_row13_col23, #T_eea19_row13_col24, #T_eea19_row13_col25, #T_eea19_row13_col26, #T_eea19_row13_col27, #T_eea19_row14_col0, #T_eea19_row14_col1, #T_eea19_row14_col2, #T_eea19_row14_col3, #T_eea19_row14_col4, #T_eea19_row14_col5, #T_eea19_row14_col6, #T_eea19_row14_col7, #T_eea19_row14_col8, #T_eea19_row14_col9, #T_eea19_row14_col10, #T_eea19_row14_col21, #T_eea19_row14_col22, #T_eea19_row14_col23, #T_eea19_row14_col24, #T_eea19_row14_col25, #T_eea19_row14_col26, #T_eea19_row14_col27, #T_eea19_row15_col0, #T_eea19_row15_col1, #T_eea19_row15_col2, #T_eea19_row15_col3, #T_eea19_row15_col4, #T_eea19_row15_col5, #T_eea19_row15_col6, #T_eea19_row15_col7, #T_eea19_row15_col8, #T_eea19_row15_col9, #T_eea19_row15_col10, #T_eea19_row15_col11, #T_eea19_row15_col12, #T_eea19_row15_col13, #T_eea19_row15_col21, #T_eea19_row15_col22, #T_eea19_row15_col23, #T_eea19_row15_col24, #T_eea19_row15_col25, #T_eea19_row15_col26, #T_eea19_row15_col27, #T_eea19_row16_col0, #T_eea19_row16_col1, #T_eea19_row16_col2, #T_eea19_row16_col3, #T_eea19_row16_col4, #T_eea19_row16_col5, #T_eea19_row16_col6, #T_eea19_row16_col7, #T_eea19_row16_col8, #T_eea19_row16_col9, #T_eea19_row16_col10, #T_eea19_row16_col11, #T_eea19_row16_col12, #T_eea19_row16_col13, #T_eea19_row16_col14, #T_eea19_row16_col15, #T_eea19_row16_col16, #T_eea19_row16_col21, #T_eea19_row16_col22, #T_eea19_row16_col23, #T_eea19_row16_col24, #T_eea19_row16_col25, #T_eea19_row16_col26, #T_eea19_row16_col27, #T_eea19_row17_col0, #T_eea19_row17_col1, #T_eea19_row17_col2, #T_eea19_row17_col3, #T_eea19_row17_col4, #T_eea19_row17_col5, #T_eea19_row17_col6, #T_eea19_row17_col7, #T_eea19_row17_col8, #T_eea19_row17_col9, #T_eea19_row17_col10, #T_eea19_row17_col11, #T_eea19_row17_col12, #T_eea19_row17_col13, #T_eea19_row17_col14, #T_eea19_row17_col15, #T_eea19_row17_col16, #T_eea19_row17_col21, #T_eea19_row17_col22, #T_eea19_row17_col23, #T_eea19_row17_col24, #T_eea19_row17_col25, #T_eea19_row17_col26, #T_eea19_row17_col27, #T_eea19_row18_col0, #T_eea19_row18_col1, #T_eea19_row18_col2, #T_eea19_row18_col3, #T_eea19_row18_col4, #T_eea19_row18_col5, #T_eea19_row18_col6, #T_eea19_row18_col7, #T_eea19_row18_col8, #T_eea19_row18_col9, #T_eea19_row18_col10, #T_eea19_row18_col11, #T_eea19_row18_col12, #T_eea19_row18_col13, #T_eea19_row18_col14, #T_eea19_row18_col15, #T_eea19_row18_col21, #T_eea19_row18_col22, #T_eea19_row18_col23, #T_eea19_row18_col24, #T_eea19_row18_col25, #T_eea19_row18_col26, #T_eea19_row18_col27, #T_eea19_row19_col0, #T_eea19_row19_col1, #T_eea19_row19_col2, #T_eea19_row19_col3, #T_eea19_row19_col4, #T_eea19_row19_col5, #T_eea19_row19_col6, #T_eea19_row19_col7, #T_eea19_row19_col8, #T_eea19_row19_col9, #T_eea19_row19_col10, #T_eea19_row19_col11, #T_eea19_row19_col12, #T_eea19_row19_col13, #T_eea19_row19_col14, #T_eea19_row19_col21, #T_eea19_row19_col22, #T_eea19_row19_col23, #T_eea19_row19_col24, #T_eea19_row19_col25, #T_eea19_row19_col26, #T_eea19_row19_col27, #T_eea19_row20_col0, #T_eea19_row20_col1, #T_eea19_row20_col2, #T_eea19_row20_col3, #T_eea19_row20_col4, #T_eea19_row20_col5, #T_eea19_row20_col6, #T_eea19_row20_col7, #T_eea19_row20_col8, #T_eea19_row20_col9, #T_eea19_row20_col10, #T_eea19_row20_col11, #T_eea19_row20_col12, #T_eea19_row20_col13, #T_eea19_row20_col20, #T_eea19_row20_col21, #T_eea19_row20_col22, #T_eea19_row20_col23, #T_eea19_row20_col24, #T_eea19_row20_col25, #T_eea19_row20_col26, #T_eea19_row20_col27, #T_eea19_row21_col0, #T_eea19_row21_col1, #T_eea19_row21_col2, #T_eea19_row21_col3, #T_eea19_row21_col4, #T_eea19_row21_col5, #T_eea19_row21_col6, #T_eea19_row21_col7, #T_eea19_row21_col8, #T_eea19_row21_col9, #T_eea19_row21_col10, #T_eea19_row21_col11, #T_eea19_row21_col19, #T_eea19_row21_col20, #T_eea19_row21_col21, #T_eea19_row21_col22, #T_eea19_row21_col23, #T_eea19_row21_col24, #T_eea19_row21_col25, #T_eea19_row21_col26, #T_eea19_row21_col27, #T_eea19_row22_col0, #T_eea19_row22_col1, #T_eea19_row22_col2, #T_eea19_row22_col3, #T_eea19_row22_col4, #T_eea19_row22_col5, #T_eea19_row22_col18, #T_eea19_row22_col19, #T_eea19_row22_col20, #T_eea19_row22_col21, #T_eea19_row22_col22, #T_eea19_row22_col23, #T_eea19_row22_col24, #T_eea19_row22_col25, #T_eea19_row22_col26, #T_eea19_row22_col27, #T_eea19_row23_col0, #T_eea19_row23_col1, #T_eea19_row23_col2, #T_eea19_row23_col3, #T_eea19_row23_col4, #T_eea19_row23_col5, #T_eea19_row23_col16, #T_eea19_row23_col17, #T_eea19_row23_col18, #T_eea19_row23_col19, #T_eea19_row23_col20, #T_eea19_row23_col21, #T_eea19_row23_col22, #T_eea19_row23_col23, #T_eea19_row23_col24, #T_eea19_row23_col25, #T_eea19_row23_col26, #T_eea19_row23_col27, #T_eea19_row24_col0, #T_eea19_row24_col1, #T_eea19_row24_col2, #T_eea19_row24_col3, #T_eea19_row24_col4, #T_eea19_row24_col5, #T_eea19_row24_col14, #T_eea19_row24_col15, #T_eea19_row24_col16, #T_eea19_row24_col17, #T_eea19_row24_col18, #T_eea19_row24_col19, #T_eea19_row24_col20, #T_eea19_row24_col21, #T_eea19_row24_col22, #T_eea19_row24_col23, #T_eea19_row24_col24, #T_eea19_row24_col25, #T_eea19_row24_col26, #T_eea19_row24_col27, #T_eea19_row25_col0, #T_eea19_row25_col1, #T_eea19_row25_col2, #T_eea19_row25_col3, #T_eea19_row25_col4, #T_eea19_row25_col5, #T_eea19_row25_col6, #T_eea19_row25_col7, #T_eea19_row25_col8, #T_eea19_row25_col9, #T_eea19_row25_col10, #T_eea19_row25_col11, #T_eea19_row25_col12, #T_eea19_row25_col13, #T_eea19_row25_col14, #T_eea19_row25_col15, #T_eea19_row25_col16, #T_eea19_row25_col17, #T_eea19_row25_col18, #T_eea19_row25_col19, #T_eea19_row25_col20, #T_eea19_row25_col21, #T_eea19_row25_col22, #T_eea19_row25_col23, #T_eea19_row25_col24, #T_eea19_row25_col25, #T_eea19_row25_col26, #T_eea19_row25_col27, #T_eea19_row26_col0, #T_eea19_row26_col1, #T_eea19_row26_col2, #T_eea19_row26_col3, #T_eea19_row26_col4, #T_eea19_row26_col5, #T_eea19_row26_col6, #T_eea19_row26_col7, #T_eea19_row26_col8, #T_eea19_row26_col9, #T_eea19_row26_col10, #T_eea19_row26_col11, #T_eea19_row26_col12, #T_eea19_row26_col13, #T_eea19_row26_col14, #T_eea19_row26_col15, #T_eea19_row26_col16, #T_eea19_row26_col17, #T_eea19_row26_col18, #T_eea19_row26_col19, #T_eea19_row26_col20, #T_eea19_row26_col21, #T_eea19_row26_col22, #T_eea19_row26_col23, #T_eea19_row26_col24, #T_eea19_row26_col25, #T_eea19_row26_col26, #T_eea19_row26_col27, #T_eea19_row27_col0, #T_eea19_row27_col1, #T_eea19_row27_col2, #T_eea19_row27_col3, #T_eea19_row27_col4, #T_eea19_row27_col5, #T_eea19_row27_col6, #T_eea19_row27_col7, #T_eea19_row27_col8, #T_eea19_row27_col9, #T_eea19_row27_col10, #T_eea19_row27_col11, #T_eea19_row27_col12, #T_eea19_row27_col13, #T_eea19_row27_col14, #T_eea19_row27_col15, #T_eea19_row27_col16, #T_eea19_row27_col17, #T_eea19_row27_col18, #T_eea19_row27_col19, #T_eea19_row27_col20, #T_eea19_row27_col21, #T_eea19_row27_col22, #T_eea19_row27_col23, #T_eea19_row27_col24, #T_eea19_row27_col25, #T_eea19_row27_col26, #T_eea19_row27_col27 {\n",
       "  font-size: 6pt;\n",
       "  background-color: #ffffff;\n",
       "  color: #000000;\n",
       "}\n",
       "#T_eea19_row5_col9, #T_eea19_row12_col16 {\n",
       "  font-size: 6pt;\n",
       "  background-color: #f1f1f1;\n",
       "  color: #000000;\n",
       "}\n",
       "#T_eea19_row5_col10, #T_eea19_row5_col17 {\n",
       "  font-size: 6pt;\n",
       "  background-color: #7c7c7c;\n",
       "  color: #f1f1f1;\n",
       "}\n",
       "#T_eea19_row5_col11 {\n",
       "  font-size: 6pt;\n",
       "  background-color: #4a4a4a;\n",
       "  color: #f1f1f1;\n",
       "}\n",
       "#T_eea19_row5_col12, #T_eea19_row5_col13, #T_eea19_row5_col14, #T_eea19_row6_col10, #T_eea19_row6_col11, #T_eea19_row6_col15, #T_eea19_row6_col16, #T_eea19_row6_col17, #T_eea19_row7_col8, #T_eea19_row7_col16, #T_eea19_row7_col17, #T_eea19_row8_col5, #T_eea19_row8_col6, #T_eea19_row8_col7, #T_eea19_row8_col16, #T_eea19_row8_col17, #T_eea19_row9_col16, #T_eea19_row10_col15, #T_eea19_row13_col15, #T_eea19_row14_col15, #T_eea19_row14_col16, #T_eea19_row14_col17, #T_eea19_row14_col18, #T_eea19_row15_col17, #T_eea19_row15_col18, #T_eea19_row15_col19, #T_eea19_row16_col18, #T_eea19_row16_col19, #T_eea19_row16_col20, #T_eea19_row17_col18, #T_eea19_row17_col19, #T_eea19_row18_col18, #T_eea19_row18_col19, #T_eea19_row19_col17, #T_eea19_row19_col18, #T_eea19_row20_col16, #T_eea19_row20_col17, #T_eea19_row21_col15, #T_eea19_row21_col16, #T_eea19_row23_col7, #T_eea19_row23_col8, #T_eea19_row23_col9, #T_eea19_row23_col10, #T_eea19_row23_col11, #T_eea19_row24_col7, #T_eea19_row24_col8, #T_eea19_row24_col9, #T_eea19_row24_col10, #T_eea19_row24_col11 {\n",
       "  font-size: 6pt;\n",
       "  background-color: #000000;\n",
       "  color: #f1f1f1;\n",
       "}\n",
       "#T_eea19_row5_col15 {\n",
       "  font-size: 6pt;\n",
       "  background-color: #606060;\n",
       "  color: #f1f1f1;\n",
       "}\n",
       "#T_eea19_row5_col16 {\n",
       "  font-size: 6pt;\n",
       "  background-color: #4d4d4d;\n",
       "  color: #f1f1f1;\n",
       "}\n",
       "#T_eea19_row5_col18 {\n",
       "  font-size: 6pt;\n",
       "  background-color: #bbbbbb;\n",
       "  color: #000000;\n",
       "}\n",
       "#T_eea19_row6_col7, #T_eea19_row8_col9 {\n",
       "  font-size: 6pt;\n",
       "  background-color: #e4e4e4;\n",
       "  color: #000000;\n",
       "}\n",
       "#T_eea19_row6_col8, #T_eea19_row12_col10 {\n",
       "  font-size: 6pt;\n",
       "  background-color: #6b6b6b;\n",
       "  color: #f1f1f1;\n",
       "}\n",
       "#T_eea19_row6_col9, #T_eea19_row9_col15 {\n",
       "  font-size: 6pt;\n",
       "  background-color: #222222;\n",
       "  color: #f1f1f1;\n",
       "}\n",
       "#T_eea19_row6_col12, #T_eea19_row6_col18, #T_eea19_row7_col18, #T_eea19_row21_col17 {\n",
       "  font-size: 6pt;\n",
       "  background-color: #171717;\n",
       "  color: #f1f1f1;\n",
       "}\n",
       "#T_eea19_row6_col13, #T_eea19_row7_col15 {\n",
       "  font-size: 6pt;\n",
       "  background-color: #4b4b4b;\n",
       "  color: #f1f1f1;\n",
       "}\n",
       "#T_eea19_row6_col14, #T_eea19_row11_col14, #T_eea19_row12_col12, #T_eea19_row12_col14, #T_eea19_row13_col12, #T_eea19_row13_col14, #T_eea19_row22_col14, #T_eea19_row23_col12 {\n",
       "  font-size: 6pt;\n",
       "  background-color: #010101;\n",
       "  color: #f1f1f1;\n",
       "}\n",
       "#T_eea19_row7_col5 {\n",
       "  font-size: 6pt;\n",
       "  background-color: #272727;\n",
       "  color: #f1f1f1;\n",
       "}\n",
       "#T_eea19_row7_col6 {\n",
       "  font-size: 6pt;\n",
       "  background-color: #0a0a0a;\n",
       "  color: #f1f1f1;\n",
       "}\n",
       "#T_eea19_row7_col7, #T_eea19_row18_col17 {\n",
       "  font-size: 6pt;\n",
       "  background-color: #050505;\n",
       "  color: #f1f1f1;\n",
       "}\n",
       "#T_eea19_row7_col9, #T_eea19_row12_col15, #T_eea19_row14_col19, #T_eea19_row23_col6 {\n",
       "  font-size: 6pt;\n",
       "  background-color: #545454;\n",
       "  color: #f1f1f1;\n",
       "}\n",
       "#T_eea19_row7_col10 {\n",
       "  font-size: 6pt;\n",
       "  background-color: #e6e6e6;\n",
       "  color: #000000;\n",
       "}\n",
       "#T_eea19_row7_col11, #T_eea19_row7_col14, #T_eea19_row12_col9 {\n",
       "  font-size: 6pt;\n",
       "  background-color: #fafafa;\n",
       "  color: #000000;\n",
       "}\n",
       "#T_eea19_row7_col12, #T_eea19_row15_col14, #T_eea19_row20_col19 {\n",
       "  font-size: 6pt;\n",
       "  background-color: #fbfbfb;\n",
       "  color: #000000;\n",
       "}\n",
       "#T_eea19_row7_col13 {\n",
       "  font-size: 6pt;\n",
       "  background-color: #fdfdfd;\n",
       "  color: #000000;\n",
       "}\n",
       "#T_eea19_row8_col8 {\n",
       "  font-size: 6pt;\n",
       "  background-color: #1b1b1b;\n",
       "  color: #f1f1f1;\n",
       "}\n",
       "#T_eea19_row8_col15 {\n",
       "  font-size: 6pt;\n",
       "  background-color: #4e4e4e;\n",
       "  color: #f1f1f1;\n",
       "}\n",
       "#T_eea19_row8_col18 {\n",
       "  font-size: 6pt;\n",
       "  background-color: #767676;\n",
       "  color: #f1f1f1;\n",
       "}\n",
       "#T_eea19_row9_col5 {\n",
       "  font-size: 6pt;\n",
       "  background-color: #fcfcfc;\n",
       "  color: #000000;\n",
       "}\n",
       "#T_eea19_row9_col6, #T_eea19_row9_col7, #T_eea19_row19_col20 {\n",
       "  font-size: 6pt;\n",
       "  background-color: #f6f6f6;\n",
       "  color: #000000;\n",
       "}\n",
       "#T_eea19_row9_col8, #T_eea19_row11_col11 {\n",
       "  font-size: 6pt;\n",
       "  background-color: #f8f8f8;\n",
       "  color: #000000;\n",
       "}\n",
       "#T_eea19_row9_col14, #T_eea19_row14_col11 {\n",
       "  font-size: 6pt;\n",
       "  background-color: #e8e8e8;\n",
       "  color: #000000;\n",
       "}\n",
       "#T_eea19_row9_col17, #T_eea19_row10_col16 {\n",
       "  font-size: 6pt;\n",
       "  background-color: #090909;\n",
       "  color: #f1f1f1;\n",
       "}\n",
       "#T_eea19_row9_col18 {\n",
       "  font-size: 6pt;\n",
       "  background-color: #d0d0d0;\n",
       "  color: #000000;\n",
       "}\n",
       "#T_eea19_row10_col14, #T_eea19_row11_col15, #T_eea19_row13_col10 {\n",
       "  font-size: 6pt;\n",
       "  background-color: #060606;\n",
       "  color: #f1f1f1;\n",
       "}\n",
       "#T_eea19_row10_col17 {\n",
       "  font-size: 6pt;\n",
       "  background-color: #979797;\n",
       "  color: #f1f1f1;\n",
       "}\n",
       "#T_eea19_row11_col12 {\n",
       "  font-size: 6pt;\n",
       "  background-color: #b6b6b6;\n",
       "  color: #000000;\n",
       "}\n",
       "#T_eea19_row11_col13 {\n",
       "  font-size: 6pt;\n",
       "  background-color: #252525;\n",
       "  color: #f1f1f1;\n",
       "}\n",
       "#T_eea19_row11_col16 {\n",
       "  font-size: 6pt;\n",
       "  background-color: #999999;\n",
       "  color: #f1f1f1;\n",
       "}\n",
       "#T_eea19_row12_col11, #T_eea19_row22_col12 {\n",
       "  font-size: 6pt;\n",
       "  background-color: #101010;\n",
       "  color: #f1f1f1;\n",
       "}\n",
       "#T_eea19_row12_col13, #T_eea19_row13_col13, #T_eea19_row21_col14, #T_eea19_row22_col13, #T_eea19_row23_col13 {\n",
       "  font-size: 6pt;\n",
       "  background-color: #020202;\n",
       "  color: #f1f1f1;\n",
       "}\n",
       "#T_eea19_row13_col9 {\n",
       "  font-size: 6pt;\n",
       "  background-color: #f7f7f7;\n",
       "  color: #000000;\n",
       "}\n",
       "#T_eea19_row13_col11, #T_eea19_row22_col15 {\n",
       "  font-size: 6pt;\n",
       "  background-color: #030303;\n",
       "  color: #f1f1f1;\n",
       "}\n",
       "#T_eea19_row13_col16 {\n",
       "  font-size: 6pt;\n",
       "  background-color: #181818;\n",
       "  color: #f1f1f1;\n",
       "}\n",
       "#T_eea19_row13_col17 {\n",
       "  font-size: 6pt;\n",
       "  background-color: #303030;\n",
       "  color: #f1f1f1;\n",
       "}\n",
       "#T_eea19_row13_col18 {\n",
       "  font-size: 6pt;\n",
       "  background-color: #a9a9a9;\n",
       "  color: #f1f1f1;\n",
       "}\n",
       "#T_eea19_row13_col19 {\n",
       "  font-size: 6pt;\n",
       "  background-color: #fefefe;\n",
       "  color: #000000;\n",
       "}\n",
       "#T_eea19_row14_col12, #T_eea19_row14_col13, #T_eea19_row20_col14 {\n",
       "  font-size: 6pt;\n",
       "  background-color: #bababa;\n",
       "  color: #000000;\n",
       "}\n",
       "#T_eea19_row14_col14 {\n",
       "  font-size: 6pt;\n",
       "  background-color: #393939;\n",
       "  color: #f1f1f1;\n",
       "}\n",
       "#T_eea19_row14_col20 {\n",
       "  font-size: 6pt;\n",
       "  background-color: #eaeaea;\n",
       "  color: #000000;\n",
       "}\n",
       "#T_eea19_row15_col15 {\n",
       "  font-size: 6pt;\n",
       "  background-color: #e2e2e2;\n",
       "  color: #000000;\n",
       "}\n",
       "#T_eea19_row15_col16 {\n",
       "  font-size: 6pt;\n",
       "  background-color: #9f9f9f;\n",
       "  color: #f1f1f1;\n",
       "}\n",
       "#T_eea19_row15_col20 {\n",
       "  font-size: 6pt;\n",
       "  background-color: #898989;\n",
       "  color: #f1f1f1;\n",
       "}\n",
       "#T_eea19_row16_col17 {\n",
       "  font-size: 6pt;\n",
       "  background-color: #585858;\n",
       "  color: #f1f1f1;\n",
       "}\n",
       "#T_eea19_row17_col17 {\n",
       "  font-size: 6pt;\n",
       "  background-color: #5a5a5a;\n",
       "  color: #f1f1f1;\n",
       "}\n",
       "#T_eea19_row17_col20 {\n",
       "  font-size: 6pt;\n",
       "  background-color: #525252;\n",
       "  color: #f1f1f1;\n",
       "}\n",
       "#T_eea19_row18_col16, #T_eea19_row23_col15 {\n",
       "  font-size: 6pt;\n",
       "  background-color: #c5c5c5;\n",
       "  color: #000000;\n",
       "}\n",
       "#T_eea19_row18_col20 {\n",
       "  font-size: 6pt;\n",
       "  background-color: #d7d7d7;\n",
       "  color: #000000;\n",
       "}\n",
       "#T_eea19_row19_col15, #T_eea19_row22_col9 {\n",
       "  font-size: 6pt;\n",
       "  background-color: #dcdcdc;\n",
       "  color: #000000;\n",
       "}\n",
       "#T_eea19_row19_col16 {\n",
       "  font-size: 6pt;\n",
       "  background-color: #2f2f2f;\n",
       "  color: #f1f1f1;\n",
       "}\n",
       "#T_eea19_row19_col19 {\n",
       "  font-size: 6pt;\n",
       "  background-color: #636363;\n",
       "  color: #f1f1f1;\n",
       "}\n",
       "#T_eea19_row20_col15 {\n",
       "  font-size: 6pt;\n",
       "  background-color: #070707;\n",
       "  color: #f1f1f1;\n",
       "}\n",
       "#T_eea19_row20_col18 {\n",
       "  font-size: 6pt;\n",
       "  background-color: #1f1f1f;\n",
       "  color: #f1f1f1;\n",
       "}\n",
       "#T_eea19_row21_col12, #T_eea19_row22_col6, #T_eea19_row22_col8 {\n",
       "  font-size: 6pt;\n",
       "  background-color: #e9e9e9;\n",
       "  color: #000000;\n",
       "}\n",
       "#T_eea19_row21_col13 {\n",
       "  font-size: 6pt;\n",
       "  background-color: #7d7d7d;\n",
       "  color: #f1f1f1;\n",
       "}\n",
       "#T_eea19_row21_col18 {\n",
       "  font-size: 6pt;\n",
       "  background-color: #e1e1e1;\n",
       "  color: #000000;\n",
       "}\n",
       "#T_eea19_row22_col7, #T_eea19_row22_col10 {\n",
       "  font-size: 6pt;\n",
       "  background-color: #a4a4a4;\n",
       "  color: #f1f1f1;\n",
       "}\n",
       "#T_eea19_row22_col11 {\n",
       "  font-size: 6pt;\n",
       "  background-color: #727272;\n",
       "  color: #f1f1f1;\n",
       "}\n",
       "#T_eea19_row22_col16 {\n",
       "  font-size: 6pt;\n",
       "  background-color: #616161;\n",
       "  color: #f1f1f1;\n",
       "}\n",
       "#T_eea19_row22_col17 {\n",
       "  font-size: 6pt;\n",
       "  background-color: #f3f3f3;\n",
       "  color: #000000;\n",
       "}\n",
       "#T_eea19_row23_col14 {\n",
       "  font-size: 6pt;\n",
       "  background-color: #484848;\n",
       "  color: #f1f1f1;\n",
       "}\n",
       "#T_eea19_row24_col6 {\n",
       "  font-size: 6pt;\n",
       "  background-color: #b3b3b3;\n",
       "  color: #000000;\n",
       "}\n",
       "#T_eea19_row24_col12 {\n",
       "  font-size: 6pt;\n",
       "  background-color: #1a1a1a;\n",
       "  color: #f1f1f1;\n",
       "}\n",
       "#T_eea19_row24_col13 {\n",
       "  font-size: 6pt;\n",
       "  background-color: #d6d6d6;\n",
       "  color: #000000;\n",
       "}\n",
       "</style>\n",
       "<table id=\"T_eea19_\">\n",
       "  <thead>\n",
       "    <tr>\n",
       "      <th class=\"blank level0\" >&nbsp;</th>\n",
       "      <th class=\"col_heading level0 col0\" >0</th>\n",
       "      <th class=\"col_heading level0 col1\" >1</th>\n",
       "      <th class=\"col_heading level0 col2\" >2</th>\n",
       "      <th class=\"col_heading level0 col3\" >3</th>\n",
       "      <th class=\"col_heading level0 col4\" >4</th>\n",
       "      <th class=\"col_heading level0 col5\" >5</th>\n",
       "      <th class=\"col_heading level0 col6\" >6</th>\n",
       "      <th class=\"col_heading level0 col7\" >7</th>\n",
       "      <th class=\"col_heading level0 col8\" >8</th>\n",
       "      <th class=\"col_heading level0 col9\" >9</th>\n",
       "      <th class=\"col_heading level0 col10\" >10</th>\n",
       "      <th class=\"col_heading level0 col11\" >11</th>\n",
       "      <th class=\"col_heading level0 col12\" >12</th>\n",
       "      <th class=\"col_heading level0 col13\" >13</th>\n",
       "      <th class=\"col_heading level0 col14\" >14</th>\n",
       "      <th class=\"col_heading level0 col15\" >15</th>\n",
       "      <th class=\"col_heading level0 col16\" >16</th>\n",
       "      <th class=\"col_heading level0 col17\" >17</th>\n",
       "      <th class=\"col_heading level0 col18\" >18</th>\n",
       "      <th class=\"col_heading level0 col19\" >19</th>\n",
       "      <th class=\"col_heading level0 col20\" >20</th>\n",
       "      <th class=\"col_heading level0 col21\" >21</th>\n",
       "      <th class=\"col_heading level0 col22\" >22</th>\n",
       "      <th class=\"col_heading level0 col23\" >23</th>\n",
       "      <th class=\"col_heading level0 col24\" >24</th>\n",
       "      <th class=\"col_heading level0 col25\" >25</th>\n",
       "      <th class=\"col_heading level0 col26\" >26</th>\n",
       "      <th class=\"col_heading level0 col27\" >27</th>\n",
       "    </tr>\n",
       "  </thead>\n",
       "  <tbody>\n",
       "    <tr>\n",
       "      <th id=\"T_eea19_level0_row0\" class=\"row_heading level0 row0\" >0</th>\n",
       "      <td id=\"T_eea19_row0_col0\" class=\"data row0 col0\" >0</td>\n",
       "      <td id=\"T_eea19_row0_col1\" class=\"data row0 col1\" >0</td>\n",
       "      <td id=\"T_eea19_row0_col2\" class=\"data row0 col2\" >0</td>\n",
       "      <td id=\"T_eea19_row0_col3\" class=\"data row0 col3\" >0</td>\n",
       "      <td id=\"T_eea19_row0_col4\" class=\"data row0 col4\" >0</td>\n",
       "      <td id=\"T_eea19_row0_col5\" class=\"data row0 col5\" >0</td>\n",
       "      <td id=\"T_eea19_row0_col6\" class=\"data row0 col6\" >0</td>\n",
       "      <td id=\"T_eea19_row0_col7\" class=\"data row0 col7\" >0</td>\n",
       "      <td id=\"T_eea19_row0_col8\" class=\"data row0 col8\" >0</td>\n",
       "      <td id=\"T_eea19_row0_col9\" class=\"data row0 col9\" >0</td>\n",
       "      <td id=\"T_eea19_row0_col10\" class=\"data row0 col10\" >0</td>\n",
       "      <td id=\"T_eea19_row0_col11\" class=\"data row0 col11\" >0</td>\n",
       "      <td id=\"T_eea19_row0_col12\" class=\"data row0 col12\" >0</td>\n",
       "      <td id=\"T_eea19_row0_col13\" class=\"data row0 col13\" >0</td>\n",
       "      <td id=\"T_eea19_row0_col14\" class=\"data row0 col14\" >0</td>\n",
       "      <td id=\"T_eea19_row0_col15\" class=\"data row0 col15\" >0</td>\n",
       "      <td id=\"T_eea19_row0_col16\" class=\"data row0 col16\" >0</td>\n",
       "      <td id=\"T_eea19_row0_col17\" class=\"data row0 col17\" >0</td>\n",
       "      <td id=\"T_eea19_row0_col18\" class=\"data row0 col18\" >0</td>\n",
       "      <td id=\"T_eea19_row0_col19\" class=\"data row0 col19\" >0</td>\n",
       "      <td id=\"T_eea19_row0_col20\" class=\"data row0 col20\" >0</td>\n",
       "      <td id=\"T_eea19_row0_col21\" class=\"data row0 col21\" >0</td>\n",
       "      <td id=\"T_eea19_row0_col22\" class=\"data row0 col22\" >0</td>\n",
       "      <td id=\"T_eea19_row0_col23\" class=\"data row0 col23\" >0</td>\n",
       "      <td id=\"T_eea19_row0_col24\" class=\"data row0 col24\" >0</td>\n",
       "      <td id=\"T_eea19_row0_col25\" class=\"data row0 col25\" >0</td>\n",
       "      <td id=\"T_eea19_row0_col26\" class=\"data row0 col26\" >0</td>\n",
       "      <td id=\"T_eea19_row0_col27\" class=\"data row0 col27\" >0</td>\n",
       "    </tr>\n",
       "    <tr>\n",
       "      <th id=\"T_eea19_level0_row1\" class=\"row_heading level0 row1\" >1</th>\n",
       "      <td id=\"T_eea19_row1_col0\" class=\"data row1 col0\" >0</td>\n",
       "      <td id=\"T_eea19_row1_col1\" class=\"data row1 col1\" >0</td>\n",
       "      <td id=\"T_eea19_row1_col2\" class=\"data row1 col2\" >0</td>\n",
       "      <td id=\"T_eea19_row1_col3\" class=\"data row1 col3\" >0</td>\n",
       "      <td id=\"T_eea19_row1_col4\" class=\"data row1 col4\" >0</td>\n",
       "      <td id=\"T_eea19_row1_col5\" class=\"data row1 col5\" >0</td>\n",
       "      <td id=\"T_eea19_row1_col6\" class=\"data row1 col6\" >0</td>\n",
       "      <td id=\"T_eea19_row1_col7\" class=\"data row1 col7\" >0</td>\n",
       "      <td id=\"T_eea19_row1_col8\" class=\"data row1 col8\" >0</td>\n",
       "      <td id=\"T_eea19_row1_col9\" class=\"data row1 col9\" >0</td>\n",
       "      <td id=\"T_eea19_row1_col10\" class=\"data row1 col10\" >0</td>\n",
       "      <td id=\"T_eea19_row1_col11\" class=\"data row1 col11\" >0</td>\n",
       "      <td id=\"T_eea19_row1_col12\" class=\"data row1 col12\" >0</td>\n",
       "      <td id=\"T_eea19_row1_col13\" class=\"data row1 col13\" >0</td>\n",
       "      <td id=\"T_eea19_row1_col14\" class=\"data row1 col14\" >0</td>\n",
       "      <td id=\"T_eea19_row1_col15\" class=\"data row1 col15\" >0</td>\n",
       "      <td id=\"T_eea19_row1_col16\" class=\"data row1 col16\" >0</td>\n",
       "      <td id=\"T_eea19_row1_col17\" class=\"data row1 col17\" >0</td>\n",
       "      <td id=\"T_eea19_row1_col18\" class=\"data row1 col18\" >0</td>\n",
       "      <td id=\"T_eea19_row1_col19\" class=\"data row1 col19\" >0</td>\n",
       "      <td id=\"T_eea19_row1_col20\" class=\"data row1 col20\" >0</td>\n",
       "      <td id=\"T_eea19_row1_col21\" class=\"data row1 col21\" >0</td>\n",
       "      <td id=\"T_eea19_row1_col22\" class=\"data row1 col22\" >0</td>\n",
       "      <td id=\"T_eea19_row1_col23\" class=\"data row1 col23\" >0</td>\n",
       "      <td id=\"T_eea19_row1_col24\" class=\"data row1 col24\" >0</td>\n",
       "      <td id=\"T_eea19_row1_col25\" class=\"data row1 col25\" >0</td>\n",
       "      <td id=\"T_eea19_row1_col26\" class=\"data row1 col26\" >0</td>\n",
       "      <td id=\"T_eea19_row1_col27\" class=\"data row1 col27\" >0</td>\n",
       "    </tr>\n",
       "    <tr>\n",
       "      <th id=\"T_eea19_level0_row2\" class=\"row_heading level0 row2\" >2</th>\n",
       "      <td id=\"T_eea19_row2_col0\" class=\"data row2 col0\" >0</td>\n",
       "      <td id=\"T_eea19_row2_col1\" class=\"data row2 col1\" >0</td>\n",
       "      <td id=\"T_eea19_row2_col2\" class=\"data row2 col2\" >0</td>\n",
       "      <td id=\"T_eea19_row2_col3\" class=\"data row2 col3\" >0</td>\n",
       "      <td id=\"T_eea19_row2_col4\" class=\"data row2 col4\" >0</td>\n",
       "      <td id=\"T_eea19_row2_col5\" class=\"data row2 col5\" >0</td>\n",
       "      <td id=\"T_eea19_row2_col6\" class=\"data row2 col6\" >0</td>\n",
       "      <td id=\"T_eea19_row2_col7\" class=\"data row2 col7\" >0</td>\n",
       "      <td id=\"T_eea19_row2_col8\" class=\"data row2 col8\" >0</td>\n",
       "      <td id=\"T_eea19_row2_col9\" class=\"data row2 col9\" >0</td>\n",
       "      <td id=\"T_eea19_row2_col10\" class=\"data row2 col10\" >0</td>\n",
       "      <td id=\"T_eea19_row2_col11\" class=\"data row2 col11\" >0</td>\n",
       "      <td id=\"T_eea19_row2_col12\" class=\"data row2 col12\" >0</td>\n",
       "      <td id=\"T_eea19_row2_col13\" class=\"data row2 col13\" >0</td>\n",
       "      <td id=\"T_eea19_row2_col14\" class=\"data row2 col14\" >0</td>\n",
       "      <td id=\"T_eea19_row2_col15\" class=\"data row2 col15\" >0</td>\n",
       "      <td id=\"T_eea19_row2_col16\" class=\"data row2 col16\" >0</td>\n",
       "      <td id=\"T_eea19_row2_col17\" class=\"data row2 col17\" >0</td>\n",
       "      <td id=\"T_eea19_row2_col18\" class=\"data row2 col18\" >0</td>\n",
       "      <td id=\"T_eea19_row2_col19\" class=\"data row2 col19\" >0</td>\n",
       "      <td id=\"T_eea19_row2_col20\" class=\"data row2 col20\" >0</td>\n",
       "      <td id=\"T_eea19_row2_col21\" class=\"data row2 col21\" >0</td>\n",
       "      <td id=\"T_eea19_row2_col22\" class=\"data row2 col22\" >0</td>\n",
       "      <td id=\"T_eea19_row2_col23\" class=\"data row2 col23\" >0</td>\n",
       "      <td id=\"T_eea19_row2_col24\" class=\"data row2 col24\" >0</td>\n",
       "      <td id=\"T_eea19_row2_col25\" class=\"data row2 col25\" >0</td>\n",
       "      <td id=\"T_eea19_row2_col26\" class=\"data row2 col26\" >0</td>\n",
       "      <td id=\"T_eea19_row2_col27\" class=\"data row2 col27\" >0</td>\n",
       "    </tr>\n",
       "    <tr>\n",
       "      <th id=\"T_eea19_level0_row3\" class=\"row_heading level0 row3\" >3</th>\n",
       "      <td id=\"T_eea19_row3_col0\" class=\"data row3 col0\" >0</td>\n",
       "      <td id=\"T_eea19_row3_col1\" class=\"data row3 col1\" >0</td>\n",
       "      <td id=\"T_eea19_row3_col2\" class=\"data row3 col2\" >0</td>\n",
       "      <td id=\"T_eea19_row3_col3\" class=\"data row3 col3\" >0</td>\n",
       "      <td id=\"T_eea19_row3_col4\" class=\"data row3 col4\" >0</td>\n",
       "      <td id=\"T_eea19_row3_col5\" class=\"data row3 col5\" >0</td>\n",
       "      <td id=\"T_eea19_row3_col6\" class=\"data row3 col6\" >0</td>\n",
       "      <td id=\"T_eea19_row3_col7\" class=\"data row3 col7\" >0</td>\n",
       "      <td id=\"T_eea19_row3_col8\" class=\"data row3 col8\" >0</td>\n",
       "      <td id=\"T_eea19_row3_col9\" class=\"data row3 col9\" >0</td>\n",
       "      <td id=\"T_eea19_row3_col10\" class=\"data row3 col10\" >0</td>\n",
       "      <td id=\"T_eea19_row3_col11\" class=\"data row3 col11\" >0</td>\n",
       "      <td id=\"T_eea19_row3_col12\" class=\"data row3 col12\" >0</td>\n",
       "      <td id=\"T_eea19_row3_col13\" class=\"data row3 col13\" >0</td>\n",
       "      <td id=\"T_eea19_row3_col14\" class=\"data row3 col14\" >0</td>\n",
       "      <td id=\"T_eea19_row3_col15\" class=\"data row3 col15\" >0</td>\n",
       "      <td id=\"T_eea19_row3_col16\" class=\"data row3 col16\" >0</td>\n",
       "      <td id=\"T_eea19_row3_col17\" class=\"data row3 col17\" >0</td>\n",
       "      <td id=\"T_eea19_row3_col18\" class=\"data row3 col18\" >0</td>\n",
       "      <td id=\"T_eea19_row3_col19\" class=\"data row3 col19\" >0</td>\n",
       "      <td id=\"T_eea19_row3_col20\" class=\"data row3 col20\" >0</td>\n",
       "      <td id=\"T_eea19_row3_col21\" class=\"data row3 col21\" >0</td>\n",
       "      <td id=\"T_eea19_row3_col22\" class=\"data row3 col22\" >0</td>\n",
       "      <td id=\"T_eea19_row3_col23\" class=\"data row3 col23\" >0</td>\n",
       "      <td id=\"T_eea19_row3_col24\" class=\"data row3 col24\" >0</td>\n",
       "      <td id=\"T_eea19_row3_col25\" class=\"data row3 col25\" >0</td>\n",
       "      <td id=\"T_eea19_row3_col26\" class=\"data row3 col26\" >0</td>\n",
       "      <td id=\"T_eea19_row3_col27\" class=\"data row3 col27\" >0</td>\n",
       "    </tr>\n",
       "    <tr>\n",
       "      <th id=\"T_eea19_level0_row4\" class=\"row_heading level0 row4\" >4</th>\n",
       "      <td id=\"T_eea19_row4_col0\" class=\"data row4 col0\" >0</td>\n",
       "      <td id=\"T_eea19_row4_col1\" class=\"data row4 col1\" >0</td>\n",
       "      <td id=\"T_eea19_row4_col2\" class=\"data row4 col2\" >0</td>\n",
       "      <td id=\"T_eea19_row4_col3\" class=\"data row4 col3\" >0</td>\n",
       "      <td id=\"T_eea19_row4_col4\" class=\"data row4 col4\" >0</td>\n",
       "      <td id=\"T_eea19_row4_col5\" class=\"data row4 col5\" >0</td>\n",
       "      <td id=\"T_eea19_row4_col6\" class=\"data row4 col6\" >0</td>\n",
       "      <td id=\"T_eea19_row4_col7\" class=\"data row4 col7\" >0</td>\n",
       "      <td id=\"T_eea19_row4_col8\" class=\"data row4 col8\" >0</td>\n",
       "      <td id=\"T_eea19_row4_col9\" class=\"data row4 col9\" >0</td>\n",
       "      <td id=\"T_eea19_row4_col10\" class=\"data row4 col10\" >0</td>\n",
       "      <td id=\"T_eea19_row4_col11\" class=\"data row4 col11\" >0</td>\n",
       "      <td id=\"T_eea19_row4_col12\" class=\"data row4 col12\" >0</td>\n",
       "      <td id=\"T_eea19_row4_col13\" class=\"data row4 col13\" >0</td>\n",
       "      <td id=\"T_eea19_row4_col14\" class=\"data row4 col14\" >0</td>\n",
       "      <td id=\"T_eea19_row4_col15\" class=\"data row4 col15\" >0</td>\n",
       "      <td id=\"T_eea19_row4_col16\" class=\"data row4 col16\" >0</td>\n",
       "      <td id=\"T_eea19_row4_col17\" class=\"data row4 col17\" >0</td>\n",
       "      <td id=\"T_eea19_row4_col18\" class=\"data row4 col18\" >0</td>\n",
       "      <td id=\"T_eea19_row4_col19\" class=\"data row4 col19\" >0</td>\n",
       "      <td id=\"T_eea19_row4_col20\" class=\"data row4 col20\" >0</td>\n",
       "      <td id=\"T_eea19_row4_col21\" class=\"data row4 col21\" >0</td>\n",
       "      <td id=\"T_eea19_row4_col22\" class=\"data row4 col22\" >0</td>\n",
       "      <td id=\"T_eea19_row4_col23\" class=\"data row4 col23\" >0</td>\n",
       "      <td id=\"T_eea19_row4_col24\" class=\"data row4 col24\" >0</td>\n",
       "      <td id=\"T_eea19_row4_col25\" class=\"data row4 col25\" >0</td>\n",
       "      <td id=\"T_eea19_row4_col26\" class=\"data row4 col26\" >0</td>\n",
       "      <td id=\"T_eea19_row4_col27\" class=\"data row4 col27\" >0</td>\n",
       "    </tr>\n",
       "    <tr>\n",
       "      <th id=\"T_eea19_level0_row5\" class=\"row_heading level0 row5\" >5</th>\n",
       "      <td id=\"T_eea19_row5_col0\" class=\"data row5 col0\" >0</td>\n",
       "      <td id=\"T_eea19_row5_col1\" class=\"data row5 col1\" >0</td>\n",
       "      <td id=\"T_eea19_row5_col2\" class=\"data row5 col2\" >0</td>\n",
       "      <td id=\"T_eea19_row5_col3\" class=\"data row5 col3\" >0</td>\n",
       "      <td id=\"T_eea19_row5_col4\" class=\"data row5 col4\" >0</td>\n",
       "      <td id=\"T_eea19_row5_col5\" class=\"data row5 col5\" >0</td>\n",
       "      <td id=\"T_eea19_row5_col6\" class=\"data row5 col6\" >0</td>\n",
       "      <td id=\"T_eea19_row5_col7\" class=\"data row5 col7\" >0</td>\n",
       "      <td id=\"T_eea19_row5_col8\" class=\"data row5 col8\" >0</td>\n",
       "      <td id=\"T_eea19_row5_col9\" class=\"data row5 col9\" >29</td>\n",
       "      <td id=\"T_eea19_row5_col10\" class=\"data row5 col10\" >150</td>\n",
       "      <td id=\"T_eea19_row5_col11\" class=\"data row5 col11\" >195</td>\n",
       "      <td id=\"T_eea19_row5_col12\" class=\"data row5 col12\" >254</td>\n",
       "      <td id=\"T_eea19_row5_col13\" class=\"data row5 col13\" >255</td>\n",
       "      <td id=\"T_eea19_row5_col14\" class=\"data row5 col14\" >254</td>\n",
       "      <td id=\"T_eea19_row5_col15\" class=\"data row5 col15\" >176</td>\n",
       "      <td id=\"T_eea19_row5_col16\" class=\"data row5 col16\" >193</td>\n",
       "      <td id=\"T_eea19_row5_col17\" class=\"data row5 col17\" >150</td>\n",
       "      <td id=\"T_eea19_row5_col18\" class=\"data row5 col18\" >96</td>\n",
       "      <td id=\"T_eea19_row5_col19\" class=\"data row5 col19\" >0</td>\n",
       "      <td id=\"T_eea19_row5_col20\" class=\"data row5 col20\" >0</td>\n",
       "      <td id=\"T_eea19_row5_col21\" class=\"data row5 col21\" >0</td>\n",
       "      <td id=\"T_eea19_row5_col22\" class=\"data row5 col22\" >0</td>\n",
       "      <td id=\"T_eea19_row5_col23\" class=\"data row5 col23\" >0</td>\n",
       "      <td id=\"T_eea19_row5_col24\" class=\"data row5 col24\" >0</td>\n",
       "      <td id=\"T_eea19_row5_col25\" class=\"data row5 col25\" >0</td>\n",
       "      <td id=\"T_eea19_row5_col26\" class=\"data row5 col26\" >0</td>\n",
       "      <td id=\"T_eea19_row5_col27\" class=\"data row5 col27\" >0</td>\n",
       "    </tr>\n",
       "    <tr>\n",
       "      <th id=\"T_eea19_level0_row6\" class=\"row_heading level0 row6\" >6</th>\n",
       "      <td id=\"T_eea19_row6_col0\" class=\"data row6 col0\" >0</td>\n",
       "      <td id=\"T_eea19_row6_col1\" class=\"data row6 col1\" >0</td>\n",
       "      <td id=\"T_eea19_row6_col2\" class=\"data row6 col2\" >0</td>\n",
       "      <td id=\"T_eea19_row6_col3\" class=\"data row6 col3\" >0</td>\n",
       "      <td id=\"T_eea19_row6_col4\" class=\"data row6 col4\" >0</td>\n",
       "      <td id=\"T_eea19_row6_col5\" class=\"data row6 col5\" >0</td>\n",
       "      <td id=\"T_eea19_row6_col6\" class=\"data row6 col6\" >0</td>\n",
       "      <td id=\"T_eea19_row6_col7\" class=\"data row6 col7\" >48</td>\n",
       "      <td id=\"T_eea19_row6_col8\" class=\"data row6 col8\" >166</td>\n",
       "      <td id=\"T_eea19_row6_col9\" class=\"data row6 col9\" >224</td>\n",
       "      <td id=\"T_eea19_row6_col10\" class=\"data row6 col10\" >253</td>\n",
       "      <td id=\"T_eea19_row6_col11\" class=\"data row6 col11\" >253</td>\n",
       "      <td id=\"T_eea19_row6_col12\" class=\"data row6 col12\" >234</td>\n",
       "      <td id=\"T_eea19_row6_col13\" class=\"data row6 col13\" >196</td>\n",
       "      <td id=\"T_eea19_row6_col14\" class=\"data row6 col14\" >253</td>\n",
       "      <td id=\"T_eea19_row6_col15\" class=\"data row6 col15\" >253</td>\n",
       "      <td id=\"T_eea19_row6_col16\" class=\"data row6 col16\" >253</td>\n",
       "      <td id=\"T_eea19_row6_col17\" class=\"data row6 col17\" >253</td>\n",
       "      <td id=\"T_eea19_row6_col18\" class=\"data row6 col18\" >233</td>\n",
       "      <td id=\"T_eea19_row6_col19\" class=\"data row6 col19\" >0</td>\n",
       "      <td id=\"T_eea19_row6_col20\" class=\"data row6 col20\" >0</td>\n",
       "      <td id=\"T_eea19_row6_col21\" class=\"data row6 col21\" >0</td>\n",
       "      <td id=\"T_eea19_row6_col22\" class=\"data row6 col22\" >0</td>\n",
       "      <td id=\"T_eea19_row6_col23\" class=\"data row6 col23\" >0</td>\n",
       "      <td id=\"T_eea19_row6_col24\" class=\"data row6 col24\" >0</td>\n",
       "      <td id=\"T_eea19_row6_col25\" class=\"data row6 col25\" >0</td>\n",
       "      <td id=\"T_eea19_row6_col26\" class=\"data row6 col26\" >0</td>\n",
       "      <td id=\"T_eea19_row6_col27\" class=\"data row6 col27\" >0</td>\n",
       "    </tr>\n",
       "    <tr>\n",
       "      <th id=\"T_eea19_level0_row7\" class=\"row_heading level0 row7\" >7</th>\n",
       "      <td id=\"T_eea19_row7_col0\" class=\"data row7 col0\" >0</td>\n",
       "      <td id=\"T_eea19_row7_col1\" class=\"data row7 col1\" >0</td>\n",
       "      <td id=\"T_eea19_row7_col2\" class=\"data row7 col2\" >0</td>\n",
       "      <td id=\"T_eea19_row7_col3\" class=\"data row7 col3\" >0</td>\n",
       "      <td id=\"T_eea19_row7_col4\" class=\"data row7 col4\" >0</td>\n",
       "      <td id=\"T_eea19_row7_col5\" class=\"data row7 col5\" >93</td>\n",
       "      <td id=\"T_eea19_row7_col6\" class=\"data row7 col6\" >244</td>\n",
       "      <td id=\"T_eea19_row7_col7\" class=\"data row7 col7\" >249</td>\n",
       "      <td id=\"T_eea19_row7_col8\" class=\"data row7 col8\" >253</td>\n",
       "      <td id=\"T_eea19_row7_col9\" class=\"data row7 col9\" >187</td>\n",
       "      <td id=\"T_eea19_row7_col10\" class=\"data row7 col10\" >46</td>\n",
       "      <td id=\"T_eea19_row7_col11\" class=\"data row7 col11\" >10</td>\n",
       "      <td id=\"T_eea19_row7_col12\" class=\"data row7 col12\" >8</td>\n",
       "      <td id=\"T_eea19_row7_col13\" class=\"data row7 col13\" >4</td>\n",
       "      <td id=\"T_eea19_row7_col14\" class=\"data row7 col14\" >10</td>\n",
       "      <td id=\"T_eea19_row7_col15\" class=\"data row7 col15\" >194</td>\n",
       "      <td id=\"T_eea19_row7_col16\" class=\"data row7 col16\" >253</td>\n",
       "      <td id=\"T_eea19_row7_col17\" class=\"data row7 col17\" >253</td>\n",
       "      <td id=\"T_eea19_row7_col18\" class=\"data row7 col18\" >233</td>\n",
       "      <td id=\"T_eea19_row7_col19\" class=\"data row7 col19\" >0</td>\n",
       "      <td id=\"T_eea19_row7_col20\" class=\"data row7 col20\" >0</td>\n",
       "      <td id=\"T_eea19_row7_col21\" class=\"data row7 col21\" >0</td>\n",
       "      <td id=\"T_eea19_row7_col22\" class=\"data row7 col22\" >0</td>\n",
       "      <td id=\"T_eea19_row7_col23\" class=\"data row7 col23\" >0</td>\n",
       "      <td id=\"T_eea19_row7_col24\" class=\"data row7 col24\" >0</td>\n",
       "      <td id=\"T_eea19_row7_col25\" class=\"data row7 col25\" >0</td>\n",
       "      <td id=\"T_eea19_row7_col26\" class=\"data row7 col26\" >0</td>\n",
       "      <td id=\"T_eea19_row7_col27\" class=\"data row7 col27\" >0</td>\n",
       "    </tr>\n",
       "    <tr>\n",
       "      <th id=\"T_eea19_level0_row8\" class=\"row_heading level0 row8\" >8</th>\n",
       "      <td id=\"T_eea19_row8_col0\" class=\"data row8 col0\" >0</td>\n",
       "      <td id=\"T_eea19_row8_col1\" class=\"data row8 col1\" >0</td>\n",
       "      <td id=\"T_eea19_row8_col2\" class=\"data row8 col2\" >0</td>\n",
       "      <td id=\"T_eea19_row8_col3\" class=\"data row8 col3\" >0</td>\n",
       "      <td id=\"T_eea19_row8_col4\" class=\"data row8 col4\" >0</td>\n",
       "      <td id=\"T_eea19_row8_col5\" class=\"data row8 col5\" >107</td>\n",
       "      <td id=\"T_eea19_row8_col6\" class=\"data row8 col6\" >253</td>\n",
       "      <td id=\"T_eea19_row8_col7\" class=\"data row8 col7\" >253</td>\n",
       "      <td id=\"T_eea19_row8_col8\" class=\"data row8 col8\" >230</td>\n",
       "      <td id=\"T_eea19_row8_col9\" class=\"data row8 col9\" >48</td>\n",
       "      <td id=\"T_eea19_row8_col10\" class=\"data row8 col10\" >0</td>\n",
       "      <td id=\"T_eea19_row8_col11\" class=\"data row8 col11\" >0</td>\n",
       "      <td id=\"T_eea19_row8_col12\" class=\"data row8 col12\" >0</td>\n",
       "      <td id=\"T_eea19_row8_col13\" class=\"data row8 col13\" >0</td>\n",
       "      <td id=\"T_eea19_row8_col14\" class=\"data row8 col14\" >0</td>\n",
       "      <td id=\"T_eea19_row8_col15\" class=\"data row8 col15\" >192</td>\n",
       "      <td id=\"T_eea19_row8_col16\" class=\"data row8 col16\" >253</td>\n",
       "      <td id=\"T_eea19_row8_col17\" class=\"data row8 col17\" >253</td>\n",
       "      <td id=\"T_eea19_row8_col18\" class=\"data row8 col18\" >156</td>\n",
       "      <td id=\"T_eea19_row8_col19\" class=\"data row8 col19\" >0</td>\n",
       "      <td id=\"T_eea19_row8_col20\" class=\"data row8 col20\" >0</td>\n",
       "      <td id=\"T_eea19_row8_col21\" class=\"data row8 col21\" >0</td>\n",
       "      <td id=\"T_eea19_row8_col22\" class=\"data row8 col22\" >0</td>\n",
       "      <td id=\"T_eea19_row8_col23\" class=\"data row8 col23\" >0</td>\n",
       "      <td id=\"T_eea19_row8_col24\" class=\"data row8 col24\" >0</td>\n",
       "      <td id=\"T_eea19_row8_col25\" class=\"data row8 col25\" >0</td>\n",
       "      <td id=\"T_eea19_row8_col26\" class=\"data row8 col26\" >0</td>\n",
       "      <td id=\"T_eea19_row8_col27\" class=\"data row8 col27\" >0</td>\n",
       "    </tr>\n",
       "    <tr>\n",
       "      <th id=\"T_eea19_level0_row9\" class=\"row_heading level0 row9\" >9</th>\n",
       "      <td id=\"T_eea19_row9_col0\" class=\"data row9 col0\" >0</td>\n",
       "      <td id=\"T_eea19_row9_col1\" class=\"data row9 col1\" >0</td>\n",
       "      <td id=\"T_eea19_row9_col2\" class=\"data row9 col2\" >0</td>\n",
       "      <td id=\"T_eea19_row9_col3\" class=\"data row9 col3\" >0</td>\n",
       "      <td id=\"T_eea19_row9_col4\" class=\"data row9 col4\" >0</td>\n",
       "      <td id=\"T_eea19_row9_col5\" class=\"data row9 col5\" >3</td>\n",
       "      <td id=\"T_eea19_row9_col6\" class=\"data row9 col6\" >20</td>\n",
       "      <td id=\"T_eea19_row9_col7\" class=\"data row9 col7\" >20</td>\n",
       "      <td id=\"T_eea19_row9_col8\" class=\"data row9 col8\" >15</td>\n",
       "      <td id=\"T_eea19_row9_col9\" class=\"data row9 col9\" >0</td>\n",
       "      <td id=\"T_eea19_row9_col10\" class=\"data row9 col10\" >0</td>\n",
       "      <td id=\"T_eea19_row9_col11\" class=\"data row9 col11\" >0</td>\n",
       "      <td id=\"T_eea19_row9_col12\" class=\"data row9 col12\" >0</td>\n",
       "      <td id=\"T_eea19_row9_col13\" class=\"data row9 col13\" >0</td>\n",
       "      <td id=\"T_eea19_row9_col14\" class=\"data row9 col14\" >43</td>\n",
       "      <td id=\"T_eea19_row9_col15\" class=\"data row9 col15\" >224</td>\n",
       "      <td id=\"T_eea19_row9_col16\" class=\"data row9 col16\" >253</td>\n",
       "      <td id=\"T_eea19_row9_col17\" class=\"data row9 col17\" >245</td>\n",
       "      <td id=\"T_eea19_row9_col18\" class=\"data row9 col18\" >74</td>\n",
       "      <td id=\"T_eea19_row9_col19\" class=\"data row9 col19\" >0</td>\n",
       "      <td id=\"T_eea19_row9_col20\" class=\"data row9 col20\" >0</td>\n",
       "      <td id=\"T_eea19_row9_col21\" class=\"data row9 col21\" >0</td>\n",
       "      <td id=\"T_eea19_row9_col22\" class=\"data row9 col22\" >0</td>\n",
       "      <td id=\"T_eea19_row9_col23\" class=\"data row9 col23\" >0</td>\n",
       "      <td id=\"T_eea19_row9_col24\" class=\"data row9 col24\" >0</td>\n",
       "      <td id=\"T_eea19_row9_col25\" class=\"data row9 col25\" >0</td>\n",
       "      <td id=\"T_eea19_row9_col26\" class=\"data row9 col26\" >0</td>\n",
       "      <td id=\"T_eea19_row9_col27\" class=\"data row9 col27\" >0</td>\n",
       "    </tr>\n",
       "    <tr>\n",
       "      <th id=\"T_eea19_level0_row10\" class=\"row_heading level0 row10\" >10</th>\n",
       "      <td id=\"T_eea19_row10_col0\" class=\"data row10 col0\" >0</td>\n",
       "      <td id=\"T_eea19_row10_col1\" class=\"data row10 col1\" >0</td>\n",
       "      <td id=\"T_eea19_row10_col2\" class=\"data row10 col2\" >0</td>\n",
       "      <td id=\"T_eea19_row10_col3\" class=\"data row10 col3\" >0</td>\n",
       "      <td id=\"T_eea19_row10_col4\" class=\"data row10 col4\" >0</td>\n",
       "      <td id=\"T_eea19_row10_col5\" class=\"data row10 col5\" >0</td>\n",
       "      <td id=\"T_eea19_row10_col6\" class=\"data row10 col6\" >0</td>\n",
       "      <td id=\"T_eea19_row10_col7\" class=\"data row10 col7\" >0</td>\n",
       "      <td id=\"T_eea19_row10_col8\" class=\"data row10 col8\" >0</td>\n",
       "      <td id=\"T_eea19_row10_col9\" class=\"data row10 col9\" >0</td>\n",
       "      <td id=\"T_eea19_row10_col10\" class=\"data row10 col10\" >0</td>\n",
       "      <td id=\"T_eea19_row10_col11\" class=\"data row10 col11\" >0</td>\n",
       "      <td id=\"T_eea19_row10_col12\" class=\"data row10 col12\" >0</td>\n",
       "      <td id=\"T_eea19_row10_col13\" class=\"data row10 col13\" >0</td>\n",
       "      <td id=\"T_eea19_row10_col14\" class=\"data row10 col14\" >249</td>\n",
       "      <td id=\"T_eea19_row10_col15\" class=\"data row10 col15\" >253</td>\n",
       "      <td id=\"T_eea19_row10_col16\" class=\"data row10 col16\" >245</td>\n",
       "      <td id=\"T_eea19_row10_col17\" class=\"data row10 col17\" >126</td>\n",
       "      <td id=\"T_eea19_row10_col18\" class=\"data row10 col18\" >0</td>\n",
       "      <td id=\"T_eea19_row10_col19\" class=\"data row10 col19\" >0</td>\n",
       "      <td id=\"T_eea19_row10_col20\" class=\"data row10 col20\" >0</td>\n",
       "      <td id=\"T_eea19_row10_col21\" class=\"data row10 col21\" >0</td>\n",
       "      <td id=\"T_eea19_row10_col22\" class=\"data row10 col22\" >0</td>\n",
       "      <td id=\"T_eea19_row10_col23\" class=\"data row10 col23\" >0</td>\n",
       "      <td id=\"T_eea19_row10_col24\" class=\"data row10 col24\" >0</td>\n",
       "      <td id=\"T_eea19_row10_col25\" class=\"data row10 col25\" >0</td>\n",
       "      <td id=\"T_eea19_row10_col26\" class=\"data row10 col26\" >0</td>\n",
       "      <td id=\"T_eea19_row10_col27\" class=\"data row10 col27\" >0</td>\n",
       "    </tr>\n",
       "    <tr>\n",
       "      <th id=\"T_eea19_level0_row11\" class=\"row_heading level0 row11\" >11</th>\n",
       "      <td id=\"T_eea19_row11_col0\" class=\"data row11 col0\" >0</td>\n",
       "      <td id=\"T_eea19_row11_col1\" class=\"data row11 col1\" >0</td>\n",
       "      <td id=\"T_eea19_row11_col2\" class=\"data row11 col2\" >0</td>\n",
       "      <td id=\"T_eea19_row11_col3\" class=\"data row11 col3\" >0</td>\n",
       "      <td id=\"T_eea19_row11_col4\" class=\"data row11 col4\" >0</td>\n",
       "      <td id=\"T_eea19_row11_col5\" class=\"data row11 col5\" >0</td>\n",
       "      <td id=\"T_eea19_row11_col6\" class=\"data row11 col6\" >0</td>\n",
       "      <td id=\"T_eea19_row11_col7\" class=\"data row11 col7\" >0</td>\n",
       "      <td id=\"T_eea19_row11_col8\" class=\"data row11 col8\" >0</td>\n",
       "      <td id=\"T_eea19_row11_col9\" class=\"data row11 col9\" >0</td>\n",
       "      <td id=\"T_eea19_row11_col10\" class=\"data row11 col10\" >0</td>\n",
       "      <td id=\"T_eea19_row11_col11\" class=\"data row11 col11\" >14</td>\n",
       "      <td id=\"T_eea19_row11_col12\" class=\"data row11 col12\" >101</td>\n",
       "      <td id=\"T_eea19_row11_col13\" class=\"data row11 col13\" >223</td>\n",
       "      <td id=\"T_eea19_row11_col14\" class=\"data row11 col14\" >253</td>\n",
       "      <td id=\"T_eea19_row11_col15\" class=\"data row11 col15\" >248</td>\n",
       "      <td id=\"T_eea19_row11_col16\" class=\"data row11 col16\" >124</td>\n",
       "      <td id=\"T_eea19_row11_col17\" class=\"data row11 col17\" >0</td>\n",
       "      <td id=\"T_eea19_row11_col18\" class=\"data row11 col18\" >0</td>\n",
       "      <td id=\"T_eea19_row11_col19\" class=\"data row11 col19\" >0</td>\n",
       "      <td id=\"T_eea19_row11_col20\" class=\"data row11 col20\" >0</td>\n",
       "      <td id=\"T_eea19_row11_col21\" class=\"data row11 col21\" >0</td>\n",
       "      <td id=\"T_eea19_row11_col22\" class=\"data row11 col22\" >0</td>\n",
       "      <td id=\"T_eea19_row11_col23\" class=\"data row11 col23\" >0</td>\n",
       "      <td id=\"T_eea19_row11_col24\" class=\"data row11 col24\" >0</td>\n",
       "      <td id=\"T_eea19_row11_col25\" class=\"data row11 col25\" >0</td>\n",
       "      <td id=\"T_eea19_row11_col26\" class=\"data row11 col26\" >0</td>\n",
       "      <td id=\"T_eea19_row11_col27\" class=\"data row11 col27\" >0</td>\n",
       "    </tr>\n",
       "    <tr>\n",
       "      <th id=\"T_eea19_level0_row12\" class=\"row_heading level0 row12\" >12</th>\n",
       "      <td id=\"T_eea19_row12_col0\" class=\"data row12 col0\" >0</td>\n",
       "      <td id=\"T_eea19_row12_col1\" class=\"data row12 col1\" >0</td>\n",
       "      <td id=\"T_eea19_row12_col2\" class=\"data row12 col2\" >0</td>\n",
       "      <td id=\"T_eea19_row12_col3\" class=\"data row12 col3\" >0</td>\n",
       "      <td id=\"T_eea19_row12_col4\" class=\"data row12 col4\" >0</td>\n",
       "      <td id=\"T_eea19_row12_col5\" class=\"data row12 col5\" >0</td>\n",
       "      <td id=\"T_eea19_row12_col6\" class=\"data row12 col6\" >0</td>\n",
       "      <td id=\"T_eea19_row12_col7\" class=\"data row12 col7\" >0</td>\n",
       "      <td id=\"T_eea19_row12_col8\" class=\"data row12 col8\" >0</td>\n",
       "      <td id=\"T_eea19_row12_col9\" class=\"data row12 col9\" >11</td>\n",
       "      <td id=\"T_eea19_row12_col10\" class=\"data row12 col10\" >166</td>\n",
       "      <td id=\"T_eea19_row12_col11\" class=\"data row12 col11\" >239</td>\n",
       "      <td id=\"T_eea19_row12_col12\" class=\"data row12 col12\" >253</td>\n",
       "      <td id=\"T_eea19_row12_col13\" class=\"data row12 col13\" >253</td>\n",
       "      <td id=\"T_eea19_row12_col14\" class=\"data row12 col14\" >253</td>\n",
       "      <td id=\"T_eea19_row12_col15\" class=\"data row12 col15\" >187</td>\n",
       "      <td id=\"T_eea19_row12_col16\" class=\"data row12 col16\" >30</td>\n",
       "      <td id=\"T_eea19_row12_col17\" class=\"data row12 col17\" >0</td>\n",
       "      <td id=\"T_eea19_row12_col18\" class=\"data row12 col18\" >0</td>\n",
       "      <td id=\"T_eea19_row12_col19\" class=\"data row12 col19\" >0</td>\n",
       "      <td id=\"T_eea19_row12_col20\" class=\"data row12 col20\" >0</td>\n",
       "      <td id=\"T_eea19_row12_col21\" class=\"data row12 col21\" >0</td>\n",
       "      <td id=\"T_eea19_row12_col22\" class=\"data row12 col22\" >0</td>\n",
       "      <td id=\"T_eea19_row12_col23\" class=\"data row12 col23\" >0</td>\n",
       "      <td id=\"T_eea19_row12_col24\" class=\"data row12 col24\" >0</td>\n",
       "      <td id=\"T_eea19_row12_col25\" class=\"data row12 col25\" >0</td>\n",
       "      <td id=\"T_eea19_row12_col26\" class=\"data row12 col26\" >0</td>\n",
       "      <td id=\"T_eea19_row12_col27\" class=\"data row12 col27\" >0</td>\n",
       "    </tr>\n",
       "    <tr>\n",
       "      <th id=\"T_eea19_level0_row13\" class=\"row_heading level0 row13\" >13</th>\n",
       "      <td id=\"T_eea19_row13_col0\" class=\"data row13 col0\" >0</td>\n",
       "      <td id=\"T_eea19_row13_col1\" class=\"data row13 col1\" >0</td>\n",
       "      <td id=\"T_eea19_row13_col2\" class=\"data row13 col2\" >0</td>\n",
       "      <td id=\"T_eea19_row13_col3\" class=\"data row13 col3\" >0</td>\n",
       "      <td id=\"T_eea19_row13_col4\" class=\"data row13 col4\" >0</td>\n",
       "      <td id=\"T_eea19_row13_col5\" class=\"data row13 col5\" >0</td>\n",
       "      <td id=\"T_eea19_row13_col6\" class=\"data row13 col6\" >0</td>\n",
       "      <td id=\"T_eea19_row13_col7\" class=\"data row13 col7\" >0</td>\n",
       "      <td id=\"T_eea19_row13_col8\" class=\"data row13 col8\" >0</td>\n",
       "      <td id=\"T_eea19_row13_col9\" class=\"data row13 col9\" >16</td>\n",
       "      <td id=\"T_eea19_row13_col10\" class=\"data row13 col10\" >248</td>\n",
       "      <td id=\"T_eea19_row13_col11\" class=\"data row13 col11\" >250</td>\n",
       "      <td id=\"T_eea19_row13_col12\" class=\"data row13 col12\" >253</td>\n",
       "      <td id=\"T_eea19_row13_col13\" class=\"data row13 col13\" >253</td>\n",
       "      <td id=\"T_eea19_row13_col14\" class=\"data row13 col14\" >253</td>\n",
       "      <td id=\"T_eea19_row13_col15\" class=\"data row13 col15\" >253</td>\n",
       "      <td id=\"T_eea19_row13_col16\" class=\"data row13 col16\" >232</td>\n",
       "      <td id=\"T_eea19_row13_col17\" class=\"data row13 col17\" >213</td>\n",
       "      <td id=\"T_eea19_row13_col18\" class=\"data row13 col18\" >111</td>\n",
       "      <td id=\"T_eea19_row13_col19\" class=\"data row13 col19\" >2</td>\n",
       "      <td id=\"T_eea19_row13_col20\" class=\"data row13 col20\" >0</td>\n",
       "      <td id=\"T_eea19_row13_col21\" class=\"data row13 col21\" >0</td>\n",
       "      <td id=\"T_eea19_row13_col22\" class=\"data row13 col22\" >0</td>\n",
       "      <td id=\"T_eea19_row13_col23\" class=\"data row13 col23\" >0</td>\n",
       "      <td id=\"T_eea19_row13_col24\" class=\"data row13 col24\" >0</td>\n",
       "      <td id=\"T_eea19_row13_col25\" class=\"data row13 col25\" >0</td>\n",
       "      <td id=\"T_eea19_row13_col26\" class=\"data row13 col26\" >0</td>\n",
       "      <td id=\"T_eea19_row13_col27\" class=\"data row13 col27\" >0</td>\n",
       "    </tr>\n",
       "    <tr>\n",
       "      <th id=\"T_eea19_level0_row14\" class=\"row_heading level0 row14\" >14</th>\n",
       "      <td id=\"T_eea19_row14_col0\" class=\"data row14 col0\" >0</td>\n",
       "      <td id=\"T_eea19_row14_col1\" class=\"data row14 col1\" >0</td>\n",
       "      <td id=\"T_eea19_row14_col2\" class=\"data row14 col2\" >0</td>\n",
       "      <td id=\"T_eea19_row14_col3\" class=\"data row14 col3\" >0</td>\n",
       "      <td id=\"T_eea19_row14_col4\" class=\"data row14 col4\" >0</td>\n",
       "      <td id=\"T_eea19_row14_col5\" class=\"data row14 col5\" >0</td>\n",
       "      <td id=\"T_eea19_row14_col6\" class=\"data row14 col6\" >0</td>\n",
       "      <td id=\"T_eea19_row14_col7\" class=\"data row14 col7\" >0</td>\n",
       "      <td id=\"T_eea19_row14_col8\" class=\"data row14 col8\" >0</td>\n",
       "      <td id=\"T_eea19_row14_col9\" class=\"data row14 col9\" >0</td>\n",
       "      <td id=\"T_eea19_row14_col10\" class=\"data row14 col10\" >0</td>\n",
       "      <td id=\"T_eea19_row14_col11\" class=\"data row14 col11\" >43</td>\n",
       "      <td id=\"T_eea19_row14_col12\" class=\"data row14 col12\" >98</td>\n",
       "      <td id=\"T_eea19_row14_col13\" class=\"data row14 col13\" >98</td>\n",
       "      <td id=\"T_eea19_row14_col14\" class=\"data row14 col14\" >208</td>\n",
       "      <td id=\"T_eea19_row14_col15\" class=\"data row14 col15\" >253</td>\n",
       "      <td id=\"T_eea19_row14_col16\" class=\"data row14 col16\" >253</td>\n",
       "      <td id=\"T_eea19_row14_col17\" class=\"data row14 col17\" >253</td>\n",
       "      <td id=\"T_eea19_row14_col18\" class=\"data row14 col18\" >253</td>\n",
       "      <td id=\"T_eea19_row14_col19\" class=\"data row14 col19\" >187</td>\n",
       "      <td id=\"T_eea19_row14_col20\" class=\"data row14 col20\" >22</td>\n",
       "      <td id=\"T_eea19_row14_col21\" class=\"data row14 col21\" >0</td>\n",
       "      <td id=\"T_eea19_row14_col22\" class=\"data row14 col22\" >0</td>\n",
       "      <td id=\"T_eea19_row14_col23\" class=\"data row14 col23\" >0</td>\n",
       "      <td id=\"T_eea19_row14_col24\" class=\"data row14 col24\" >0</td>\n",
       "      <td id=\"T_eea19_row14_col25\" class=\"data row14 col25\" >0</td>\n",
       "      <td id=\"T_eea19_row14_col26\" class=\"data row14 col26\" >0</td>\n",
       "      <td id=\"T_eea19_row14_col27\" class=\"data row14 col27\" >0</td>\n",
       "    </tr>\n",
       "    <tr>\n",
       "      <th id=\"T_eea19_level0_row15\" class=\"row_heading level0 row15\" >15</th>\n",
       "      <td id=\"T_eea19_row15_col0\" class=\"data row15 col0\" >0</td>\n",
       "      <td id=\"T_eea19_row15_col1\" class=\"data row15 col1\" >0</td>\n",
       "      <td id=\"T_eea19_row15_col2\" class=\"data row15 col2\" >0</td>\n",
       "      <td id=\"T_eea19_row15_col3\" class=\"data row15 col3\" >0</td>\n",
       "      <td id=\"T_eea19_row15_col4\" class=\"data row15 col4\" >0</td>\n",
       "      <td id=\"T_eea19_row15_col5\" class=\"data row15 col5\" >0</td>\n",
       "      <td id=\"T_eea19_row15_col6\" class=\"data row15 col6\" >0</td>\n",
       "      <td id=\"T_eea19_row15_col7\" class=\"data row15 col7\" >0</td>\n",
       "      <td id=\"T_eea19_row15_col8\" class=\"data row15 col8\" >0</td>\n",
       "      <td id=\"T_eea19_row15_col9\" class=\"data row15 col9\" >0</td>\n",
       "      <td id=\"T_eea19_row15_col10\" class=\"data row15 col10\" >0</td>\n",
       "      <td id=\"T_eea19_row15_col11\" class=\"data row15 col11\" >0</td>\n",
       "      <td id=\"T_eea19_row15_col12\" class=\"data row15 col12\" >0</td>\n",
       "      <td id=\"T_eea19_row15_col13\" class=\"data row15 col13\" >0</td>\n",
       "      <td id=\"T_eea19_row15_col14\" class=\"data row15 col14\" >9</td>\n",
       "      <td id=\"T_eea19_row15_col15\" class=\"data row15 col15\" >51</td>\n",
       "      <td id=\"T_eea19_row15_col16\" class=\"data row15 col16\" >119</td>\n",
       "      <td id=\"T_eea19_row15_col17\" class=\"data row15 col17\" >253</td>\n",
       "      <td id=\"T_eea19_row15_col18\" class=\"data row15 col18\" >253</td>\n",
       "      <td id=\"T_eea19_row15_col19\" class=\"data row15 col19\" >253</td>\n",
       "      <td id=\"T_eea19_row15_col20\" class=\"data row15 col20\" >76</td>\n",
       "      <td id=\"T_eea19_row15_col21\" class=\"data row15 col21\" >0</td>\n",
       "      <td id=\"T_eea19_row15_col22\" class=\"data row15 col22\" >0</td>\n",
       "      <td id=\"T_eea19_row15_col23\" class=\"data row15 col23\" >0</td>\n",
       "      <td id=\"T_eea19_row15_col24\" class=\"data row15 col24\" >0</td>\n",
       "      <td id=\"T_eea19_row15_col25\" class=\"data row15 col25\" >0</td>\n",
       "      <td id=\"T_eea19_row15_col26\" class=\"data row15 col26\" >0</td>\n",
       "      <td id=\"T_eea19_row15_col27\" class=\"data row15 col27\" >0</td>\n",
       "    </tr>\n",
       "    <tr>\n",
       "      <th id=\"T_eea19_level0_row16\" class=\"row_heading level0 row16\" >16</th>\n",
       "      <td id=\"T_eea19_row16_col0\" class=\"data row16 col0\" >0</td>\n",
       "      <td id=\"T_eea19_row16_col1\" class=\"data row16 col1\" >0</td>\n",
       "      <td id=\"T_eea19_row16_col2\" class=\"data row16 col2\" >0</td>\n",
       "      <td id=\"T_eea19_row16_col3\" class=\"data row16 col3\" >0</td>\n",
       "      <td id=\"T_eea19_row16_col4\" class=\"data row16 col4\" >0</td>\n",
       "      <td id=\"T_eea19_row16_col5\" class=\"data row16 col5\" >0</td>\n",
       "      <td id=\"T_eea19_row16_col6\" class=\"data row16 col6\" >0</td>\n",
       "      <td id=\"T_eea19_row16_col7\" class=\"data row16 col7\" >0</td>\n",
       "      <td id=\"T_eea19_row16_col8\" class=\"data row16 col8\" >0</td>\n",
       "      <td id=\"T_eea19_row16_col9\" class=\"data row16 col9\" >0</td>\n",
       "      <td id=\"T_eea19_row16_col10\" class=\"data row16 col10\" >0</td>\n",
       "      <td id=\"T_eea19_row16_col11\" class=\"data row16 col11\" >0</td>\n",
       "      <td id=\"T_eea19_row16_col12\" class=\"data row16 col12\" >0</td>\n",
       "      <td id=\"T_eea19_row16_col13\" class=\"data row16 col13\" >0</td>\n",
       "      <td id=\"T_eea19_row16_col14\" class=\"data row16 col14\" >0</td>\n",
       "      <td id=\"T_eea19_row16_col15\" class=\"data row16 col15\" >0</td>\n",
       "      <td id=\"T_eea19_row16_col16\" class=\"data row16 col16\" >1</td>\n",
       "      <td id=\"T_eea19_row16_col17\" class=\"data row16 col17\" >183</td>\n",
       "      <td id=\"T_eea19_row16_col18\" class=\"data row16 col18\" >253</td>\n",
       "      <td id=\"T_eea19_row16_col19\" class=\"data row16 col19\" >253</td>\n",
       "      <td id=\"T_eea19_row16_col20\" class=\"data row16 col20\" >139</td>\n",
       "      <td id=\"T_eea19_row16_col21\" class=\"data row16 col21\" >0</td>\n",
       "      <td id=\"T_eea19_row16_col22\" class=\"data row16 col22\" >0</td>\n",
       "      <td id=\"T_eea19_row16_col23\" class=\"data row16 col23\" >0</td>\n",
       "      <td id=\"T_eea19_row16_col24\" class=\"data row16 col24\" >0</td>\n",
       "      <td id=\"T_eea19_row16_col25\" class=\"data row16 col25\" >0</td>\n",
       "      <td id=\"T_eea19_row16_col26\" class=\"data row16 col26\" >0</td>\n",
       "      <td id=\"T_eea19_row16_col27\" class=\"data row16 col27\" >0</td>\n",
       "    </tr>\n",
       "    <tr>\n",
       "      <th id=\"T_eea19_level0_row17\" class=\"row_heading level0 row17\" >17</th>\n",
       "      <td id=\"T_eea19_row17_col0\" class=\"data row17 col0\" >0</td>\n",
       "      <td id=\"T_eea19_row17_col1\" class=\"data row17 col1\" >0</td>\n",
       "      <td id=\"T_eea19_row17_col2\" class=\"data row17 col2\" >0</td>\n",
       "      <td id=\"T_eea19_row17_col3\" class=\"data row17 col3\" >0</td>\n",
       "      <td id=\"T_eea19_row17_col4\" class=\"data row17 col4\" >0</td>\n",
       "      <td id=\"T_eea19_row17_col5\" class=\"data row17 col5\" >0</td>\n",
       "      <td id=\"T_eea19_row17_col6\" class=\"data row17 col6\" >0</td>\n",
       "      <td id=\"T_eea19_row17_col7\" class=\"data row17 col7\" >0</td>\n",
       "      <td id=\"T_eea19_row17_col8\" class=\"data row17 col8\" >0</td>\n",
       "      <td id=\"T_eea19_row17_col9\" class=\"data row17 col9\" >0</td>\n",
       "      <td id=\"T_eea19_row17_col10\" class=\"data row17 col10\" >0</td>\n",
       "      <td id=\"T_eea19_row17_col11\" class=\"data row17 col11\" >0</td>\n",
       "      <td id=\"T_eea19_row17_col12\" class=\"data row17 col12\" >0</td>\n",
       "      <td id=\"T_eea19_row17_col13\" class=\"data row17 col13\" >0</td>\n",
       "      <td id=\"T_eea19_row17_col14\" class=\"data row17 col14\" >0</td>\n",
       "      <td id=\"T_eea19_row17_col15\" class=\"data row17 col15\" >0</td>\n",
       "      <td id=\"T_eea19_row17_col16\" class=\"data row17 col16\" >0</td>\n",
       "      <td id=\"T_eea19_row17_col17\" class=\"data row17 col17\" >182</td>\n",
       "      <td id=\"T_eea19_row17_col18\" class=\"data row17 col18\" >253</td>\n",
       "      <td id=\"T_eea19_row17_col19\" class=\"data row17 col19\" >253</td>\n",
       "      <td id=\"T_eea19_row17_col20\" class=\"data row17 col20\" >104</td>\n",
       "      <td id=\"T_eea19_row17_col21\" class=\"data row17 col21\" >0</td>\n",
       "      <td id=\"T_eea19_row17_col22\" class=\"data row17 col22\" >0</td>\n",
       "      <td id=\"T_eea19_row17_col23\" class=\"data row17 col23\" >0</td>\n",
       "      <td id=\"T_eea19_row17_col24\" class=\"data row17 col24\" >0</td>\n",
       "      <td id=\"T_eea19_row17_col25\" class=\"data row17 col25\" >0</td>\n",
       "      <td id=\"T_eea19_row17_col26\" class=\"data row17 col26\" >0</td>\n",
       "      <td id=\"T_eea19_row17_col27\" class=\"data row17 col27\" >0</td>\n",
       "    </tr>\n",
       "    <tr>\n",
       "      <th id=\"T_eea19_level0_row18\" class=\"row_heading level0 row18\" >18</th>\n",
       "      <td id=\"T_eea19_row18_col0\" class=\"data row18 col0\" >0</td>\n",
       "      <td id=\"T_eea19_row18_col1\" class=\"data row18 col1\" >0</td>\n",
       "      <td id=\"T_eea19_row18_col2\" class=\"data row18 col2\" >0</td>\n",
       "      <td id=\"T_eea19_row18_col3\" class=\"data row18 col3\" >0</td>\n",
       "      <td id=\"T_eea19_row18_col4\" class=\"data row18 col4\" >0</td>\n",
       "      <td id=\"T_eea19_row18_col5\" class=\"data row18 col5\" >0</td>\n",
       "      <td id=\"T_eea19_row18_col6\" class=\"data row18 col6\" >0</td>\n",
       "      <td id=\"T_eea19_row18_col7\" class=\"data row18 col7\" >0</td>\n",
       "      <td id=\"T_eea19_row18_col8\" class=\"data row18 col8\" >0</td>\n",
       "      <td id=\"T_eea19_row18_col9\" class=\"data row18 col9\" >0</td>\n",
       "      <td id=\"T_eea19_row18_col10\" class=\"data row18 col10\" >0</td>\n",
       "      <td id=\"T_eea19_row18_col11\" class=\"data row18 col11\" >0</td>\n",
       "      <td id=\"T_eea19_row18_col12\" class=\"data row18 col12\" >0</td>\n",
       "      <td id=\"T_eea19_row18_col13\" class=\"data row18 col13\" >0</td>\n",
       "      <td id=\"T_eea19_row18_col14\" class=\"data row18 col14\" >0</td>\n",
       "      <td id=\"T_eea19_row18_col15\" class=\"data row18 col15\" >0</td>\n",
       "      <td id=\"T_eea19_row18_col16\" class=\"data row18 col16\" >85</td>\n",
       "      <td id=\"T_eea19_row18_col17\" class=\"data row18 col17\" >249</td>\n",
       "      <td id=\"T_eea19_row18_col18\" class=\"data row18 col18\" >253</td>\n",
       "      <td id=\"T_eea19_row18_col19\" class=\"data row18 col19\" >253</td>\n",
       "      <td id=\"T_eea19_row18_col20\" class=\"data row18 col20\" >36</td>\n",
       "      <td id=\"T_eea19_row18_col21\" class=\"data row18 col21\" >0</td>\n",
       "      <td id=\"T_eea19_row18_col22\" class=\"data row18 col22\" >0</td>\n",
       "      <td id=\"T_eea19_row18_col23\" class=\"data row18 col23\" >0</td>\n",
       "      <td id=\"T_eea19_row18_col24\" class=\"data row18 col24\" >0</td>\n",
       "      <td id=\"T_eea19_row18_col25\" class=\"data row18 col25\" >0</td>\n",
       "      <td id=\"T_eea19_row18_col26\" class=\"data row18 col26\" >0</td>\n",
       "      <td id=\"T_eea19_row18_col27\" class=\"data row18 col27\" >0</td>\n",
       "    </tr>\n",
       "    <tr>\n",
       "      <th id=\"T_eea19_level0_row19\" class=\"row_heading level0 row19\" >19</th>\n",
       "      <td id=\"T_eea19_row19_col0\" class=\"data row19 col0\" >0</td>\n",
       "      <td id=\"T_eea19_row19_col1\" class=\"data row19 col1\" >0</td>\n",
       "      <td id=\"T_eea19_row19_col2\" class=\"data row19 col2\" >0</td>\n",
       "      <td id=\"T_eea19_row19_col3\" class=\"data row19 col3\" >0</td>\n",
       "      <td id=\"T_eea19_row19_col4\" class=\"data row19 col4\" >0</td>\n",
       "      <td id=\"T_eea19_row19_col5\" class=\"data row19 col5\" >0</td>\n",
       "      <td id=\"T_eea19_row19_col6\" class=\"data row19 col6\" >0</td>\n",
       "      <td id=\"T_eea19_row19_col7\" class=\"data row19 col7\" >0</td>\n",
       "      <td id=\"T_eea19_row19_col8\" class=\"data row19 col8\" >0</td>\n",
       "      <td id=\"T_eea19_row19_col9\" class=\"data row19 col9\" >0</td>\n",
       "      <td id=\"T_eea19_row19_col10\" class=\"data row19 col10\" >0</td>\n",
       "      <td id=\"T_eea19_row19_col11\" class=\"data row19 col11\" >0</td>\n",
       "      <td id=\"T_eea19_row19_col12\" class=\"data row19 col12\" >0</td>\n",
       "      <td id=\"T_eea19_row19_col13\" class=\"data row19 col13\" >0</td>\n",
       "      <td id=\"T_eea19_row19_col14\" class=\"data row19 col14\" >0</td>\n",
       "      <td id=\"T_eea19_row19_col15\" class=\"data row19 col15\" >60</td>\n",
       "      <td id=\"T_eea19_row19_col16\" class=\"data row19 col16\" >214</td>\n",
       "      <td id=\"T_eea19_row19_col17\" class=\"data row19 col17\" >253</td>\n",
       "      <td id=\"T_eea19_row19_col18\" class=\"data row19 col18\" >253</td>\n",
       "      <td id=\"T_eea19_row19_col19\" class=\"data row19 col19\" >173</td>\n",
       "      <td id=\"T_eea19_row19_col20\" class=\"data row19 col20\" >11</td>\n",
       "      <td id=\"T_eea19_row19_col21\" class=\"data row19 col21\" >0</td>\n",
       "      <td id=\"T_eea19_row19_col22\" class=\"data row19 col22\" >0</td>\n",
       "      <td id=\"T_eea19_row19_col23\" class=\"data row19 col23\" >0</td>\n",
       "      <td id=\"T_eea19_row19_col24\" class=\"data row19 col24\" >0</td>\n",
       "      <td id=\"T_eea19_row19_col25\" class=\"data row19 col25\" >0</td>\n",
       "      <td id=\"T_eea19_row19_col26\" class=\"data row19 col26\" >0</td>\n",
       "      <td id=\"T_eea19_row19_col27\" class=\"data row19 col27\" >0</td>\n",
       "    </tr>\n",
       "    <tr>\n",
       "      <th id=\"T_eea19_level0_row20\" class=\"row_heading level0 row20\" >20</th>\n",
       "      <td id=\"T_eea19_row20_col0\" class=\"data row20 col0\" >0</td>\n",
       "      <td id=\"T_eea19_row20_col1\" class=\"data row20 col1\" >0</td>\n",
       "      <td id=\"T_eea19_row20_col2\" class=\"data row20 col2\" >0</td>\n",
       "      <td id=\"T_eea19_row20_col3\" class=\"data row20 col3\" >0</td>\n",
       "      <td id=\"T_eea19_row20_col4\" class=\"data row20 col4\" >0</td>\n",
       "      <td id=\"T_eea19_row20_col5\" class=\"data row20 col5\" >0</td>\n",
       "      <td id=\"T_eea19_row20_col6\" class=\"data row20 col6\" >0</td>\n",
       "      <td id=\"T_eea19_row20_col7\" class=\"data row20 col7\" >0</td>\n",
       "      <td id=\"T_eea19_row20_col8\" class=\"data row20 col8\" >0</td>\n",
       "      <td id=\"T_eea19_row20_col9\" class=\"data row20 col9\" >0</td>\n",
       "      <td id=\"T_eea19_row20_col10\" class=\"data row20 col10\" >0</td>\n",
       "      <td id=\"T_eea19_row20_col11\" class=\"data row20 col11\" >0</td>\n",
       "      <td id=\"T_eea19_row20_col12\" class=\"data row20 col12\" >0</td>\n",
       "      <td id=\"T_eea19_row20_col13\" class=\"data row20 col13\" >0</td>\n",
       "      <td id=\"T_eea19_row20_col14\" class=\"data row20 col14\" >98</td>\n",
       "      <td id=\"T_eea19_row20_col15\" class=\"data row20 col15\" >247</td>\n",
       "      <td id=\"T_eea19_row20_col16\" class=\"data row20 col16\" >253</td>\n",
       "      <td id=\"T_eea19_row20_col17\" class=\"data row20 col17\" >253</td>\n",
       "      <td id=\"T_eea19_row20_col18\" class=\"data row20 col18\" >226</td>\n",
       "      <td id=\"T_eea19_row20_col19\" class=\"data row20 col19\" >9</td>\n",
       "      <td id=\"T_eea19_row20_col20\" class=\"data row20 col20\" >0</td>\n",
       "      <td id=\"T_eea19_row20_col21\" class=\"data row20 col21\" >0</td>\n",
       "      <td id=\"T_eea19_row20_col22\" class=\"data row20 col22\" >0</td>\n",
       "      <td id=\"T_eea19_row20_col23\" class=\"data row20 col23\" >0</td>\n",
       "      <td id=\"T_eea19_row20_col24\" class=\"data row20 col24\" >0</td>\n",
       "      <td id=\"T_eea19_row20_col25\" class=\"data row20 col25\" >0</td>\n",
       "      <td id=\"T_eea19_row20_col26\" class=\"data row20 col26\" >0</td>\n",
       "      <td id=\"T_eea19_row20_col27\" class=\"data row20 col27\" >0</td>\n",
       "    </tr>\n",
       "    <tr>\n",
       "      <th id=\"T_eea19_level0_row21\" class=\"row_heading level0 row21\" >21</th>\n",
       "      <td id=\"T_eea19_row21_col0\" class=\"data row21 col0\" >0</td>\n",
       "      <td id=\"T_eea19_row21_col1\" class=\"data row21 col1\" >0</td>\n",
       "      <td id=\"T_eea19_row21_col2\" class=\"data row21 col2\" >0</td>\n",
       "      <td id=\"T_eea19_row21_col3\" class=\"data row21 col3\" >0</td>\n",
       "      <td id=\"T_eea19_row21_col4\" class=\"data row21 col4\" >0</td>\n",
       "      <td id=\"T_eea19_row21_col5\" class=\"data row21 col5\" >0</td>\n",
       "      <td id=\"T_eea19_row21_col6\" class=\"data row21 col6\" >0</td>\n",
       "      <td id=\"T_eea19_row21_col7\" class=\"data row21 col7\" >0</td>\n",
       "      <td id=\"T_eea19_row21_col8\" class=\"data row21 col8\" >0</td>\n",
       "      <td id=\"T_eea19_row21_col9\" class=\"data row21 col9\" >0</td>\n",
       "      <td id=\"T_eea19_row21_col10\" class=\"data row21 col10\" >0</td>\n",
       "      <td id=\"T_eea19_row21_col11\" class=\"data row21 col11\" >0</td>\n",
       "      <td id=\"T_eea19_row21_col12\" class=\"data row21 col12\" >42</td>\n",
       "      <td id=\"T_eea19_row21_col13\" class=\"data row21 col13\" >150</td>\n",
       "      <td id=\"T_eea19_row21_col14\" class=\"data row21 col14\" >252</td>\n",
       "      <td id=\"T_eea19_row21_col15\" class=\"data row21 col15\" >253</td>\n",
       "      <td id=\"T_eea19_row21_col16\" class=\"data row21 col16\" >253</td>\n",
       "      <td id=\"T_eea19_row21_col17\" class=\"data row21 col17\" >233</td>\n",
       "      <td id=\"T_eea19_row21_col18\" class=\"data row21 col18\" >53</td>\n",
       "      <td id=\"T_eea19_row21_col19\" class=\"data row21 col19\" >0</td>\n",
       "      <td id=\"T_eea19_row21_col20\" class=\"data row21 col20\" >0</td>\n",
       "      <td id=\"T_eea19_row21_col21\" class=\"data row21 col21\" >0</td>\n",
       "      <td id=\"T_eea19_row21_col22\" class=\"data row21 col22\" >0</td>\n",
       "      <td id=\"T_eea19_row21_col23\" class=\"data row21 col23\" >0</td>\n",
       "      <td id=\"T_eea19_row21_col24\" class=\"data row21 col24\" >0</td>\n",
       "      <td id=\"T_eea19_row21_col25\" class=\"data row21 col25\" >0</td>\n",
       "      <td id=\"T_eea19_row21_col26\" class=\"data row21 col26\" >0</td>\n",
       "      <td id=\"T_eea19_row21_col27\" class=\"data row21 col27\" >0</td>\n",
       "    </tr>\n",
       "    <tr>\n",
       "      <th id=\"T_eea19_level0_row22\" class=\"row_heading level0 row22\" >22</th>\n",
       "      <td id=\"T_eea19_row22_col0\" class=\"data row22 col0\" >0</td>\n",
       "      <td id=\"T_eea19_row22_col1\" class=\"data row22 col1\" >0</td>\n",
       "      <td id=\"T_eea19_row22_col2\" class=\"data row22 col2\" >0</td>\n",
       "      <td id=\"T_eea19_row22_col3\" class=\"data row22 col3\" >0</td>\n",
       "      <td id=\"T_eea19_row22_col4\" class=\"data row22 col4\" >0</td>\n",
       "      <td id=\"T_eea19_row22_col5\" class=\"data row22 col5\" >0</td>\n",
       "      <td id=\"T_eea19_row22_col6\" class=\"data row22 col6\" >42</td>\n",
       "      <td id=\"T_eea19_row22_col7\" class=\"data row22 col7\" >115</td>\n",
       "      <td id=\"T_eea19_row22_col8\" class=\"data row22 col8\" >42</td>\n",
       "      <td id=\"T_eea19_row22_col9\" class=\"data row22 col9\" >60</td>\n",
       "      <td id=\"T_eea19_row22_col10\" class=\"data row22 col10\" >115</td>\n",
       "      <td id=\"T_eea19_row22_col11\" class=\"data row22 col11\" >159</td>\n",
       "      <td id=\"T_eea19_row22_col12\" class=\"data row22 col12\" >240</td>\n",
       "      <td id=\"T_eea19_row22_col13\" class=\"data row22 col13\" >253</td>\n",
       "      <td id=\"T_eea19_row22_col14\" class=\"data row22 col14\" >253</td>\n",
       "      <td id=\"T_eea19_row22_col15\" class=\"data row22 col15\" >250</td>\n",
       "      <td id=\"T_eea19_row22_col16\" class=\"data row22 col16\" >175</td>\n",
       "      <td id=\"T_eea19_row22_col17\" class=\"data row22 col17\" >25</td>\n",
       "      <td id=\"T_eea19_row22_col18\" class=\"data row22 col18\" >0</td>\n",
       "      <td id=\"T_eea19_row22_col19\" class=\"data row22 col19\" >0</td>\n",
       "      <td id=\"T_eea19_row22_col20\" class=\"data row22 col20\" >0</td>\n",
       "      <td id=\"T_eea19_row22_col21\" class=\"data row22 col21\" >0</td>\n",
       "      <td id=\"T_eea19_row22_col22\" class=\"data row22 col22\" >0</td>\n",
       "      <td id=\"T_eea19_row22_col23\" class=\"data row22 col23\" >0</td>\n",
       "      <td id=\"T_eea19_row22_col24\" class=\"data row22 col24\" >0</td>\n",
       "      <td id=\"T_eea19_row22_col25\" class=\"data row22 col25\" >0</td>\n",
       "      <td id=\"T_eea19_row22_col26\" class=\"data row22 col26\" >0</td>\n",
       "      <td id=\"T_eea19_row22_col27\" class=\"data row22 col27\" >0</td>\n",
       "    </tr>\n",
       "    <tr>\n",
       "      <th id=\"T_eea19_level0_row23\" class=\"row_heading level0 row23\" >23</th>\n",
       "      <td id=\"T_eea19_row23_col0\" class=\"data row23 col0\" >0</td>\n",
       "      <td id=\"T_eea19_row23_col1\" class=\"data row23 col1\" >0</td>\n",
       "      <td id=\"T_eea19_row23_col2\" class=\"data row23 col2\" >0</td>\n",
       "      <td id=\"T_eea19_row23_col3\" class=\"data row23 col3\" >0</td>\n",
       "      <td id=\"T_eea19_row23_col4\" class=\"data row23 col4\" >0</td>\n",
       "      <td id=\"T_eea19_row23_col5\" class=\"data row23 col5\" >0</td>\n",
       "      <td id=\"T_eea19_row23_col6\" class=\"data row23 col6\" >187</td>\n",
       "      <td id=\"T_eea19_row23_col7\" class=\"data row23 col7\" >253</td>\n",
       "      <td id=\"T_eea19_row23_col8\" class=\"data row23 col8\" >253</td>\n",
       "      <td id=\"T_eea19_row23_col9\" class=\"data row23 col9\" >253</td>\n",
       "      <td id=\"T_eea19_row23_col10\" class=\"data row23 col10\" >253</td>\n",
       "      <td id=\"T_eea19_row23_col11\" class=\"data row23 col11\" >253</td>\n",
       "      <td id=\"T_eea19_row23_col12\" class=\"data row23 col12\" >253</td>\n",
       "      <td id=\"T_eea19_row23_col13\" class=\"data row23 col13\" >253</td>\n",
       "      <td id=\"T_eea19_row23_col14\" class=\"data row23 col14\" >197</td>\n",
       "      <td id=\"T_eea19_row23_col15\" class=\"data row23 col15\" >86</td>\n",
       "      <td id=\"T_eea19_row23_col16\" class=\"data row23 col16\" >0</td>\n",
       "      <td id=\"T_eea19_row23_col17\" class=\"data row23 col17\" >0</td>\n",
       "      <td id=\"T_eea19_row23_col18\" class=\"data row23 col18\" >0</td>\n",
       "      <td id=\"T_eea19_row23_col19\" class=\"data row23 col19\" >0</td>\n",
       "      <td id=\"T_eea19_row23_col20\" class=\"data row23 col20\" >0</td>\n",
       "      <td id=\"T_eea19_row23_col21\" class=\"data row23 col21\" >0</td>\n",
       "      <td id=\"T_eea19_row23_col22\" class=\"data row23 col22\" >0</td>\n",
       "      <td id=\"T_eea19_row23_col23\" class=\"data row23 col23\" >0</td>\n",
       "      <td id=\"T_eea19_row23_col24\" class=\"data row23 col24\" >0</td>\n",
       "      <td id=\"T_eea19_row23_col25\" class=\"data row23 col25\" >0</td>\n",
       "      <td id=\"T_eea19_row23_col26\" class=\"data row23 col26\" >0</td>\n",
       "      <td id=\"T_eea19_row23_col27\" class=\"data row23 col27\" >0</td>\n",
       "    </tr>\n",
       "    <tr>\n",
       "      <th id=\"T_eea19_level0_row24\" class=\"row_heading level0 row24\" >24</th>\n",
       "      <td id=\"T_eea19_row24_col0\" class=\"data row24 col0\" >0</td>\n",
       "      <td id=\"T_eea19_row24_col1\" class=\"data row24 col1\" >0</td>\n",
       "      <td id=\"T_eea19_row24_col2\" class=\"data row24 col2\" >0</td>\n",
       "      <td id=\"T_eea19_row24_col3\" class=\"data row24 col3\" >0</td>\n",
       "      <td id=\"T_eea19_row24_col4\" class=\"data row24 col4\" >0</td>\n",
       "      <td id=\"T_eea19_row24_col5\" class=\"data row24 col5\" >0</td>\n",
       "      <td id=\"T_eea19_row24_col6\" class=\"data row24 col6\" >103</td>\n",
       "      <td id=\"T_eea19_row24_col7\" class=\"data row24 col7\" >253</td>\n",
       "      <td id=\"T_eea19_row24_col8\" class=\"data row24 col8\" >253</td>\n",
       "      <td id=\"T_eea19_row24_col9\" class=\"data row24 col9\" >253</td>\n",
       "      <td id=\"T_eea19_row24_col10\" class=\"data row24 col10\" >253</td>\n",
       "      <td id=\"T_eea19_row24_col11\" class=\"data row24 col11\" >253</td>\n",
       "      <td id=\"T_eea19_row24_col12\" class=\"data row24 col12\" >232</td>\n",
       "      <td id=\"T_eea19_row24_col13\" class=\"data row24 col13\" >67</td>\n",
       "      <td id=\"T_eea19_row24_col14\" class=\"data row24 col14\" >1</td>\n",
       "      <td id=\"T_eea19_row24_col15\" class=\"data row24 col15\" >0</td>\n",
       "      <td id=\"T_eea19_row24_col16\" class=\"data row24 col16\" >0</td>\n",
       "      <td id=\"T_eea19_row24_col17\" class=\"data row24 col17\" >0</td>\n",
       "      <td id=\"T_eea19_row24_col18\" class=\"data row24 col18\" >0</td>\n",
       "      <td id=\"T_eea19_row24_col19\" class=\"data row24 col19\" >0</td>\n",
       "      <td id=\"T_eea19_row24_col20\" class=\"data row24 col20\" >0</td>\n",
       "      <td id=\"T_eea19_row24_col21\" class=\"data row24 col21\" >0</td>\n",
       "      <td id=\"T_eea19_row24_col22\" class=\"data row24 col22\" >0</td>\n",
       "      <td id=\"T_eea19_row24_col23\" class=\"data row24 col23\" >0</td>\n",
       "      <td id=\"T_eea19_row24_col24\" class=\"data row24 col24\" >0</td>\n",
       "      <td id=\"T_eea19_row24_col25\" class=\"data row24 col25\" >0</td>\n",
       "      <td id=\"T_eea19_row24_col26\" class=\"data row24 col26\" >0</td>\n",
       "      <td id=\"T_eea19_row24_col27\" class=\"data row24 col27\" >0</td>\n",
       "    </tr>\n",
       "    <tr>\n",
       "      <th id=\"T_eea19_level0_row25\" class=\"row_heading level0 row25\" >25</th>\n",
       "      <td id=\"T_eea19_row25_col0\" class=\"data row25 col0\" >0</td>\n",
       "      <td id=\"T_eea19_row25_col1\" class=\"data row25 col1\" >0</td>\n",
       "      <td id=\"T_eea19_row25_col2\" class=\"data row25 col2\" >0</td>\n",
       "      <td id=\"T_eea19_row25_col3\" class=\"data row25 col3\" >0</td>\n",
       "      <td id=\"T_eea19_row25_col4\" class=\"data row25 col4\" >0</td>\n",
       "      <td id=\"T_eea19_row25_col5\" class=\"data row25 col5\" >0</td>\n",
       "      <td id=\"T_eea19_row25_col6\" class=\"data row25 col6\" >0</td>\n",
       "      <td id=\"T_eea19_row25_col7\" class=\"data row25 col7\" >0</td>\n",
       "      <td id=\"T_eea19_row25_col8\" class=\"data row25 col8\" >0</td>\n",
       "      <td id=\"T_eea19_row25_col9\" class=\"data row25 col9\" >0</td>\n",
       "      <td id=\"T_eea19_row25_col10\" class=\"data row25 col10\" >0</td>\n",
       "      <td id=\"T_eea19_row25_col11\" class=\"data row25 col11\" >0</td>\n",
       "      <td id=\"T_eea19_row25_col12\" class=\"data row25 col12\" >0</td>\n",
       "      <td id=\"T_eea19_row25_col13\" class=\"data row25 col13\" >0</td>\n",
       "      <td id=\"T_eea19_row25_col14\" class=\"data row25 col14\" >0</td>\n",
       "      <td id=\"T_eea19_row25_col15\" class=\"data row25 col15\" >0</td>\n",
       "      <td id=\"T_eea19_row25_col16\" class=\"data row25 col16\" >0</td>\n",
       "      <td id=\"T_eea19_row25_col17\" class=\"data row25 col17\" >0</td>\n",
       "      <td id=\"T_eea19_row25_col18\" class=\"data row25 col18\" >0</td>\n",
       "      <td id=\"T_eea19_row25_col19\" class=\"data row25 col19\" >0</td>\n",
       "      <td id=\"T_eea19_row25_col20\" class=\"data row25 col20\" >0</td>\n",
       "      <td id=\"T_eea19_row25_col21\" class=\"data row25 col21\" >0</td>\n",
       "      <td id=\"T_eea19_row25_col22\" class=\"data row25 col22\" >0</td>\n",
       "      <td id=\"T_eea19_row25_col23\" class=\"data row25 col23\" >0</td>\n",
       "      <td id=\"T_eea19_row25_col24\" class=\"data row25 col24\" >0</td>\n",
       "      <td id=\"T_eea19_row25_col25\" class=\"data row25 col25\" >0</td>\n",
       "      <td id=\"T_eea19_row25_col26\" class=\"data row25 col26\" >0</td>\n",
       "      <td id=\"T_eea19_row25_col27\" class=\"data row25 col27\" >0</td>\n",
       "    </tr>\n",
       "    <tr>\n",
       "      <th id=\"T_eea19_level0_row26\" class=\"row_heading level0 row26\" >26</th>\n",
       "      <td id=\"T_eea19_row26_col0\" class=\"data row26 col0\" >0</td>\n",
       "      <td id=\"T_eea19_row26_col1\" class=\"data row26 col1\" >0</td>\n",
       "      <td id=\"T_eea19_row26_col2\" class=\"data row26 col2\" >0</td>\n",
       "      <td id=\"T_eea19_row26_col3\" class=\"data row26 col3\" >0</td>\n",
       "      <td id=\"T_eea19_row26_col4\" class=\"data row26 col4\" >0</td>\n",
       "      <td id=\"T_eea19_row26_col5\" class=\"data row26 col5\" >0</td>\n",
       "      <td id=\"T_eea19_row26_col6\" class=\"data row26 col6\" >0</td>\n",
       "      <td id=\"T_eea19_row26_col7\" class=\"data row26 col7\" >0</td>\n",
       "      <td id=\"T_eea19_row26_col8\" class=\"data row26 col8\" >0</td>\n",
       "      <td id=\"T_eea19_row26_col9\" class=\"data row26 col9\" >0</td>\n",
       "      <td id=\"T_eea19_row26_col10\" class=\"data row26 col10\" >0</td>\n",
       "      <td id=\"T_eea19_row26_col11\" class=\"data row26 col11\" >0</td>\n",
       "      <td id=\"T_eea19_row26_col12\" class=\"data row26 col12\" >0</td>\n",
       "      <td id=\"T_eea19_row26_col13\" class=\"data row26 col13\" >0</td>\n",
       "      <td id=\"T_eea19_row26_col14\" class=\"data row26 col14\" >0</td>\n",
       "      <td id=\"T_eea19_row26_col15\" class=\"data row26 col15\" >0</td>\n",
       "      <td id=\"T_eea19_row26_col16\" class=\"data row26 col16\" >0</td>\n",
       "      <td id=\"T_eea19_row26_col17\" class=\"data row26 col17\" >0</td>\n",
       "      <td id=\"T_eea19_row26_col18\" class=\"data row26 col18\" >0</td>\n",
       "      <td id=\"T_eea19_row26_col19\" class=\"data row26 col19\" >0</td>\n",
       "      <td id=\"T_eea19_row26_col20\" class=\"data row26 col20\" >0</td>\n",
       "      <td id=\"T_eea19_row26_col21\" class=\"data row26 col21\" >0</td>\n",
       "      <td id=\"T_eea19_row26_col22\" class=\"data row26 col22\" >0</td>\n",
       "      <td id=\"T_eea19_row26_col23\" class=\"data row26 col23\" >0</td>\n",
       "      <td id=\"T_eea19_row26_col24\" class=\"data row26 col24\" >0</td>\n",
       "      <td id=\"T_eea19_row26_col25\" class=\"data row26 col25\" >0</td>\n",
       "      <td id=\"T_eea19_row26_col26\" class=\"data row26 col26\" >0</td>\n",
       "      <td id=\"T_eea19_row26_col27\" class=\"data row26 col27\" >0</td>\n",
       "    </tr>\n",
       "    <tr>\n",
       "      <th id=\"T_eea19_level0_row27\" class=\"row_heading level0 row27\" >27</th>\n",
       "      <td id=\"T_eea19_row27_col0\" class=\"data row27 col0\" >0</td>\n",
       "      <td id=\"T_eea19_row27_col1\" class=\"data row27 col1\" >0</td>\n",
       "      <td id=\"T_eea19_row27_col2\" class=\"data row27 col2\" >0</td>\n",
       "      <td id=\"T_eea19_row27_col3\" class=\"data row27 col3\" >0</td>\n",
       "      <td id=\"T_eea19_row27_col4\" class=\"data row27 col4\" >0</td>\n",
       "      <td id=\"T_eea19_row27_col5\" class=\"data row27 col5\" >0</td>\n",
       "      <td id=\"T_eea19_row27_col6\" class=\"data row27 col6\" >0</td>\n",
       "      <td id=\"T_eea19_row27_col7\" class=\"data row27 col7\" >0</td>\n",
       "      <td id=\"T_eea19_row27_col8\" class=\"data row27 col8\" >0</td>\n",
       "      <td id=\"T_eea19_row27_col9\" class=\"data row27 col9\" >0</td>\n",
       "      <td id=\"T_eea19_row27_col10\" class=\"data row27 col10\" >0</td>\n",
       "      <td id=\"T_eea19_row27_col11\" class=\"data row27 col11\" >0</td>\n",
       "      <td id=\"T_eea19_row27_col12\" class=\"data row27 col12\" >0</td>\n",
       "      <td id=\"T_eea19_row27_col13\" class=\"data row27 col13\" >0</td>\n",
       "      <td id=\"T_eea19_row27_col14\" class=\"data row27 col14\" >0</td>\n",
       "      <td id=\"T_eea19_row27_col15\" class=\"data row27 col15\" >0</td>\n",
       "      <td id=\"T_eea19_row27_col16\" class=\"data row27 col16\" >0</td>\n",
       "      <td id=\"T_eea19_row27_col17\" class=\"data row27 col17\" >0</td>\n",
       "      <td id=\"T_eea19_row27_col18\" class=\"data row27 col18\" >0</td>\n",
       "      <td id=\"T_eea19_row27_col19\" class=\"data row27 col19\" >0</td>\n",
       "      <td id=\"T_eea19_row27_col20\" class=\"data row27 col20\" >0</td>\n",
       "      <td id=\"T_eea19_row27_col21\" class=\"data row27 col21\" >0</td>\n",
       "      <td id=\"T_eea19_row27_col22\" class=\"data row27 col22\" >0</td>\n",
       "      <td id=\"T_eea19_row27_col23\" class=\"data row27 col23\" >0</td>\n",
       "      <td id=\"T_eea19_row27_col24\" class=\"data row27 col24\" >0</td>\n",
       "      <td id=\"T_eea19_row27_col25\" class=\"data row27 col25\" >0</td>\n",
       "      <td id=\"T_eea19_row27_col26\" class=\"data row27 col26\" >0</td>\n",
       "      <td id=\"T_eea19_row27_col27\" class=\"data row27 col27\" >0</td>\n",
       "    </tr>\n",
       "  </tbody>\n",
       "</table>\n"
      ],
      "text/plain": [
       "<pandas.io.formats.style.Styler at 0x7f95d0d3b160>"
      ]
     },
     "execution_count": 13,
     "metadata": {},
     "output_type": "execute_result"
    }
   ],
   "source": [
    "pd.DataFrame(im3_t).style.set_properties(**{'font-size':'6pt'}).background_gradient('Greys') #background gradient "
   ]
  },
  {
   "cell_type": "markdown",
   "metadata": {},
   "source": [
    "## First Try: Pixel Similarity"
   ]
  },
  {
   "cell_type": "markdown",
   "metadata": {},
   "source": [
    "create a baseline model - should work quite straight forward to test and implement"
   ]
  },
  {
   "cell_type": "code",
   "execution_count": 14,
   "metadata": {},
   "outputs": [
    {
     "data": {
      "text/plain": [
       "(6131, 6265)"
      ]
     },
     "execution_count": 14,
     "metadata": {},
     "output_type": "execute_result"
    }
   ],
   "source": [
    "seven_tensors = [tensor(Image.open(o)) for o in sevens]\n",
    "three_tensors = [tensor(Image.open(o)) for o in threes]\n",
    "len(three_tensors),len(seven_tensors)"
   ]
  },
  {
   "cell_type": "code",
   "execution_count": 15,
   "metadata": {},
   "outputs": [
    {
     "data": {
      "text/html": [
       "<h4 id=\"show_image\" class=\"doc_header\"><code>show_image</code><a href=\"https://github.com/fastai/fastai/tree/master/fastai/torch_core.py#L47\" class=\"source_link\" style=\"float:right\">[source]</a></h4><blockquote><p><code>show_image</code>(<strong><code>im</code></strong>, <strong><code>ax</code></strong>=<em><code>None</code></em>, <strong><code>figsize</code></strong>=<em><code>None</code></em>, <strong><code>title</code></strong>=<em><code>None</code></em>, <strong><code>ctx</code></strong>=<em><code>None</code></em>, <strong><code>cmap</code></strong>=<em><code>None</code></em>, <strong><code>norm</code></strong>=<em><code>None</code></em>, <strong><code>aspect</code></strong>=<em><code>None</code></em>, <strong><code>interpolation</code></strong>=<em><code>None</code></em>, <strong><code>alpha</code></strong>=<em><code>None</code></em>, <strong><code>vmin</code></strong>=<em><code>None</code></em>, <strong><code>vmax</code></strong>=<em><code>None</code></em>, <strong><code>origin</code></strong>=<em><code>None</code></em>, <strong><code>extent</code></strong>=<em><code>None</code></em>, <strong><code>filternorm</code></strong>=<em><code>True</code></em>, <strong><code>filterrad</code></strong>=<em><code>4.0</code></em>, <strong><code>resample</code></strong>=<em><code>None</code></em>, <strong><code>url</code></strong>=<em><code>None</code></em>, <strong><code>data</code></strong>=<em><code>None</code></em>, <strong>**<code>kwargs</code></strong>)</p>\n",
       "</blockquote>\n",
       "<p>Show a PIL or PyTorch image on <code>ax</code>.</p>\n",
       "<p><a href=\"https://docs.fast.ai/torch_core#show_image\" target=\"_blank\" rel=\"noreferrer noopener\">Show in docs</a></p>\n"
      ]
     },
     "metadata": {},
     "output_type": "display_data"
    }
   ],
   "source": [
    "doc(show_image)"
   ]
  },
  {
   "cell_type": "code",
   "execution_count": 16,
   "metadata": {},
   "outputs": [
    {
     "data": {
      "image/png": "[encoded data removed]",
      "text/plain": [
       "<Figure size 72x72 with 1 Axes>"
      ]
     },
     "metadata": {
      "needs_background": "light"
     },
     "output_type": "display_data"
    }
   ],
   "source": [
    "show_image(three_tensors[1]);"
   ]
  },
  {
   "cell_type": "markdown",
   "metadata": {},
   "source": [
    "Convert list to tensors in pytorch"
   ]
  },
  {
   "cell_type": "code",
   "execution_count": 17,
   "metadata": {},
   "outputs": [
    {
     "data": {
      "text/plain": [
       "torch.Size([6131, 28, 28])"
      ]
     },
     "execution_count": 17,
     "metadata": {},
     "output_type": "execute_result"
    }
   ],
   "source": [
    "stacked_sevens = torch.stack(seven_tensors).float()/255 #divide by 255 if image is between 0 and 1\n",
    "stacked_threes = torch.stack(three_tensors).float()/255\n",
    "stacked_threes.shape\n",
    "# ranked 3 axis"
   ]
  },
  {
   "cell_type": "code",
   "execution_count": 18,
   "metadata": {},
   "outputs": [
    {
     "data": {
      "text/plain": [
       "3"
      ]
     },
     "execution_count": 18,
     "metadata": {},
     "output_type": "execute_result"
    }
   ],
   "source": [
    "len(stacked_threes.shape)"
   ]
  },
  {
   "cell_type": "code",
   "execution_count": 19,
   "metadata": {},
   "outputs": [
    {
     "data": {
      "text/plain": [
       "3"
      ]
     },
     "execution_count": 19,
     "metadata": {},
     "output_type": "execute_result"
    }
   ],
   "source": [
    "stacked_threes.ndim #equivalend axis or ndim in numpy"
   ]
  },
  {
   "cell_type": "code",
   "execution_count": 20,
   "metadata": {},
   "outputs": [
    {
     "data": {
      "text/plain": [
       "torch.Tensor"
      ]
     },
     "execution_count": 20,
     "metadata": {},
     "output_type": "execute_result"
    }
   ],
   "source": [
    "type(stacked_threes)"
   ]
  },
  {
   "cell_type": "markdown",
   "metadata": {},
   "source": [
    "take a mean of an axis and the image is blurred"
   ]
  },
  {
   "cell_type": "code",
   "execution_count": 21,
   "metadata": {},
   "outputs": [
    {
     "data": {
      "image/png": "[encoded data removed]",
      "text/plain": [
       "<Figure size 72x72 with 1 Axes>"
      ]
     },
     "metadata": {
      "needs_background": "light"
     },
     "output_type": "display_data"
    }
   ],
   "source": [
    "mean3 = stacked_threes.mean(0)\n",
    "show_image(mean3);"
   ]
  },
  {
   "cell_type": "code",
   "execution_count": 22,
   "metadata": {},
   "outputs": [
    {
     "data": {
      "image/png": "[encoded data removed]",
      "text/plain": [
       "<Figure size 72x72 with 1 Axes>"
      ]
     },
     "metadata": {
      "needs_background": "light"
     },
     "output_type": "display_data"
    }
   ],
   "source": [
    "mean7 = stacked_sevens.mean(0)\n",
    "show_image(mean7);"
   ]
  },
  {
   "cell_type": "code",
   "execution_count": 23,
   "metadata": {},
   "outputs": [
    {
     "data": {
      "image/png": "[encoded data removed]",
      "text/plain": [
       "<Figure size 72x72 with 1 Axes>"
      ]
     },
     "metadata": {
      "needs_background": "light"
     },
     "output_type": "display_data"
    }
   ],
   "source": [
    "a_3 = stacked_threes[1]\n",
    "show_image(a_3);"
   ]
  },
  {
   "cell_type": "markdown",
   "metadata": {},
   "source": [
    "<b>L1 and L2 regularization</b>\n",
    "- The L1 norm is the sum of the absolute values --> result to a sparser solution\n",
    "     - LASSO regression, L1 regularization, includes a hyper-parameter α times the sum of the absolute value of the coefficients as penalty term in its cost function\n",
    "- The L2 norm is the square root of the sum of the squared values (RMSE - root mean squared error) --> minimizing the prediction error"
   ]
  },
  {
   "cell_type": "code",
   "execution_count": 24,
   "metadata": {},
   "outputs": [
    {
     "data": {
      "text/plain": [
       "(tensor(0.1114), tensor(0.2021))"
      ]
     },
     "execution_count": 24,
     "metadata": {},
     "output_type": "execute_result"
    }
   ],
   "source": [
    "dist_3_abs = (a_3 - mean3).abs().mean()\n",
    "dist_3_sqr = ((a_3 - mean3)**2).mean().sqrt()\n",
    "dist_3_abs,dist_3_sqr"
   ]
  },
  {
   "cell_type": "code",
   "execution_count": 25,
   "metadata": {},
   "outputs": [
    {
     "data": {
      "text/plain": [
       "(tensor(0.1586), tensor(0.3021))"
      ]
     },
     "execution_count": 25,
     "metadata": {},
     "output_type": "execute_result"
    }
   ],
   "source": [
    "dist_7_abs = (a_3 - mean7).abs().mean()\n",
    "dist_7_sqr = ((a_3 - mean7)**2).mean().sqrt()\n",
    "dist_7_abs,dist_7_sqr"
   ]
  },
  {
   "cell_type": "code",
   "execution_count": 26,
   "metadata": {},
   "outputs": [
    {
     "name": "stdout",
     "output_type": "stream",
     "text": [
      "L1 norm: 0.15861910581588745\n",
      "L2 norm: 0.30210891366004944\n"
     ]
    }
   ],
   "source": [
    "print(f'L1 norm: {F.l1_loss(a_3.float(),mean7)}\\nL2 norm: {F.mse_loss(a_3,mean7).sqrt()}')"
   ]
  },
  {
   "cell_type": "code",
   "execution_count": 27,
   "metadata": {},
   "outputs": [
    {
     "data": {
      "text/html": [
       "<h4 id=\"l1_loss\" class=\"doc_header\"><code>l1_loss</code><a href=\"torch/nn/functional.py#L3031\" class=\"source_link\" style=\"float:right\">[source]</a></h4><blockquote><p><code>l1_loss</code>(<strong><code>input</code></strong>:<code>Tensor</code>, <strong><code>target</code></strong>:<code>Tensor</code>, <strong><code>size_average</code></strong>:<code>Optional</code>[<code>bool</code>]=<em><code>None</code></em>, <strong><code>reduce</code></strong>:<code>Optional</code>[<code>bool</code>]=<em><code>None</code></em>, <strong><code>reduction</code></strong>:<code>str</code>=<em><code>'mean'</code></em>)</p>\n",
       "</blockquote>\n",
       "<p>l1_loss(input, target, size_average=None, reduce=None, reduction='mean') -&gt; Tensor</p>\n",
       "<p>Function that takes the mean element-wise absolute value difference.</p>\n",
       "<p>See :class:<code>~torch.nn.L1Loss</code> for details.</p>\n"
      ]
     },
     "metadata": {},
     "output_type": "display_data"
    }
   ],
   "source": [
    "doc(F.l1_loss)"
   ]
  },
  {
   "cell_type": "markdown",
   "metadata": {},
   "source": [
    "### NumPy Arrays and PyTorch Tensors"
   ]
  },
  {
   "cell_type": "code",
   "execution_count": 28,
   "metadata": {},
   "outputs": [],
   "source": [
    "data = [[1,2,3],[4,5,6]]\n",
    "arr = array (data)\n",
    "tns = tensor(data)"
   ]
  },
  {
   "cell_type": "code",
   "execution_count": 29,
   "metadata": {},
   "outputs": [
    {
     "data": {
      "text/plain": [
       "array([[1, 2, 3],\n",
       "       [4, 5, 6]])"
      ]
     },
     "execution_count": 29,
     "metadata": {},
     "output_type": "execute_result"
    }
   ],
   "source": [
    "arr  # numpy"
   ]
  },
  {
   "cell_type": "code",
   "execution_count": 30,
   "metadata": {},
   "outputs": [
    {
     "data": {
      "text/plain": [
       "tensor([[1, 2, 3],\n",
       "        [4, 5, 6]])"
      ]
     },
     "execution_count": 30,
     "metadata": {},
     "output_type": "execute_result"
    }
   ],
   "source": [
    "tns  # pytorch"
   ]
  },
  {
   "cell_type": "code",
   "execution_count": 31,
   "metadata": {},
   "outputs": [
    {
     "data": {
      "text/plain": [
       "tensor([4, 5, 6])"
      ]
     },
     "execution_count": 31,
     "metadata": {},
     "output_type": "execute_result"
    }
   ],
   "source": [
    "tns[1]"
   ]
  },
  {
   "cell_type": "code",
   "execution_count": 32,
   "metadata": {},
   "outputs": [
    {
     "data": {
      "text/plain": [
       "tensor([2, 5])"
      ]
     },
     "execution_count": 32,
     "metadata": {},
     "output_type": "execute_result"
    }
   ],
   "source": [
    "tns[:,1]"
   ]
  },
  {
   "cell_type": "code",
   "execution_count": 33,
   "metadata": {},
   "outputs": [
    {
     "data": {
      "text/plain": [
       "tensor([5, 6])"
      ]
     },
     "execution_count": 33,
     "metadata": {},
     "output_type": "execute_result"
    }
   ],
   "source": [
    "tns[1,1:3]"
   ]
  },
  {
   "cell_type": "code",
   "execution_count": 34,
   "metadata": {},
   "outputs": [
    {
     "data": {
      "text/plain": [
       "tensor([[2, 3, 4],\n",
       "        [5, 6, 7]])"
      ]
     },
     "execution_count": 34,
     "metadata": {},
     "output_type": "execute_result"
    }
   ],
   "source": [
    "tns+1"
   ]
  },
  {
   "cell_type": "code",
   "execution_count": 35,
   "metadata": {},
   "outputs": [
    {
     "data": {
      "text/plain": [
       "'torch.LongTensor'"
      ]
     },
     "execution_count": 35,
     "metadata": {},
     "output_type": "execute_result"
    }
   ],
   "source": [
    "tns.type()"
   ]
  },
  {
   "cell_type": "code",
   "execution_count": 36,
   "metadata": {},
   "outputs": [
    {
     "data": {
      "text/plain": [
       "tensor([[1.5000, 3.0000, 4.5000],\n",
       "        [6.0000, 7.5000, 9.0000]])"
      ]
     },
     "execution_count": 36,
     "metadata": {},
     "output_type": "execute_result"
    }
   ],
   "source": [
    "tns*1.5"
   ]
  },
  {
   "cell_type": "markdown",
   "metadata": {},
   "source": [
    "## Computing Metrics Using Broadcasting"
   ]
  },
  {
   "cell_type": "code",
   "execution_count": 37,
   "metadata": {},
   "outputs": [
    {
     "data": {
      "text/plain": [
       "(torch.Size([1010, 28, 28]), torch.Size([1028, 28, 28]))"
      ]
     },
     "execution_count": 37,
     "metadata": {},
     "output_type": "execute_result"
    }
   ],
   "source": [
    "valid_3_tens = torch.stack([tensor(Image.open(o)) \n",
    "                            for o in (path/'valid'/'3').ls()])\n",
    "valid_3_tens = valid_3_tens.float()/255\n",
    "valid_7_tens = torch.stack([tensor(Image.open(o)) \n",
    "                            for o in (path/'valid'/'7').ls()])\n",
    "valid_7_tens = valid_7_tens.float()/255\n",
    "valid_3_tens.shape,valid_7_tens.shape"
   ]
  },
  {
   "cell_type": "code",
   "execution_count": 38,
   "metadata": {},
   "outputs": [
    {
     "data": {
      "text/plain": [
       "tensor(0.1114)"
      ]
     },
     "execution_count": 38,
     "metadata": {},
     "output_type": "execute_result"
    }
   ],
   "source": [
    "def mnist_distance(a,b): \n",
    "    '''broadcasting for finding distance between 2 arrays a and b \n",
    "    a: array/tensor\n",
    "    b: array/tensor\n",
    "    '''\n",
    "    return (a-b).abs().mean((-1,-2))\n",
    "mnist_distance(a_3, mean3)"
   ]
  },
  {
   "cell_type": "code",
   "execution_count": 39,
   "metadata": {},
   "outputs": [
    {
     "data": {
      "text/plain": [
       "torch.Size([1010, 28, 28])"
      ]
     },
     "execution_count": 39,
     "metadata": {},
     "output_type": "execute_result"
    }
   ],
   "source": [
    "valid_3_tens.shape"
   ]
  },
  {
   "cell_type": "code",
   "execution_count": 40,
   "metadata": {},
   "outputs": [
    {
     "data": {
      "text/plain": [
       "(tensor([0.1539, 0.1557, 0.1479,  ..., 0.1123, 0.1295, 0.1183]),\n",
       " torch.Size([1010]))"
      ]
     },
     "execution_count": 40,
     "metadata": {},
     "output_type": "execute_result"
    }
   ],
   "source": [
    "valid_3_dist = mnist_distance(valid_3_tens, mean3)\n",
    "valid_3_dist, valid_3_dist.shape"
   ]
  },
  {
   "cell_type": "code",
   "execution_count": 41,
   "metadata": {},
   "outputs": [
    {
     "data": {
      "text/plain": [
       "tensor([2, 3, 4])"
      ]
     },
     "execution_count": 41,
     "metadata": {},
     "output_type": "execute_result"
    }
   ],
   "source": [
    "tensor([1,2,3]) + tensor([1,1,1])"
   ]
  },
  {
   "cell_type": "code",
   "execution_count": 42,
   "metadata": {},
   "outputs": [
    {
     "data": {
      "text/plain": [
       "torch.Size([1010, 28, 28])"
      ]
     },
     "execution_count": 42,
     "metadata": {},
     "output_type": "execute_result"
    }
   ],
   "source": [
    "(valid_3_tens-mean3).shape"
   ]
  },
  {
   "cell_type": "code",
   "execution_count": 43,
   "metadata": {},
   "outputs": [],
   "source": [
    "def is_3(x): \n",
    "    return mnist_distance(x,mean3) < mnist_distance(x,mean7)"
   ]
  },
  {
   "cell_type": "code",
   "execution_count": 44,
   "metadata": {},
   "outputs": [
    {
     "data": {
      "text/plain": [
       "(tensor(True), tensor(1.))"
      ]
     },
     "execution_count": 44,
     "metadata": {},
     "output_type": "execute_result"
    }
   ],
   "source": [
    "is_3(a_3), is_3(a_3).float()"
   ]
  },
  {
   "cell_type": "code",
   "execution_count": 45,
   "metadata": {},
   "outputs": [
    {
     "data": {
      "text/plain": [
       "tensor([ True, False,  True,  ...,  True,  True,  True])"
      ]
     },
     "execution_count": 45,
     "metadata": {},
     "output_type": "execute_result"
    }
   ],
   "source": [
    "is_3(valid_3_tens)"
   ]
  },
  {
   "cell_type": "code",
   "execution_count": 46,
   "metadata": {},
   "outputs": [
    {
     "data": {
      "text/plain": [
       "(tensor(0.9168), tensor(0.9854), tensor(0.9511))"
      ]
     },
     "execution_count": 46,
     "metadata": {},
     "output_type": "execute_result"
    }
   ],
   "source": [
    "accuracy_3s =      is_3(valid_3_tens).float() .mean()\n",
    "accuracy_7s = (1 - is_3(valid_7_tens).float()).mean()\n",
    "\n",
    "accuracy_3s,accuracy_7s,(accuracy_3s+accuracy_7s)/2"
   ]
  },
  {
   "cell_type": "markdown",
   "metadata": {},
   "source": [
    "## Stochastic Gradient Descent (SGD)"
   ]
  },
  {
   "cell_type": "code",
   "execution_count": 47,
   "metadata": {},
   "outputs": [
    {
     "data": {
      "image/svg+xml": [
       "<?xml version=\"1.0\" encoding=\"UTF-8\" standalone=\"no\"?>\n",
       "<!DOCTYPE svg PUBLIC \"-//W3C//DTD SVG 1.1//EN\"\n",
       " \"http://www.w3.org/Graphics/SVG/1.1/DTD/svg11.dtd\">\n",
       "<!-- Generated by graphviz version 2.40.1 (20161225.0304)\n",
       " -->\n",
       "<!-- Title: G Pages: 1 -->\n",
       "<svg width=\"591pt\" height=\"78pt\"\n",
       " viewBox=\"0.00 0.00 591.49 78.00\" xmlns=\"http://www.w3.org/2000/svg\" xmlns:xlink=\"http://www.w3.org/1999/xlink\">\n",
       "<g id=\"graph0\" class=\"graph\" transform=\"scale(1 1) rotate(0) translate(4 74)\">\n",
       "<title>G</title>\n",
       "<polygon fill=\"#ffffff\" stroke=\"transparent\" points=\"-4,4 -4,-74 587.4867,-74 587.4867,4 -4,4\"/>\n",
       "<!-- init -->\n",
       "<g id=\"node1\" class=\"node\">\n",
       "<title>init</title>\n",
       "<ellipse fill=\"none\" stroke=\"#000000\" cx=\"27\" cy=\"-18\" rx=\"27\" ry=\"18\"/>\n",
       "<text text-anchor=\"middle\" x=\"27\" y=\"-14.3\" font-family=\"Times,serif\" font-size=\"14.00\" fill=\"#000000\">init</text>\n",
       "</g>\n",
       "<!-- predict -->\n",
       "<g id=\"node2\" class=\"node\">\n",
       "<title>predict</title>\n",
       "<ellipse fill=\"none\" stroke=\"#000000\" cx=\"126.0969\" cy=\"-18\" rx=\"35.194\" ry=\"18\"/>\n",
       "<text text-anchor=\"middle\" x=\"126.0969\" y=\"-14.3\" font-family=\"Times,serif\" font-size=\"14.00\" fill=\"#000000\">predict</text>\n",
       "</g>\n",
       "<!-- init&#45;&gt;predict -->\n",
       "<g id=\"edge1\" class=\"edge\">\n",
       "<title>init&#45;&gt;predict</title>\n",
       "<path fill=\"none\" stroke=\"#000000\" d=\"M54.0787,-18C62.3227,-18 71.6196,-18 80.7269,-18\"/>\n",
       "<polygon fill=\"#000000\" stroke=\"#000000\" points=\"80.8626,-21.5001 90.8626,-18 80.8625,-14.5001 80.8626,-21.5001\"/>\n",
       "</g>\n",
       "<!-- loss -->\n",
       "<g id=\"node3\" class=\"node\">\n",
       "<title>loss</title>\n",
       "<ellipse fill=\"none\" stroke=\"#000000\" cx=\"225.1938\" cy=\"-52\" rx=\"27\" ry=\"18\"/>\n",
       "<text text-anchor=\"middle\" x=\"225.1938\" y=\"-48.3\" font-family=\"Times,serif\" font-size=\"14.00\" fill=\"#000000\">loss</text>\n",
       "</g>\n",
       "<!-- predict&#45;&gt;loss -->\n",
       "<g id=\"edge2\" class=\"edge\">\n",
       "<title>predict&#45;&gt;loss</title>\n",
       "<path fill=\"none\" stroke=\"#000000\" d=\"M155.2932,-28.0172C166.6224,-31.9043 179.6698,-36.3808 191.4018,-40.406\"/>\n",
       "<polygon fill=\"#000000\" stroke=\"#000000\" points=\"190.2859,-43.7234 200.8806,-43.6582 192.5577,-37.1023 190.2859,-43.7234\"/>\n",
       "</g>\n",
       "<!-- gradient -->\n",
       "<g id=\"node4\" class=\"node\">\n",
       "<title>gradient</title>\n",
       "<ellipse fill=\"none\" stroke=\"#000000\" cx=\"361.8403\" cy=\"-52\" rx=\"39.7935\" ry=\"18\"/>\n",
       "<text text-anchor=\"middle\" x=\"361.8403\" y=\"-48.3\" font-family=\"Times,serif\" font-size=\"14.00\" fill=\"#000000\">gradient</text>\n",
       "</g>\n",
       "<!-- loss&#45;&gt;gradient -->\n",
       "<g id=\"edge3\" class=\"edge\">\n",
       "<title>loss&#45;&gt;gradient</title>\n",
       "<path fill=\"none\" stroke=\"#000000\" d=\"M252.5178,-52C269.4967,-52 291.836,-52 311.8929,-52\"/>\n",
       "<polygon fill=\"#000000\" stroke=\"#000000\" points=\"312.1329,-55.5001 322.1329,-52 312.1328,-48.5001 312.1329,-55.5001\"/>\n",
       "</g>\n",
       "<!-- step -->\n",
       "<g id=\"node5\" class=\"node\">\n",
       "<title>step</title>\n",
       "<ellipse fill=\"none\" stroke=\"#000000\" cx=\"465.4867\" cy=\"-18\" rx=\"27\" ry=\"18\"/>\n",
       "<text text-anchor=\"middle\" x=\"465.4867\" y=\"-14.3\" font-family=\"Times,serif\" font-size=\"14.00\" fill=\"#000000\">step</text>\n",
       "</g>\n",
       "<!-- gradient&#45;&gt;step -->\n",
       "<g id=\"edge4\" class=\"edge\">\n",
       "<title>gradient&#45;&gt;step</title>\n",
       "<path fill=\"none\" stroke=\"#000000\" d=\"M394.0665,-41.4286C405.9515,-37.5298 419.4492,-33.1021 431.4862,-29.1535\"/>\n",
       "<polygon fill=\"#000000\" stroke=\"#000000\" points=\"432.7754,-32.4142 441.1862,-25.9715 430.5935,-25.7629 432.7754,-32.4142\"/>\n",
       "</g>\n",
       "<!-- step&#45;&gt;predict -->\n",
       "<g id=\"edge6\" class=\"edge\">\n",
       "<title>step&#45;&gt;predict</title>\n",
       "<path fill=\"none\" stroke=\"#000000\" d=\"M438.4132,-18C380.3272,-18 243.2155,-18 171.5401,-18\"/>\n",
       "<polygon fill=\"#000000\" stroke=\"#000000\" points=\"171.4571,-14.5001 161.4571,-18 171.4571,-21.5001 171.4571,-14.5001\"/>\n",
       "<text text-anchor=\"middle\" x=\"287.1938\" y=\"-21.8\" font-family=\"Times,serif\" font-size=\"14.00\" fill=\"#000000\">repeat</text>\n",
       "</g>\n",
       "<!-- stop -->\n",
       "<g id=\"node6\" class=\"node\">\n",
       "<title>stop</title>\n",
       "<ellipse fill=\"none\" stroke=\"#000000\" cx=\"556.4867\" cy=\"-18\" rx=\"27\" ry=\"18\"/>\n",
       "<text text-anchor=\"middle\" x=\"556.4867\" y=\"-14.3\" font-family=\"Times,serif\" font-size=\"14.00\" fill=\"#000000\">stop</text>\n",
       "</g>\n",
       "<!-- step&#45;&gt;stop -->\n",
       "<g id=\"edge5\" class=\"edge\">\n",
       "<title>step&#45;&gt;stop</title>\n",
       "<path fill=\"none\" stroke=\"#000000\" d=\"M492.7897,-18C501.068,-18 510.3085,-18 519.1272,-18\"/>\n",
       "<polygon fill=\"#000000\" stroke=\"#000000\" points=\"519.203,-21.5001 529.203,-18 519.203,-14.5001 519.203,-21.5001\"/>\n",
       "</g>\n",
       "</g>\n",
       "</svg>\n"
      ],
      "text/plain": [
       "<graphviz.files.Source at 0x7f95c8f9bfd0>"
      ]
     },
     "execution_count": 47,
     "metadata": {},
     "output_type": "execute_result"
    }
   ],
   "source": [
    "gv('''\n",
    "init->predict->loss->gradient->step->stop\n",
    "step->predict[label=repeat]\n",
    "''')"
   ]
  },
  {
   "cell_type": "code",
   "execution_count": 48,
   "metadata": {},
   "outputs": [],
   "source": [
    "def f(x): return x**2"
   ]
  },
  {
   "cell_type": "code",
   "execution_count": 49,
   "metadata": {},
   "outputs": [
    {
     "name": "stderr",
     "output_type": "stream",
     "text": [
      "/home/adeuk/miniconda/envs/fastai/lib/python3.8/site-packages/fastbook/__init__.py:74: UserWarning: Not providing a value for linspace's steps is deprecated and will throw a runtime error in a future release. This warning will appear only once per process. (Triggered internally at  ../aten/src/ATen/native/RangeFactories.cpp:25.)\n",
      "  x = torch.linspace(min,max)\n"
     ]
    },
    {
     "data": {
      "image/png": "[encoded data removed]",
      "text/plain": [
       "<Figure size 432x288 with 1 Axes>"
      ]
     },
     "metadata": {
      "needs_background": "light"
     },
     "output_type": "display_data"
    }
   ],
   "source": [
    "plot_function(f, 'x', 'x**2')"
   ]
  },
  {
   "cell_type": "code",
   "execution_count": 50,
   "metadata": {},
   "outputs": [
    {
     "data": {
      "image/png": "[encoded data removed]",
      "text/plain": [
       "<Figure size 432x288 with 1 Axes>"
      ]
     },
     "metadata": {
      "needs_background": "light"
     },
     "output_type": "display_data"
    }
   ],
   "source": [
    "plot_function(f, 'x', 'x**2')\n",
    "plt.scatter(-1.5, f(-1.5), color='red');"
   ]
  },
  {
   "cell_type": "markdown",
   "metadata": {},
   "source": [
    "### Calculating Gradients"
   ]
  },
  {
   "cell_type": "markdown",
   "metadata": {},
   "source": [
    "calculate slope with derivative to know how much to reduce losses "
   ]
  },
  {
   "cell_type": "markdown",
   "metadata": {},
   "source": [
    "rank 1 tensor is a vector"
   ]
  },
  {
   "cell_type": "code",
   "execution_count": 51,
   "metadata": {},
   "outputs": [],
   "source": [
    "# modify tensor, tell PyTorch that we want to calculate gradients with that variable at the value with requires_grad_()\n",
    "xt = tensor(3.).requires_grad_()"
   ]
  },
  {
   "cell_type": "code",
   "execution_count": 52,
   "metadata": {},
   "outputs": [
    {
     "name": "stdout",
     "output_type": "stream",
     "text": [
      "tensor(9., grad_fn=<PowBackward0>) \n",
      "9 with additional function\n"
     ]
    }
   ],
   "source": [
    "yt = f(xt)\n",
    "print(yt,'\\n9 with additional function')"
   ]
  },
  {
   "cell_type": "code",
   "execution_count": 53,
   "metadata": {},
   "outputs": [],
   "source": [
    "yt.backward()"
   ]
  },
  {
   "cell_type": "code",
   "execution_count": 54,
   "metadata": {},
   "outputs": [
    {
     "data": {
      "text/plain": [
       "tensor(6.)"
      ]
     },
     "execution_count": 54,
     "metadata": {},
     "output_type": "execute_result"
    }
   ],
   "source": [
    "xt.grad"
   ]
  },
  {
   "cell_type": "code",
   "execution_count": 55,
   "metadata": {},
   "outputs": [
    {
     "data": {
      "text/plain": [
       "tensor([ 3.,  4., 10.], requires_grad=True)"
      ]
     },
     "execution_count": 55,
     "metadata": {},
     "output_type": "execute_result"
    }
   ],
   "source": [
    "xt = tensor([3.,4.,10.]).requires_grad_()\n",
    "xt"
   ]
  },
  {
   "cell_type": "code",
   "execution_count": 56,
   "metadata": {},
   "outputs": [
    {
     "data": {
      "text/plain": [
       "tensor(125., grad_fn=<SumBackward0>)"
      ]
     },
     "execution_count": 56,
     "metadata": {},
     "output_type": "execute_result"
    }
   ],
   "source": [
    "def f(x): return (x**2).sum()\n",
    "\n",
    "yt = f(xt)\n",
    "yt"
   ]
  },
  {
   "cell_type": "code",
   "execution_count": 57,
   "metadata": {},
   "outputs": [
    {
     "data": {
      "text/plain": [
       "tensor([ 6.,  8., 20.])"
      ]
     },
     "execution_count": 57,
     "metadata": {},
     "output_type": "execute_result"
    }
   ],
   "source": [
    "yt.backward()\n",
    "xt.grad"
   ]
  },
  {
   "cell_type": "markdown",
   "metadata": {},
   "source": [
    "### Stepping With a Learning Rate"
   ]
  },
  {
   "cell_type": "markdown",
   "metadata": {},
   "source": [
    "### An End-to-End SGD Example"
   ]
  },
  {
   "cell_type": "markdown",
   "metadata": {},
   "source": [
    "`weights -= gradient (w) * lr`\n",
    "lr = learning rate --> how much do you move from x "
   ]
  },
  {
   "cell_type": "code",
   "execution_count": 58,
   "metadata": {},
   "outputs": [
    {
     "data": {
      "text/plain": [
       "tensor([ 0.,  1.,  2.,  3.,  4.,  5.,  6.,  7.,  8.,  9., 10., 11., 12., 13., 14., 15., 16., 17., 18., 19.])"
      ]
     },
     "execution_count": 58,
     "metadata": {},
     "output_type": "execute_result"
    }
   ],
   "source": [
    "time = torch.arange(0,20).float(); time"
   ]
  },
  {
   "cell_type": "code",
   "execution_count": 59,
   "metadata": {},
   "outputs": [
    {
     "data": {
      "image/png": "[encoded data removed]",
      "text/plain": [
       "<Figure size 432x288 with 1 Axes>"
      ]
     },
     "metadata": {
      "needs_background": "light"
     },
     "output_type": "display_data"
    }
   ],
   "source": [
    "speed = torch.randn(20)*3 + 0.75*(time-9.5)**2 + 1\n",
    "plt.scatter(time,speed);"
   ]
  },
  {
   "cell_type": "code",
   "execution_count": 60,
   "metadata": {},
   "outputs": [],
   "source": [
    "def f(t, params):\n",
    "    '''f is a quadratic function'''\n",
    "    a,b,c = params\n",
    "    return a*(t**2) + (b*t) + c"
   ]
  },
  {
   "cell_type": "code",
   "execution_count": 61,
   "metadata": {},
   "outputs": [],
   "source": [
    "def mse(preds, targets): \n",
    "    return ((preds-targets)**2).mean().sqrt()"
   ]
  },
  {
   "cell_type": "markdown",
   "metadata": {},
   "source": [
    "#### Step 1: Initialize the parameters"
   ]
  },
  {
   "cell_type": "code",
   "execution_count": 62,
   "metadata": {},
   "outputs": [],
   "source": [
    "params = torch.randn(3).requires_grad_()"
   ]
  },
  {
   "cell_type": "code",
   "execution_count": 63,
   "metadata": {},
   "outputs": [],
   "source": [
    "#hide\n",
    "orig_params = params.clone()"
   ]
  },
  {
   "cell_type": "markdown",
   "metadata": {},
   "source": [
    "#### Step 2: Calculate the predictions"
   ]
  },
  {
   "cell_type": "code",
   "execution_count": 64,
   "metadata": {},
   "outputs": [],
   "source": [
    "preds = f(time, params)"
   ]
  },
  {
   "cell_type": "code",
   "execution_count": 65,
   "metadata": {},
   "outputs": [],
   "source": [
    "def show_preds(preds, ax=None):\n",
    "    if ax is None: ax=plt.subplots()[1]\n",
    "    ax.scatter(time, speed)\n",
    "    ax.scatter(time, to_np(preds), color='red')\n",
    "    ax.set_ylim(-300,100)"
   ]
  },
  {
   "cell_type": "code",
   "execution_count": 66,
   "metadata": {},
   "outputs": [
    {
     "data": {
      "image/png": "[encoded data removed]",
      "text/plain": [
       "<Figure size 432x288 with 1 Axes>"
      ]
     },
     "metadata": {
      "needs_background": "light"
     },
     "output_type": "display_data"
    }
   ],
   "source": [
    "show_preds(preds)"
   ]
  },
  {
   "cell_type": "markdown",
   "metadata": {},
   "source": [
    "#### Step 3: Calculate the loss"
   ]
  },
  {
   "cell_type": "code",
   "execution_count": 67,
   "metadata": {},
   "outputs": [
    {
     "data": {
      "text/plain": [
       "tensor(160.6979, grad_fn=<SqrtBackward>)"
      ]
     },
     "execution_count": 67,
     "metadata": {},
     "output_type": "execute_result"
    }
   ],
   "source": [
    "loss = mse(preds, speed)\n",
    "loss"
   ]
  },
  {
   "cell_type": "markdown",
   "metadata": {},
   "source": [
    "#### Step 4: Calculate the gradients"
   ]
  },
  {
   "cell_type": "code",
   "execution_count": 68,
   "metadata": {},
   "outputs": [
    {
     "data": {
      "text/plain": [
       "tensor([-165.5151,  -10.6402,   -0.7900])"
      ]
     },
     "execution_count": 68,
     "metadata": {},
     "output_type": "execute_result"
    }
   ],
   "source": [
    "loss.backward()\n",
    "params.grad"
   ]
  },
  {
   "cell_type": "code",
   "execution_count": 222,
   "metadata": {},
   "outputs": [
    {
     "data": {
      "text/plain": [
       "tensor([1.5806e-03, 1.0130e-04, 5.6961e-06])"
      ]
     },
     "execution_count": 222,
     "metadata": {},
     "output_type": "execute_result"
    }
   ],
   "source": [
    "params.grad * 1e-5"
   ]
  },
  {
   "cell_type": "code",
   "execution_count": 223,
   "metadata": {},
   "outputs": [
    {
     "data": {
      "text/plain": [
       "tensor([ 0.5619, -0.0205,  0.0399], requires_grad=True)"
      ]
     },
     "execution_count": 223,
     "metadata": {},
     "output_type": "execute_result"
    }
   ],
   "source": [
    "params"
   ]
  },
  {
   "cell_type": "markdown",
   "metadata": {},
   "source": [
    "#### Step 5: Step the weights. "
   ]
  },
  {
   "cell_type": "code",
   "execution_count": 224,
   "metadata": {},
   "outputs": [],
   "source": [
    "lr = 1e-5\n",
    "params.data -= lr * params.grad.data\n",
    "params.grad = None"
   ]
  },
  {
   "cell_type": "code",
   "execution_count": 225,
   "metadata": {},
   "outputs": [
    {
     "data": {
      "text/plain": [
       "tensor(74.7924, grad_fn=<SqrtBackward>)"
      ]
     },
     "execution_count": 225,
     "metadata": {},
     "output_type": "execute_result"
    }
   ],
   "source": [
    "preds = f(time,params)\n",
    "mse(preds, speed)"
   ]
  },
  {
   "cell_type": "code",
   "execution_count": 226,
   "metadata": {},
   "outputs": [
    {
     "data": {
      "image/png": "[encoded data removed]",
      "text/plain": [
       "<Figure size 432x288 with 1 Axes>"
      ]
     },
     "metadata": {
      "needs_background": "light"
     },
     "output_type": "display_data"
    }
   ],
   "source": [
    "show_preds(preds)"
   ]
  },
  {
   "cell_type": "code",
   "execution_count": 227,
   "metadata": {},
   "outputs": [],
   "source": [
    "def apply_step(params, prn=True):\n",
    "    preds = f(time, params)\n",
    "    loss = mse(preds, speed)\n",
    "    loss.backward()\n",
    "    params.data -= lr * params.grad.data\n",
    "    params.grad = None\n",
    "    if prn: print(loss.item())\n",
    "    return preds"
   ]
  },
  {
   "cell_type": "markdown",
   "metadata": {},
   "source": [
    "#### Step 6: Repeat the process "
   ]
  },
  {
   "cell_type": "code",
   "execution_count": 228,
   "metadata": {},
   "outputs": [
    {
     "name": "stdout",
     "output_type": "stream",
     "text": [
      "74.79244995117188\n",
      "74.54185485839844\n",
      "74.29146575927734\n",
      "74.04130554199219\n",
      "73.7913589477539\n",
      "73.54163360595703\n",
      "73.2921371459961\n",
      "73.0428695678711\n",
      "72.79381561279297\n",
      "72.54500579833984\n"
     ]
    }
   ],
   "source": [
    "for i in range(10): apply_step(params)"
   ]
  },
  {
   "cell_type": "code",
   "execution_count": 229,
   "metadata": {},
   "outputs": [],
   "source": [
    "#hide\n",
    "params = orig_params.detach().requires_grad_()"
   ]
  },
  {
   "cell_type": "code",
   "execution_count": 230,
   "metadata": {},
   "outputs": [
    {
     "data": {
      "image/png": "[encoded data removed]",
      "text/plain": [
       "<Figure size 864x216 with 4 Axes>"
      ]
     },
     "metadata": {
      "needs_background": "light"
     },
     "output_type": "display_data"
    }
   ],
   "source": [
    "_,axs = plt.subplots(1,4,figsize=(12,3))\n",
    "for ax in axs: show_preds(apply_step(params, False), ax)\n",
    "plt.tight_layout()"
   ]
  },
  {
   "cell_type": "markdown",
   "metadata": {},
   "source": [
    "#### Step 7: stop"
   ]
  },
  {
   "cell_type": "markdown",
   "metadata": {
    "tags": []
   },
   "source": [
    "### Summarizing Gradient Descent"
   ]
  },
  {
   "cell_type": "markdown",
   "metadata": {},
   "source": [
    "metric and loss function should be different"
   ]
  },
  {
   "cell_type": "code",
   "execution_count": 112,
   "metadata": {},
   "outputs": [
    {
     "data": {
      "image/svg+xml": [
       "<?xml version=\"1.0\" encoding=\"UTF-8\" standalone=\"no\"?>\n",
       "<!DOCTYPE svg PUBLIC \"-//W3C//DTD SVG 1.1//EN\"\n",
       " \"http://www.w3.org/Graphics/SVG/1.1/DTD/svg11.dtd\">\n",
       "<!-- Generated by graphviz version 2.40.1 (20161225.0304)\n",
       " -->\n",
       "<!-- Title: G Pages: 1 -->\n",
       "<svg width=\"591pt\" height=\"78pt\"\n",
       " viewBox=\"0.00 0.00 591.49 78.00\" xmlns=\"http://www.w3.org/2000/svg\" xmlns:xlink=\"http://www.w3.org/1999/xlink\">\n",
       "<g id=\"graph0\" class=\"graph\" transform=\"scale(1 1) rotate(0) translate(4 74)\">\n",
       "<title>G</title>\n",
       "<polygon fill=\"#ffffff\" stroke=\"transparent\" points=\"-4,4 -4,-74 587.4867,-74 587.4867,4 -4,4\"/>\n",
       "<!-- init -->\n",
       "<g id=\"node1\" class=\"node\">\n",
       "<title>init</title>\n",
       "<ellipse fill=\"none\" stroke=\"#000000\" cx=\"27\" cy=\"-18\" rx=\"27\" ry=\"18\"/>\n",
       "<text text-anchor=\"middle\" x=\"27\" y=\"-14.3\" font-family=\"Times,serif\" font-size=\"14.00\" fill=\"#000000\">init</text>\n",
       "</g>\n",
       "<!-- predict -->\n",
       "<g id=\"node2\" class=\"node\">\n",
       "<title>predict</title>\n",
       "<ellipse fill=\"none\" stroke=\"#000000\" cx=\"126.0969\" cy=\"-18\" rx=\"35.194\" ry=\"18\"/>\n",
       "<text text-anchor=\"middle\" x=\"126.0969\" y=\"-14.3\" font-family=\"Times,serif\" font-size=\"14.00\" fill=\"#000000\">predict</text>\n",
       "</g>\n",
       "<!-- init&#45;&gt;predict -->\n",
       "<g id=\"edge1\" class=\"edge\">\n",
       "<title>init&#45;&gt;predict</title>\n",
       "<path fill=\"none\" stroke=\"#000000\" d=\"M54.0787,-18C62.3227,-18 71.6196,-18 80.7269,-18\"/>\n",
       "<polygon fill=\"#000000\" stroke=\"#000000\" points=\"80.8626,-21.5001 90.8626,-18 80.8625,-14.5001 80.8626,-21.5001\"/>\n",
       "</g>\n",
       "<!-- loss -->\n",
       "<g id=\"node3\" class=\"node\">\n",
       "<title>loss</title>\n",
       "<ellipse fill=\"none\" stroke=\"#000000\" cx=\"225.1938\" cy=\"-52\" rx=\"27\" ry=\"18\"/>\n",
       "<text text-anchor=\"middle\" x=\"225.1938\" y=\"-48.3\" font-family=\"Times,serif\" font-size=\"14.00\" fill=\"#000000\">loss</text>\n",
       "</g>\n",
       "<!-- predict&#45;&gt;loss -->\n",
       "<g id=\"edge2\" class=\"edge\">\n",
       "<title>predict&#45;&gt;loss</title>\n",
       "<path fill=\"none\" stroke=\"#000000\" d=\"M155.2932,-28.0172C166.6224,-31.9043 179.6698,-36.3808 191.4018,-40.406\"/>\n",
       "<polygon fill=\"#000000\" stroke=\"#000000\" points=\"190.2859,-43.7234 200.8806,-43.6582 192.5577,-37.1023 190.2859,-43.7234\"/>\n",
       "</g>\n",
       "<!-- gradient -->\n",
       "<g id=\"node4\" class=\"node\">\n",
       "<title>gradient</title>\n",
       "<ellipse fill=\"none\" stroke=\"#000000\" cx=\"361.8403\" cy=\"-52\" rx=\"39.7935\" ry=\"18\"/>\n",
       "<text text-anchor=\"middle\" x=\"361.8403\" y=\"-48.3\" font-family=\"Times,serif\" font-size=\"14.00\" fill=\"#000000\">gradient</text>\n",
       "</g>\n",
       "<!-- loss&#45;&gt;gradient -->\n",
       "<g id=\"edge3\" class=\"edge\">\n",
       "<title>loss&#45;&gt;gradient</title>\n",
       "<path fill=\"none\" stroke=\"#000000\" d=\"M252.5178,-52C269.4967,-52 291.836,-52 311.8929,-52\"/>\n",
       "<polygon fill=\"#000000\" stroke=\"#000000\" points=\"312.1329,-55.5001 322.1329,-52 312.1328,-48.5001 312.1329,-55.5001\"/>\n",
       "</g>\n",
       "<!-- step -->\n",
       "<g id=\"node5\" class=\"node\">\n",
       "<title>step</title>\n",
       "<ellipse fill=\"none\" stroke=\"#000000\" cx=\"465.4867\" cy=\"-18\" rx=\"27\" ry=\"18\"/>\n",
       "<text text-anchor=\"middle\" x=\"465.4867\" y=\"-14.3\" font-family=\"Times,serif\" font-size=\"14.00\" fill=\"#000000\">step</text>\n",
       "</g>\n",
       "<!-- gradient&#45;&gt;step -->\n",
       "<g id=\"edge4\" class=\"edge\">\n",
       "<title>gradient&#45;&gt;step</title>\n",
       "<path fill=\"none\" stroke=\"#000000\" d=\"M394.0665,-41.4286C405.9515,-37.5298 419.4492,-33.1021 431.4862,-29.1535\"/>\n",
       "<polygon fill=\"#000000\" stroke=\"#000000\" points=\"432.7754,-32.4142 441.1862,-25.9715 430.5935,-25.7629 432.7754,-32.4142\"/>\n",
       "</g>\n",
       "<!-- step&#45;&gt;predict -->\n",
       "<g id=\"edge6\" class=\"edge\">\n",
       "<title>step&#45;&gt;predict</title>\n",
       "<path fill=\"none\" stroke=\"#000000\" d=\"M438.4132,-18C380.3272,-18 243.2155,-18 171.5401,-18\"/>\n",
       "<polygon fill=\"#000000\" stroke=\"#000000\" points=\"171.4571,-14.5001 161.4571,-18 171.4571,-21.5001 171.4571,-14.5001\"/>\n",
       "<text text-anchor=\"middle\" x=\"287.1938\" y=\"-21.8\" font-family=\"Times,serif\" font-size=\"14.00\" fill=\"#000000\">repeat</text>\n",
       "</g>\n",
       "<!-- stop -->\n",
       "<g id=\"node6\" class=\"node\">\n",
       "<title>stop</title>\n",
       "<ellipse fill=\"none\" stroke=\"#000000\" cx=\"556.4867\" cy=\"-18\" rx=\"27\" ry=\"18\"/>\n",
       "<text text-anchor=\"middle\" x=\"556.4867\" y=\"-14.3\" font-family=\"Times,serif\" font-size=\"14.00\" fill=\"#000000\">stop</text>\n",
       "</g>\n",
       "<!-- step&#45;&gt;stop -->\n",
       "<g id=\"edge5\" class=\"edge\">\n",
       "<title>step&#45;&gt;stop</title>\n",
       "<path fill=\"none\" stroke=\"#000000\" d=\"M492.7897,-18C501.068,-18 510.3085,-18 519.1272,-18\"/>\n",
       "<polygon fill=\"#000000\" stroke=\"#000000\" points=\"519.203,-21.5001 529.203,-18 519.203,-14.5001 519.203,-21.5001\"/>\n",
       "</g>\n",
       "</g>\n",
       "</svg>\n"
      ],
      "text/plain": [
       "<graphviz.files.Source at 0x7f542a69d220>"
      ]
     },
     "execution_count": 112,
     "metadata": {},
     "output_type": "execute_result"
    }
   ],
   "source": [
    "gv('''\n",
    "init->predict->loss->gradient->step->stop\n",
    "step->predict[label=repeat]\n",
    "''')"
   ]
  },
  {
   "cell_type": "markdown",
   "metadata": {},
   "source": [
    "## The MNIST Loss Function"
   ]
  },
  {
   "cell_type": "code",
   "execution_count": 69,
   "metadata": {},
   "outputs": [],
   "source": [
    "train_x = torch.cat([stacked_threes, stacked_sevens]).view(-1, 28*28)"
   ]
  },
  {
   "cell_type": "code",
   "execution_count": 70,
   "metadata": {},
   "outputs": [
    {
     "data": {
      "text/plain": [
       "(torch.Size([12396, 784]), torch.Size([12396, 1]))"
      ]
     },
     "execution_count": 70,
     "metadata": {},
     "output_type": "execute_result"
    }
   ],
   "source": [
    "train_y = tensor([1]*len(threes) + [0]*len(sevens)).unsqueeze(1)\n",
    "train_x.shape,train_y.shape"
   ]
  },
  {
   "cell_type": "code",
   "execution_count": 71,
   "metadata": {},
   "outputs": [
    {
     "data": {
      "text/plain": [
       "(torch.Size([784]), tensor([1]))"
      ]
     },
     "execution_count": 71,
     "metadata": {},
     "output_type": "execute_result"
    }
   ],
   "source": [
    "dset = list(zip(train_x,train_y))\n",
    "x,y = dset[0]\n",
    "x.shape,y"
   ]
  },
  {
   "cell_type": "code",
   "execution_count": 72,
   "metadata": {},
   "outputs": [],
   "source": [
    "valid_x = torch.cat([valid_3_tens, valid_7_tens]).view(-1, 28*28)\n",
    "valid_y = tensor([1]*len(valid_3_tens) + [0]*len(valid_7_tens)).unsqueeze(1)\n",
    "valid_dset = list(zip(valid_x,valid_y))"
   ]
  },
  {
   "cell_type": "code",
   "execution_count": 73,
   "metadata": {},
   "outputs": [],
   "source": [
    "def init_params(size, std=1.0): return (torch.randn(size)*std).requires_grad_()"
   ]
  },
  {
   "cell_type": "markdown",
   "metadata": {},
   "source": [
    "initialize weights and bias"
   ]
  },
  {
   "cell_type": "code",
   "execution_count": 74,
   "metadata": {},
   "outputs": [],
   "source": [
    "weights = init_params((28*28,1))"
   ]
  },
  {
   "cell_type": "code",
   "execution_count": 75,
   "metadata": {},
   "outputs": [],
   "source": [
    "bias = init_params(1)"
   ]
  },
  {
   "cell_type": "code",
   "execution_count": 76,
   "metadata": {},
   "outputs": [
    {
     "data": {
      "text/plain": [
       "tensor([20.2336], grad_fn=<AddBackward0>)"
      ]
     },
     "execution_count": 76,
     "metadata": {},
     "output_type": "execute_result"
    }
   ],
   "source": [
    "(train_x[0]*weights.T).sum() + bias"
   ]
  },
  {
   "cell_type": "code",
   "execution_count": 81,
   "metadata": {},
   "outputs": [
    {
     "data": {
      "text/plain": [
       "tensor([[20.2336],\n",
       "        [17.0644],\n",
       "        [15.2384],\n",
       "        ...,\n",
       "        [18.3804],\n",
       "        [23.8567],\n",
       "        [28.6816]], grad_fn=<AddBackward0>)"
      ]
     },
     "execution_count": 81,
     "metadata": {},
     "output_type": "execute_result"
    }
   ],
   "source": [
    "def linear1(xb): return xb@weights + bias\n",
    "preds = linear1(train_x)\n",
    "preds"
   ]
  },
  {
   "cell_type": "code",
   "execution_count": 77,
   "metadata": {},
   "outputs": [
    {
     "data": {
      "text/plain": [
       "tensor([[ True, False, False,  ..., False, False, False],\n",
       "        [ True, False, False,  ..., False, False, False],\n",
       "        [ True, False, False,  ..., False, False, False],\n",
       "        ...,\n",
       "        [False,  True,  True,  ...,  True,  True,  True],\n",
       "        [False,  True,  True,  ...,  True,  True,  True],\n",
       "        [False,  True,  True,  ...,  True,  True,  True]])"
      ]
     },
     "execution_count": 77,
     "metadata": {},
     "output_type": "execute_result"
    }
   ],
   "source": [
    "corrects = (preds>0.0).float() == train_y\n",
    "corrects"
   ]
  },
  {
   "cell_type": "code",
   "execution_count": 78,
   "metadata": {},
   "outputs": [
    {
     "data": {
      "text/plain": [
       "0.5048644542694092"
      ]
     },
     "execution_count": 78,
     "metadata": {},
     "output_type": "execute_result"
    }
   ],
   "source": [
    "corrects.float().mean().item()"
   ]
  },
  {
   "cell_type": "code",
   "execution_count": 79,
   "metadata": {},
   "outputs": [],
   "source": [
    "with torch.no_grad():\n",
    "    weights[0] *= 1.0001"
   ]
  },
  {
   "cell_type": "code",
   "execution_count": 98,
   "metadata": {},
   "outputs": [
    {
     "data": {
      "text/plain": [
       "0.4912068545818329"
      ]
     },
     "execution_count": 98,
     "metadata": {},
     "output_type": "execute_result"
    }
   ],
   "source": [
    "preds = linear1(train_x)\n",
    "((preds>0.0).float() == train_y).float().mean().item()"
   ]
  },
  {
   "cell_type": "code",
   "execution_count": 99,
   "metadata": {},
   "outputs": [
    {
     "data": {
      "text/plain": [
       "0.0"
      ]
     },
     "execution_count": 99,
     "metadata": {},
     "output_type": "execute_result"
    }
   ],
   "source": [
    "(preds.float() == train_y).float().mean().item()"
   ]
  },
  {
   "cell_type": "code",
   "execution_count": 86,
   "metadata": {},
   "outputs": [],
   "source": [
    "trgts  = tensor([1,0,1])\n",
    "prds   = tensor([0.9, 0.4, 0.2])"
   ]
  },
  {
   "cell_type": "code",
   "execution_count": 87,
   "metadata": {},
   "outputs": [],
   "source": [
    "def mnist_loss(predictions, targets):\n",
    "    return torch.where(targets==1, 1-predictions, predictions).mean()"
   ]
  },
  {
   "cell_type": "code",
   "execution_count": 88,
   "metadata": {},
   "outputs": [
    {
     "data": {
      "text/plain": [
       "tensor([0.1000, 0.4000, 0.8000])"
      ]
     },
     "execution_count": 88,
     "metadata": {},
     "output_type": "execute_result"
    }
   ],
   "source": [
    "torch.where(trgts==1, 1-prds, prds)"
   ]
  },
  {
   "cell_type": "code",
   "execution_count": 89,
   "metadata": {},
   "outputs": [
    {
     "data": {
      "text/plain": [
       "tensor(0.4333)"
      ]
     },
     "execution_count": 89,
     "metadata": {},
     "output_type": "execute_result"
    }
   ],
   "source": [
    "mnist_loss(prds,trgts)"
   ]
  },
  {
   "cell_type": "code",
   "execution_count": 90,
   "metadata": {},
   "outputs": [
    {
     "data": {
      "text/plain": [
       "tensor(0.2333)"
      ]
     },
     "execution_count": 90,
     "metadata": {},
     "output_type": "execute_result"
    }
   ],
   "source": [
    "mnist_loss(tensor([0.9, 0.4, 0.8]),trgts)"
   ]
  },
  {
   "cell_type": "markdown",
   "metadata": {},
   "source": [
    "### Sigmoid"
   ]
  },
  {
   "cell_type": "code",
   "execution_count": 131,
   "metadata": {},
   "outputs": [],
   "source": [
    "def sigmoid(x): return 1/(1+torch.exp(-x))"
   ]
  },
  {
   "cell_type": "code",
   "execution_count": 132,
   "metadata": {},
   "outputs": [
    {
     "data": {
      "image/png": "[encoded data removed]",
      "text/plain": [
       "<Figure size 432x288 with 1 Axes>"
      ]
     },
     "metadata": {
      "needs_background": "light"
     },
     "output_type": "display_data"
    }
   ],
   "source": [
    "plot_function(torch.sigmoid, title='Sigmoid', min=-4, max=4)"
   ]
  },
  {
   "cell_type": "code",
   "execution_count": 133,
   "metadata": {},
   "outputs": [],
   "source": [
    "def mnist_loss(predictions, targets):\n",
    "    predictions = predictions.sigmoid()\n",
    "    return torch.where(targets==1, 1-predictions, predictions).mean()"
   ]
  },
  {
   "cell_type": "markdown",
   "metadata": {},
   "source": [
    "### SGD and Mini-Batches"
   ]
  },
  {
   "cell_type": "code",
   "execution_count": 134,
   "metadata": {},
   "outputs": [
    {
     "data": {
      "text/plain": [
       "[tensor([ 3, 12,  8, 10,  2]),\n",
       " tensor([ 9,  4,  7, 14,  5]),\n",
       " tensor([ 1, 13,  0,  6, 11])]"
      ]
     },
     "execution_count": 134,
     "metadata": {},
     "output_type": "execute_result"
    }
   ],
   "source": [
    "coll = range(15)\n",
    "dl = DataLoader(coll, batch_size=5, shuffle=True)\n",
    "list(dl)"
   ]
  },
  {
   "cell_type": "code",
   "execution_count": 135,
   "metadata": {},
   "outputs": [
    {
     "data": {
      "text/plain": [
       "(#26) [(0, 'a'),(1, 'b'),(2, 'c'),(3, 'd'),(4, 'e'),(5, 'f'),(6, 'g'),(7, 'h'),(8, 'i'),(9, 'j')...]"
      ]
     },
     "execution_count": 135,
     "metadata": {},
     "output_type": "execute_result"
    }
   ],
   "source": [
    "ds = L(enumerate(string.ascii_lowercase))\n",
    "ds"
   ]
  },
  {
   "cell_type": "code",
   "execution_count": 136,
   "metadata": {},
   "outputs": [
    {
     "data": {
      "text/plain": [
       "[(tensor([17, 18, 10, 22,  8, 14]), ('r', 's', 'k', 'w', 'i', 'o')),\n",
       " (tensor([20, 15,  9, 13, 21, 12]), ('u', 'p', 'j', 'n', 'v', 'm')),\n",
       " (tensor([ 7, 25,  6,  5, 11, 23]), ('h', 'z', 'g', 'f', 'l', 'x')),\n",
       " (tensor([ 1,  3,  0, 24, 19, 16]), ('b', 'd', 'a', 'y', 't', 'q')),\n",
       " (tensor([2, 4]), ('c', 'e'))]"
      ]
     },
     "execution_count": 136,
     "metadata": {},
     "output_type": "execute_result"
    }
   ],
   "source": [
    "dl = DataLoader(ds, batch_size=6, shuffle=True)\n",
    "list(dl)"
   ]
  },
  {
   "cell_type": "markdown",
   "metadata": {},
   "source": [
    "## Putting It All Together"
   ]
  },
  {
   "cell_type": "code",
   "execution_count": 137,
   "metadata": {},
   "outputs": [],
   "source": [
    "weights = init_params((28*28,1))\n",
    "bias = init_params(1)"
   ]
  },
  {
   "cell_type": "code",
   "execution_count": 138,
   "metadata": {},
   "outputs": [
    {
     "data": {
      "text/plain": [
       "(torch.Size([256, 784]), torch.Size([256, 1]))"
      ]
     },
     "execution_count": 138,
     "metadata": {},
     "output_type": "execute_result"
    }
   ],
   "source": [
    "dl = DataLoader(dset, batch_size=256)\n",
    "xb,yb = first(dl)\n",
    "xb.shape,yb.shape"
   ]
  },
  {
   "cell_type": "code",
   "execution_count": 139,
   "metadata": {},
   "outputs": [],
   "source": [
    "valid_dl = DataLoader(valid_dset, batch_size=256)"
   ]
  },
  {
   "cell_type": "code",
   "execution_count": 140,
   "metadata": {},
   "outputs": [
    {
     "data": {
      "text/plain": [
       "torch.Size([4, 784])"
      ]
     },
     "execution_count": 140,
     "metadata": {},
     "output_type": "execute_result"
    }
   ],
   "source": [
    "batch = train_x[:4]\n",
    "batch.shape"
   ]
  },
  {
   "cell_type": "code",
   "execution_count": 141,
   "metadata": {},
   "outputs": [
    {
     "data": {
      "text/plain": [
       "tensor([[-2.1876],\n",
       "        [-8.3973],\n",
       "        [ 2.5000],\n",
       "        [-4.9473]], grad_fn=<AddBackward0>)"
      ]
     },
     "execution_count": 141,
     "metadata": {},
     "output_type": "execute_result"
    }
   ],
   "source": [
    "preds = linear1(batch)\n",
    "preds"
   ]
  },
  {
   "cell_type": "code",
   "execution_count": 142,
   "metadata": {},
   "outputs": [
    {
     "data": {
      "text/plain": [
       "tensor(0.7419, grad_fn=<MeanBackward0>)"
      ]
     },
     "execution_count": 142,
     "metadata": {},
     "output_type": "execute_result"
    }
   ],
   "source": [
    "loss = mnist_loss(preds, train_y[:4])\n",
    "loss"
   ]
  },
  {
   "cell_type": "code",
   "execution_count": 143,
   "metadata": {},
   "outputs": [
    {
     "data": {
      "text/plain": [
       "(torch.Size([784, 1]), tensor(-0.0061), tensor([-0.0420]))"
      ]
     },
     "execution_count": 143,
     "metadata": {},
     "output_type": "execute_result"
    }
   ],
   "source": [
    "loss.backward()\n",
    "weights.grad.shape,weights.grad.mean(),bias.grad"
   ]
  },
  {
   "cell_type": "code",
   "execution_count": 144,
   "metadata": {},
   "outputs": [],
   "source": [
    "def calc_grad(xb, yb, model):\n",
    "    preds = model(xb)\n",
    "    loss = mnist_loss(preds, yb)\n",
    "    loss.backward()"
   ]
  },
  {
   "cell_type": "code",
   "execution_count": 145,
   "metadata": {},
   "outputs": [
    {
     "data": {
      "text/plain": [
       "(tensor(-0.0121), tensor([-0.0840]))"
      ]
     },
     "execution_count": 145,
     "metadata": {},
     "output_type": "execute_result"
    }
   ],
   "source": [
    "calc_grad(batch, train_y[:4], linear1)\n",
    "weights.grad.mean(),bias.grad"
   ]
  },
  {
   "cell_type": "code",
   "execution_count": 146,
   "metadata": {},
   "outputs": [
    {
     "data": {
      "text/plain": [
       "(tensor(-0.0182), tensor([-0.1260]))"
      ]
     },
     "execution_count": 146,
     "metadata": {},
     "output_type": "execute_result"
    }
   ],
   "source": [
    "calc_grad(batch, train_y[:4], linear1)\n",
    "weights.grad.mean(),bias.grad"
   ]
  },
  {
   "cell_type": "code",
   "execution_count": 147,
   "metadata": {},
   "outputs": [],
   "source": [
    "weights.grad.zero_()\n",
    "bias.grad.zero_();"
   ]
  },
  {
   "cell_type": "code",
   "execution_count": 148,
   "metadata": {},
   "outputs": [],
   "source": [
    "def train_epoch(model, lr, params):\n",
    "    for xb,yb in dl:\n",
    "        calc_grad(xb, yb, model)\n",
    "        for p in params:\n",
    "            p.data -= p.grad*lr\n",
    "            p.grad.zero_()"
   ]
  },
  {
   "cell_type": "code",
   "execution_count": 149,
   "metadata": {},
   "outputs": [
    {
     "data": {
      "text/plain": [
       "tensor([[False],\n",
       "        [False],\n",
       "        [ True],\n",
       "        [False]])"
      ]
     },
     "execution_count": 149,
     "metadata": {},
     "output_type": "execute_result"
    }
   ],
   "source": [
    "(preds>0.0).float() == train_y[:4]"
   ]
  },
  {
   "cell_type": "code",
   "execution_count": 150,
   "metadata": {},
   "outputs": [],
   "source": [
    "def batch_accuracy(xb, yb):\n",
    "    preds = xb.sigmoid()\n",
    "    correct = (preds>0.5) == yb\n",
    "    return correct.float().mean()"
   ]
  },
  {
   "cell_type": "code",
   "execution_count": 151,
   "metadata": {},
   "outputs": [
    {
     "data": {
      "text/plain": [
       "tensor(0.2500)"
      ]
     },
     "execution_count": 151,
     "metadata": {},
     "output_type": "execute_result"
    }
   ],
   "source": [
    "batch_accuracy(linear1(batch), train_y[:4])"
   ]
  },
  {
   "cell_type": "code",
   "execution_count": 152,
   "metadata": {},
   "outputs": [],
   "source": [
    "def validate_epoch(model):\n",
    "    accs = [batch_accuracy(model(xb), yb) for xb,yb in valid_dl]\n",
    "    return round(torch.stack(accs).mean().item(), 4)"
   ]
  },
  {
   "cell_type": "code",
   "execution_count": 153,
   "metadata": {},
   "outputs": [
    {
     "data": {
      "text/plain": [
       "0.5263"
      ]
     },
     "execution_count": 153,
     "metadata": {},
     "output_type": "execute_result"
    }
   ],
   "source": [
    "validate_epoch(linear1)"
   ]
  },
  {
   "cell_type": "code",
   "execution_count": 154,
   "metadata": {},
   "outputs": [
    {
     "data": {
      "text/plain": [
       "0.6664"
      ]
     },
     "execution_count": 154,
     "metadata": {},
     "output_type": "execute_result"
    }
   ],
   "source": [
    "lr = 1.\n",
    "params = weights,bias\n",
    "train_epoch(linear1, lr, params)\n",
    "validate_epoch(linear1)"
   ]
  },
  {
   "cell_type": "code",
   "execution_count": 155,
   "metadata": {},
   "outputs": [
    {
     "name": "stdout",
     "output_type": "stream",
     "text": [
      "0.8266 0.89 0.9184 0.9276 0.9398 0.9467 0.9506 0.9525 0.956 0.9579 0.9599 0.9608 0.9613 0.9618 0.9633 0.9638 0.9647 0.9657 0.9672 0.9677 "
     ]
    }
   ],
   "source": [
    "for i in range(20):\n",
    "    train_epoch(linear1, lr, params)\n",
    "    print(validate_epoch(linear1), end=' ')"
   ]
  },
  {
   "cell_type": "markdown",
   "metadata": {},
   "source": [
    "### Creating an Optimizer"
   ]
  },
  {
   "cell_type": "code",
   "execution_count": 156,
   "metadata": {},
   "outputs": [],
   "source": [
    "linear_model = nn.Linear(28*28,1)"
   ]
  },
  {
   "cell_type": "code",
   "execution_count": 157,
   "metadata": {},
   "outputs": [
    {
     "data": {
      "text/plain": [
       "(torch.Size([1, 784]), torch.Size([1]))"
      ]
     },
     "execution_count": 157,
     "metadata": {},
     "output_type": "execute_result"
    }
   ],
   "source": [
    "w,b = linear_model.parameters()\n",
    "w.shape,b.shape"
   ]
  },
  {
   "cell_type": "code",
   "execution_count": 158,
   "metadata": {},
   "outputs": [],
   "source": [
    "class BasicOptim:\n",
    "    def __init__(self,params,lr): self.params,self.lr = list(params),lr\n",
    "\n",
    "    def step(self, *args, **kwargs):\n",
    "        for p in self.params: p.data -= p.grad.data * self.lr\n",
    "\n",
    "    def zero_grad(self, *args, **kwargs):\n",
    "        for p in self.params: p.grad = None"
   ]
  },
  {
   "cell_type": "code",
   "execution_count": 159,
   "metadata": {},
   "outputs": [],
   "source": [
    "opt = BasicOptim(linear_model.parameters(), lr)"
   ]
  },
  {
   "cell_type": "code",
   "execution_count": 160,
   "metadata": {},
   "outputs": [],
   "source": [
    "def train_epoch(model):\n",
    "    for xb,yb in dl:\n",
    "        calc_grad(xb, yb, model)\n",
    "        opt.step()\n",
    "        opt.zero_grad()"
   ]
  },
  {
   "cell_type": "code",
   "execution_count": 161,
   "metadata": {},
   "outputs": [
    {
     "data": {
      "text/plain": [
       "0.4609"
      ]
     },
     "execution_count": 161,
     "metadata": {},
     "output_type": "execute_result"
    }
   ],
   "source": [
    "validate_epoch(linear_model)"
   ]
  },
  {
   "cell_type": "code",
   "execution_count": 162,
   "metadata": {},
   "outputs": [],
   "source": [
    "def train_model(model, epochs):\n",
    "    for i in range(epochs):\n",
    "        train_epoch(model)\n",
    "        print(validate_epoch(model), end=' ')"
   ]
  },
  {
   "cell_type": "code",
   "execution_count": 163,
   "metadata": {},
   "outputs": [
    {
     "name": "stdout",
     "output_type": "stream",
     "text": [
      "0.4932 0.7686 0.8555 0.9136 0.9346 0.9482 0.957 0.9634 0.9658 0.9678 0.9697 0.9717 0.9736 0.9746 0.9761 0.9771 0.9775 0.9775 0.978 0.9785 "
     ]
    }
   ],
   "source": [
    "train_model(linear_model, 20)"
   ]
  },
  {
   "cell_type": "code",
   "execution_count": 164,
   "metadata": {},
   "outputs": [
    {
     "name": "stdout",
     "output_type": "stream",
     "text": [
      "0.4932 0.8179 0.8496 0.9141 0.9346 0.9482 0.957 0.9619 0.9658 0.9673 0.9692 0.9712 0.9741 0.9751 0.9761 0.9775 0.9775 0.978 0.9785 0.979 "
     ]
    }
   ],
   "source": [
    "linear_model = nn.Linear(28*28,1)\n",
    "opt = SGD(linear_model.parameters(), lr)\n",
    "train_model(linear_model, 20)"
   ]
  },
  {
   "cell_type": "code",
   "execution_count": 165,
   "metadata": {},
   "outputs": [],
   "source": [
    "dls = DataLoaders(dl, valid_dl)"
   ]
  },
  {
   "cell_type": "code",
   "execution_count": 166,
   "metadata": {},
   "outputs": [],
   "source": [
    "learn = Learner(dls, nn.Linear(28*28,1), opt_func=SGD,\n",
    "                loss_func=mnist_loss, metrics=batch_accuracy)"
   ]
  },
  {
   "cell_type": "code",
   "execution_count": 167,
   "metadata": {},
   "outputs": [
    {
     "data": {
      "text/html": [
       "<table border=\"1\" class=\"dataframe\">\n",
       "  <thead>\n",
       "    <tr style=\"text-align: left;\">\n",
       "      <th>epoch</th>\n",
       "      <th>train_loss</th>\n",
       "      <th>valid_loss</th>\n",
       "      <th>batch_accuracy</th>\n",
       "      <th>time</th>\n",
       "    </tr>\n",
       "  </thead>\n",
       "  <tbody>\n",
       "    <tr>\n",
       "      <td>0</td>\n",
       "      <td>0.636709</td>\n",
       "      <td>0.503144</td>\n",
       "      <td>0.495584</td>\n",
       "      <td>00:00</td>\n",
       "    </tr>\n",
       "    <tr>\n",
       "      <td>1</td>\n",
       "      <td>0.429828</td>\n",
       "      <td>0.248517</td>\n",
       "      <td>0.777233</td>\n",
       "      <td>00:00</td>\n",
       "    </tr>\n",
       "    <tr>\n",
       "      <td>2</td>\n",
       "      <td>0.161680</td>\n",
       "      <td>0.155361</td>\n",
       "      <td>0.861629</td>\n",
       "      <td>00:00</td>\n",
       "    </tr>\n",
       "    <tr>\n",
       "      <td>3</td>\n",
       "      <td>0.072948</td>\n",
       "      <td>0.097722</td>\n",
       "      <td>0.917566</td>\n",
       "      <td>00:00</td>\n",
       "    </tr>\n",
       "    <tr>\n",
       "      <td>4</td>\n",
       "      <td>0.040128</td>\n",
       "      <td>0.073205</td>\n",
       "      <td>0.936212</td>\n",
       "      <td>00:00</td>\n",
       "    </tr>\n",
       "    <tr>\n",
       "      <td>5</td>\n",
       "      <td>0.027210</td>\n",
       "      <td>0.059466</td>\n",
       "      <td>0.950442</td>\n",
       "      <td>00:00</td>\n",
       "    </tr>\n",
       "    <tr>\n",
       "      <td>6</td>\n",
       "      <td>0.021837</td>\n",
       "      <td>0.050799</td>\n",
       "      <td>0.957802</td>\n",
       "      <td>00:00</td>\n",
       "    </tr>\n",
       "    <tr>\n",
       "      <td>7</td>\n",
       "      <td>0.019398</td>\n",
       "      <td>0.044980</td>\n",
       "      <td>0.964181</td>\n",
       "      <td>00:00</td>\n",
       "    </tr>\n",
       "    <tr>\n",
       "      <td>8</td>\n",
       "      <td>0.018122</td>\n",
       "      <td>0.040853</td>\n",
       "      <td>0.966143</td>\n",
       "      <td>00:00</td>\n",
       "    </tr>\n",
       "    <tr>\n",
       "      <td>9</td>\n",
       "      <td>0.017330</td>\n",
       "      <td>0.037788</td>\n",
       "      <td>0.968106</td>\n",
       "      <td>00:00</td>\n",
       "    </tr>\n",
       "  </tbody>\n",
       "</table>"
      ],
      "text/plain": [
       "<IPython.core.display.HTML object>"
      ]
     },
     "metadata": {},
     "output_type": "display_data"
    }
   ],
   "source": [
    "learn.fit(10, lr=lr)"
   ]
  },
  {
   "cell_type": "markdown",
   "metadata": {},
   "source": [
    "## Adding a Nonlinearity"
   ]
  },
  {
   "cell_type": "code",
   "execution_count": 101,
   "metadata": {},
   "outputs": [],
   "source": [
    "def simple_net(xb): \n",
    "    res = xb@w1 + b1\n",
    "    res = res.max(tensor(0.0))\n",
    "    res = res@w2 + b2\n",
    "    return res"
   ]
  },
  {
   "cell_type": "code",
   "execution_count": 102,
   "metadata": {},
   "outputs": [],
   "source": [
    "w1 = init_params((28*28,30))\n",
    "b1 = init_params(30)\n",
    "w2 = init_params((30,1))\n",
    "b2 = init_params(1)"
   ]
  },
  {
   "cell_type": "code",
   "execution_count": 103,
   "metadata": {},
   "outputs": [
    {
     "data": {
      "image/png": "[encoded data removed]",
      "text/plain": [
       "<Figure size 432x288 with 1 Axes>"
      ]
     },
     "metadata": {
      "needs_background": "light"
     },
     "output_type": "display_data"
    }
   ],
   "source": [
    "plot_function(F.relu)"
   ]
  },
  {
   "cell_type": "code",
   "execution_count": 171,
   "metadata": {},
   "outputs": [],
   "source": [
    "simple_net = nn.Sequential(\n",
    "    nn.Linear(28*28,30),\n",
    "    nn.ReLU(),\n",
    "    nn.Linear(30,1)\n",
    ")"
   ]
  },
  {
   "cell_type": "code",
   "execution_count": 172,
   "metadata": {},
   "outputs": [],
   "source": [
    "learn = Learner(dls, simple_net, opt_func=SGD,\n",
    "                loss_func=mnist_loss, metrics=batch_accuracy)"
   ]
  },
  {
   "cell_type": "code",
   "execution_count": 173,
   "metadata": {},
   "outputs": [
    {
     "data": {
      "text/html": [
       "<table border=\"1\" class=\"dataframe\">\n",
       "  <thead>\n",
       "    <tr style=\"text-align: left;\">\n",
       "      <th>epoch</th>\n",
       "      <th>train_loss</th>\n",
       "      <th>valid_loss</th>\n",
       "      <th>batch_accuracy</th>\n",
       "      <th>time</th>\n",
       "    </tr>\n",
       "  </thead>\n",
       "  <tbody>\n",
       "    <tr>\n",
       "      <td>0</td>\n",
       "      <td>0.333021</td>\n",
       "      <td>0.396112</td>\n",
       "      <td>0.512267</td>\n",
       "      <td>00:00</td>\n",
       "    </tr>\n",
       "    <tr>\n",
       "      <td>1</td>\n",
       "      <td>0.152461</td>\n",
       "      <td>0.235238</td>\n",
       "      <td>0.797350</td>\n",
       "      <td>00:00</td>\n",
       "    </tr>\n",
       "    <tr>\n",
       "      <td>2</td>\n",
       "      <td>0.083573</td>\n",
       "      <td>0.117471</td>\n",
       "      <td>0.911678</td>\n",
       "      <td>00:00</td>\n",
       "    </tr>\n",
       "    <tr>\n",
       "      <td>3</td>\n",
       "      <td>0.054309</td>\n",
       "      <td>0.078720</td>\n",
       "      <td>0.940628</td>\n",
       "      <td>00:00</td>\n",
       "    </tr>\n",
       "    <tr>\n",
       "      <td>4</td>\n",
       "      <td>0.040829</td>\n",
       "      <td>0.061228</td>\n",
       "      <td>0.956330</td>\n",
       "      <td>00:00</td>\n",
       "    </tr>\n",
       "    <tr>\n",
       "      <td>5</td>\n",
       "      <td>0.034006</td>\n",
       "      <td>0.051490</td>\n",
       "      <td>0.963690</td>\n",
       "      <td>00:00</td>\n",
       "    </tr>\n",
       "    <tr>\n",
       "      <td>6</td>\n",
       "      <td>0.030123</td>\n",
       "      <td>0.045381</td>\n",
       "      <td>0.966634</td>\n",
       "      <td>00:00</td>\n",
       "    </tr>\n",
       "    <tr>\n",
       "      <td>7</td>\n",
       "      <td>0.027619</td>\n",
       "      <td>0.041218</td>\n",
       "      <td>0.968106</td>\n",
       "      <td>00:00</td>\n",
       "    </tr>\n",
       "    <tr>\n",
       "      <td>8</td>\n",
       "      <td>0.025825</td>\n",
       "      <td>0.038200</td>\n",
       "      <td>0.969087</td>\n",
       "      <td>00:00</td>\n",
       "    </tr>\n",
       "    <tr>\n",
       "      <td>9</td>\n",
       "      <td>0.024441</td>\n",
       "      <td>0.035901</td>\n",
       "      <td>0.969578</td>\n",
       "      <td>00:00</td>\n",
       "    </tr>\n",
       "    <tr>\n",
       "      <td>10</td>\n",
       "      <td>0.023321</td>\n",
       "      <td>0.034082</td>\n",
       "      <td>0.971541</td>\n",
       "      <td>00:00</td>\n",
       "    </tr>\n",
       "    <tr>\n",
       "      <td>11</td>\n",
       "      <td>0.022387</td>\n",
       "      <td>0.032598</td>\n",
       "      <td>0.972031</td>\n",
       "      <td>00:00</td>\n",
       "    </tr>\n",
       "    <tr>\n",
       "      <td>12</td>\n",
       "      <td>0.021592</td>\n",
       "      <td>0.031353</td>\n",
       "      <td>0.974485</td>\n",
       "      <td>00:00</td>\n",
       "    </tr>\n",
       "    <tr>\n",
       "      <td>13</td>\n",
       "      <td>0.020904</td>\n",
       "      <td>0.030284</td>\n",
       "      <td>0.975466</td>\n",
       "      <td>00:00</td>\n",
       "    </tr>\n",
       "    <tr>\n",
       "      <td>14</td>\n",
       "      <td>0.020300</td>\n",
       "      <td>0.029352</td>\n",
       "      <td>0.975466</td>\n",
       "      <td>00:00</td>\n",
       "    </tr>\n",
       "    <tr>\n",
       "      <td>15</td>\n",
       "      <td>0.019766</td>\n",
       "      <td>0.028526</td>\n",
       "      <td>0.975466</td>\n",
       "      <td>00:00</td>\n",
       "    </tr>\n",
       "    <tr>\n",
       "      <td>16</td>\n",
       "      <td>0.019288</td>\n",
       "      <td>0.027788</td>\n",
       "      <td>0.976448</td>\n",
       "      <td>00:00</td>\n",
       "    </tr>\n",
       "    <tr>\n",
       "      <td>17</td>\n",
       "      <td>0.018857</td>\n",
       "      <td>0.027124</td>\n",
       "      <td>0.977429</td>\n",
       "      <td>00:00</td>\n",
       "    </tr>\n",
       "    <tr>\n",
       "      <td>18</td>\n",
       "      <td>0.018465</td>\n",
       "      <td>0.026523</td>\n",
       "      <td>0.978410</td>\n",
       "      <td>00:00</td>\n",
       "    </tr>\n",
       "    <tr>\n",
       "      <td>19</td>\n",
       "      <td>0.018107</td>\n",
       "      <td>0.025977</td>\n",
       "      <td>0.978901</td>\n",
       "      <td>00:00</td>\n",
       "    </tr>\n",
       "    <tr>\n",
       "      <td>20</td>\n",
       "      <td>0.017777</td>\n",
       "      <td>0.025479</td>\n",
       "      <td>0.978901</td>\n",
       "      <td>00:00</td>\n",
       "    </tr>\n",
       "    <tr>\n",
       "      <td>21</td>\n",
       "      <td>0.017473</td>\n",
       "      <td>0.025022</td>\n",
       "      <td>0.979392</td>\n",
       "      <td>00:00</td>\n",
       "    </tr>\n",
       "    <tr>\n",
       "      <td>22</td>\n",
       "      <td>0.017191</td>\n",
       "      <td>0.024601</td>\n",
       "      <td>0.980373</td>\n",
       "      <td>00:00</td>\n",
       "    </tr>\n",
       "    <tr>\n",
       "      <td>23</td>\n",
       "      <td>0.016927</td>\n",
       "      <td>0.024213</td>\n",
       "      <td>0.980373</td>\n",
       "      <td>00:00</td>\n",
       "    </tr>\n",
       "    <tr>\n",
       "      <td>24</td>\n",
       "      <td>0.016680</td>\n",
       "      <td>0.023855</td>\n",
       "      <td>0.981354</td>\n",
       "      <td>00:00</td>\n",
       "    </tr>\n",
       "    <tr>\n",
       "      <td>25</td>\n",
       "      <td>0.016449</td>\n",
       "      <td>0.023521</td>\n",
       "      <td>0.981354</td>\n",
       "      <td>00:00</td>\n",
       "    </tr>\n",
       "    <tr>\n",
       "      <td>26</td>\n",
       "      <td>0.016230</td>\n",
       "      <td>0.023211</td>\n",
       "      <td>0.981354</td>\n",
       "      <td>00:00</td>\n",
       "    </tr>\n",
       "    <tr>\n",
       "      <td>27</td>\n",
       "      <td>0.016023</td>\n",
       "      <td>0.022922</td>\n",
       "      <td>0.981354</td>\n",
       "      <td>00:00</td>\n",
       "    </tr>\n",
       "    <tr>\n",
       "      <td>28</td>\n",
       "      <td>0.015827</td>\n",
       "      <td>0.022653</td>\n",
       "      <td>0.981845</td>\n",
       "      <td>00:00</td>\n",
       "    </tr>\n",
       "    <tr>\n",
       "      <td>29</td>\n",
       "      <td>0.015641</td>\n",
       "      <td>0.022401</td>\n",
       "      <td>0.981845</td>\n",
       "      <td>00:00</td>\n",
       "    </tr>\n",
       "    <tr>\n",
       "      <td>30</td>\n",
       "      <td>0.015463</td>\n",
       "      <td>0.022165</td>\n",
       "      <td>0.981845</td>\n",
       "      <td>00:00</td>\n",
       "    </tr>\n",
       "    <tr>\n",
       "      <td>31</td>\n",
       "      <td>0.015294</td>\n",
       "      <td>0.021944</td>\n",
       "      <td>0.983317</td>\n",
       "      <td>00:00</td>\n",
       "    </tr>\n",
       "    <tr>\n",
       "      <td>32</td>\n",
       "      <td>0.015132</td>\n",
       "      <td>0.021736</td>\n",
       "      <td>0.982826</td>\n",
       "      <td>00:00</td>\n",
       "    </tr>\n",
       "    <tr>\n",
       "      <td>33</td>\n",
       "      <td>0.014977</td>\n",
       "      <td>0.021541</td>\n",
       "      <td>0.982826</td>\n",
       "      <td>00:00</td>\n",
       "    </tr>\n",
       "    <tr>\n",
       "      <td>34</td>\n",
       "      <td>0.014828</td>\n",
       "      <td>0.021357</td>\n",
       "      <td>0.982336</td>\n",
       "      <td>00:00</td>\n",
       "    </tr>\n",
       "    <tr>\n",
       "      <td>35</td>\n",
       "      <td>0.014686</td>\n",
       "      <td>0.021184</td>\n",
       "      <td>0.982336</td>\n",
       "      <td>00:00</td>\n",
       "    </tr>\n",
       "    <tr>\n",
       "      <td>36</td>\n",
       "      <td>0.014549</td>\n",
       "      <td>0.021019</td>\n",
       "      <td>0.982336</td>\n",
       "      <td>00:00</td>\n",
       "    </tr>\n",
       "    <tr>\n",
       "      <td>37</td>\n",
       "      <td>0.014417</td>\n",
       "      <td>0.020864</td>\n",
       "      <td>0.982336</td>\n",
       "      <td>00:00</td>\n",
       "    </tr>\n",
       "    <tr>\n",
       "      <td>38</td>\n",
       "      <td>0.014290</td>\n",
       "      <td>0.020716</td>\n",
       "      <td>0.982336</td>\n",
       "      <td>00:00</td>\n",
       "    </tr>\n",
       "    <tr>\n",
       "      <td>39</td>\n",
       "      <td>0.014168</td>\n",
       "      <td>0.020576</td>\n",
       "      <td>0.982336</td>\n",
       "      <td>00:00</td>\n",
       "    </tr>\n",
       "  </tbody>\n",
       "</table>"
      ],
      "text/plain": [
       "<IPython.core.display.HTML object>"
      ]
     },
     "metadata": {},
     "output_type": "display_data"
    }
   ],
   "source": [
    "learn.fit(40, 0.1)"
   ]
  },
  {
   "cell_type": "code",
   "execution_count": 174,
   "metadata": {},
   "outputs": [
    {
     "data": {
      "image/png": "[encoded data removed]",
      "text/plain": [
       "<Figure size 432x288 with 1 Axes>"
      ]
     },
     "metadata": {
      "needs_background": "light"
     },
     "output_type": "display_data"
    }
   ],
   "source": [
    "plt.plot(L(learn.recorder.values).itemgot(2));"
   ]
  },
  {
   "cell_type": "code",
   "execution_count": 175,
   "metadata": {},
   "outputs": [
    {
     "data": {
      "text/plain": [
       "0.98233562707901"
      ]
     },
     "execution_count": 175,
     "metadata": {},
     "output_type": "execute_result"
    }
   ],
   "source": [
    "learn.recorder.values[-1][2]"
   ]
  },
  {
   "cell_type": "markdown",
   "metadata": {},
   "source": [
    "### Going Deeper"
   ]
  },
  {
   "cell_type": "code",
   "execution_count": 176,
   "metadata": {},
   "outputs": [
    {
     "data": {
      "text/html": [
       "<table border=\"1\" class=\"dataframe\">\n",
       "  <thead>\n",
       "    <tr style=\"text-align: left;\">\n",
       "      <th>epoch</th>\n",
       "      <th>train_loss</th>\n",
       "      <th>valid_loss</th>\n",
       "      <th>accuracy</th>\n",
       "      <th>time</th>\n",
       "    </tr>\n",
       "  </thead>\n",
       "  <tbody>\n",
       "    <tr>\n",
       "      <td>0</td>\n",
       "      <td>0.086220</td>\n",
       "      <td>0.014674</td>\n",
       "      <td>0.996075</td>\n",
       "      <td>00:12</td>\n",
       "    </tr>\n",
       "  </tbody>\n",
       "</table>"
      ],
      "text/plain": [
       "<IPython.core.display.HTML object>"
      ]
     },
     "metadata": {},
     "output_type": "display_data"
    }
   ],
   "source": [
    "dls = ImageDataLoaders.from_folder(path)\n",
    "learn = cnn_learner(dls, resnet18, pretrained=False,\n",
    "                    loss_func=F.cross_entropy, metrics=accuracy)\n",
    "learn.fit_one_cycle(1, 0.1)"
   ]
  },
  {
   "cell_type": "markdown",
   "metadata": {},
   "source": [
    "## Jargon Recap"
   ]
  },
  {
   "cell_type": "markdown",
   "metadata": {},
   "source": [
    "## Questionnaire"
   ]
  },
  {
   "cell_type": "markdown",
   "metadata": {},
   "source": [
    "1. How is a grayscale image represented on a computer? How about a color image?\n",
    "1. How are the files and folders in the `MNIST_SAMPLE` dataset structured? Why?\n",
    "1. Explain how the \"pixel similarity\" approach to classifying digits works.\n",
    "1. What is a list comprehension? Create one now that selects odd numbers from a list and doubles them.\n",
    "1. What is a \"rank-3 tensor\"?\n",
    "1. What is the difference between tensor rank and shape? How do you get the rank from the shape?\n",
    "1. What are RMSE and L1 norm?\n",
    "1. How can you apply a calculation on thousands of numbers at once, many thousands of times faster than a Python loop?\n",
    "1. Create a 3×3 tensor or array containing the numbers from 1 to 9. Double it. Select the bottom-right four numbers.\n",
    "1. What is broadcasting?\n",
    "1. Are metrics generally calculated using the training set, or the validation set? Why?\n",
    "1. What is SGD?\n",
    "1. Why does SGD use mini-batches?\n",
    "1. What are the seven steps in SGD for machine learning?\n",
    "1. How do we initialize the weights in a model?\n",
    "1. What is \"loss\"?\n",
    "1. Why can't we always use a high learning rate?\n",
    "1. What is a \"gradient\"?\n",
    "1. Do you need to know how to calculate gradients yourself?\n",
    "1. Why can't we use accuracy as a loss function?\n",
    "1. Draw the sigmoid function. What is special about its shape?\n",
    "1. What is the difference between a loss function and a metric?\n",
    "1. What is the function to calculate new weights using a learning rate?\n",
    "1. What does the `DataLoader` class do?\n",
    "1. Write pseudocode showing the basic steps taken in each epoch for SGD.\n",
    "1. Create a function that, if passed two arguments `[1,2,3,4]` and `'abcd'`, returns `[(1, 'a'), (2, 'b'), (3, 'c'), (4, 'd')]`. What is special about that output data structure?\n",
    "1. What does `view` do in PyTorch?\n",
    "1. What are the \"bias\" parameters in a neural network? Why do we need them?\n",
    "1. What does the `@` operator do in Python?\n",
    "1. What does the `backward` method do?\n",
    "1. Why do we have to zero the gradients?\n",
    "1. What information do we have to pass to `Learner`?\n",
    "1. Show Python or pseudocode for the basic steps of a training loop.\n",
    "1. What is \"ReLU\"? Draw a plot of it for values from `-2` to `+2`.\n",
    "1. What is an \"activation function\"?\n",
    "1. What's the difference between `F.relu` and `nn.ReLU`?\n",
    "1. The universal approximation theorem shows that any function can be approximated as closely as needed using just one nonlinearity. So why do we normally use more?"
   ]
  },
  {
   "cell_type": "markdown",
   "metadata": {},
   "source": [
    "### Further Research"
   ]
  },
  {
   "cell_type": "markdown",
   "metadata": {},
   "source": [
    "1. Create your own implementation of `Learner` from scratch, based on the training loop shown in this chapter.\n",
    "1. Complete all the steps in this chapter using the full MNIST datasets (that is, for all digits, not just 3s and 7s). This is a significant project and will take you quite a bit of time to complete! You'll need to do some of your own research to figure out how to overcome some obstacles you'll meet on the way."
   ]
  },
  {
   "cell_type": "code",
   "execution_count": null,
   "metadata": {},
   "outputs": [],
   "source": []
  }
 ],
 "metadata": {
  "jupytext": {
   "split_at_heading": true
  },
  "kernelspec": {
   "display_name": "fastai",
   "language": "python",
   "name": "fastai"
  },
  "language_info": {
   "codemirror_mode": {
    "name": "ipython",
    "version": 3
   },
   "file_extension": ".py",
   "mimetype": "text/x-python",
   "name": "python",
   "nbconvert_exporter": "python",
   "pygments_lexer": "ipython3",
   "version": "3.8.12"
  }
 },
 "nbformat": 4,
 "nbformat_minor": 4
}
